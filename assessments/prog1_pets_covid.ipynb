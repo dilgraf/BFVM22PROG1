{
 "cells": [
  {
   "cell_type": "markdown",
   "id": "df6cf356",
   "metadata": {},
   "source": [
    "(5 pt) The research question is stated.  \n",
    "(5 pt) Links to sources are provided and a small description about the data  \n",
    "(20 pt) Data qualitity and data quantity are inspected and reported. Appropiate transformations are applied.  \n",
    "(20 pt) Assumptions and presuppositions are made explicit (chosen data storage method, chosen analysis method, chosen design). An argumentative approach is used explaining steps, taken into account data quality and quantity. Explanation is provided either with comments in the code or in a seperate document.  \n",
    "(10 pt) Interactive visualization is extracted from correct analysis of (incomplete) data  \n",
    "(10 pt) The design supports the research question. The data is informative in relation to the topic. Visualization is functional and attractive Figures contain X and Y labels, title and captions. (10)  \n",
    "(20 pt) Code is efficient coded, according to coding style without code smells and easy to read. Code is demonstrated robust and flexible  \n",
    "(10 pt) All the code is stored in repository with Readme including most relevant information to implement the code. used software is suitably licensed and documented"
   ]
  },
  {
   "cell_type": "markdown",
   "id": "972ac273",
   "metadata": {},
   "source": [
    "# The effect of pets on psychological state during the pandemics"
   ]
  },
  {
   "cell_type": "markdown",
   "id": "2289d7ef",
   "metadata": {},
   "source": [
    "<b>Table of contents:</b>\n",
    "1. [Data description](#description)\n",
    "2. [Data inspection](#inspection)\n",
    "    * [Data for Canada](#inspection_can)\n",
    "    * [Data for Australia](#inspection_aus)\n",
    "3. [Data analysis](#analysis)\n",
    "    * [Canada data analysis](#analysis_can)\n",
    "    * [Australia data analysis](#analysis_aus)\n",
    "4. [Hypothesis testing](#hypothesis)\n",
    "    * mental health of pet-owners is better than of those who don't have any pets\n",
    "    * self-perceived mental health for Australians pet_owners differs from Canadians"
   ]
  },
  {
   "cell_type": "markdown",
   "id": "46dea752",
   "metadata": {},
   "source": [
    "## <a id='#description'>Data description</a>"
   ]
  },
  {
   "cell_type": "markdown",
   "id": "3d231469",
   "metadata": {},
   "source": [
    "* Results from survey completed by Canadian residents in Apr-Nov 2021.   \n",
    "    Denis-Robichaud, Jose; Aenishaenslin, Cecile; Richard, Lucie; Desmarchelier, Marion; Carabin, Helene, 2021, \"Association between Pet Ownership and Mental Health and Well-Being of Canadians Assessed in a Cross-Sectional Study during the COVID-19 Pandemic\", https://doi.org/10.7910/DVN/JKDKWY, Harvard Dataverse, V5, UNF:6:7YJk+oBDFVpHnvlyBc1/Ew== [fileUNF]  \n",
    "    The dataset includes the 23 variables used in the published manuscript.\n",
    "    * D2: province or territory\n",
    "    * region: Canadian geographical regions\n",
    "    * O1: pet ownership\n",
    "    * O8b: change in pet ownership\n",
    "    * P1: pet attitude\n",
    "    * D1: age\n",
    "    * D5: highest level of education\n",
    "    * D67: ethnicity\n",
    "    * D4: gender\n",
    "    * D11: number of people in the household\n",
    "    * D8: yearly income\n",
    "    * E3: change in income since the beginning of the pandemic\n",
    "    * H2: disability\n",
    "    * H1Ax: emotional, psychological or mental health condition\n",
    "    * H4: change in mental health since the beginning of the pandemic\n",
    "    * H56: tested positive to COVID-19 (or household member)\n",
    "    * S: social support\n",
    "    * QOL: quality of life (EQ-5D-5L score converted on the scale developed for Canada)\n",
    "    * GH: self-assessed overall health\n",
    "    * L1: loneliness\n",
    "    * H3: perceived mental health\n",
    "    * Q2: self-reported level of stress\n",
    "    * Q1_cat: anxiety\n",
    "\n",
    "*  Results from survey completed by majorly Australian residents in Jul-Aug 2020  \n",
    "    Rohlf, Vanessa; Howell, Tiffani; Bennett, Pauleen (2021): Pandemic pets and people project. La Trobe. Dataset. https://doi.org/10.26181/60e7af7d87848 \n",
    "    "
   ]
  },
  {
   "cell_type": "markdown",
   "id": "e0110e5c",
   "metadata": {},
   "source": [
    "## <a id='inspection'>Data inspection</a>"
   ]
  },
  {
   "cell_type": "markdown",
   "id": "301868d5",
   "metadata": {},
   "source": [
    "### <a id='inspection_can'>Data for Canada</a>"
   ]
  },
  {
   "cell_type": "code",
   "execution_count": 204,
   "id": "41b8de1d",
   "metadata": {},
   "outputs": [
    {
     "data": {
      "text/html": [
       "\n",
       "    <div class=\"bk-root\">\n",
       "        <a href=\"https://bokeh.org\" target=\"_blank\" class=\"bk-logo bk-logo-small bk-logo-notebook\"></a>\n",
       "        <span id=\"1351\">Loading BokehJS ...</span>\n",
       "    </div>"
      ]
     },
     "metadata": {},
     "output_type": "display_data"
    },
    {
     "data": {
      "application/javascript": [
       "\n",
       "(function(root) {\n",
       "  function now() {\n",
       "    return new Date();\n",
       "  }\n",
       "\n",
       "  const force = true;\n",
       "\n",
       "  if (typeof root._bokeh_onload_callbacks === \"undefined\" || force === true) {\n",
       "    root._bokeh_onload_callbacks = [];\n",
       "    root._bokeh_is_loading = undefined;\n",
       "  }\n",
       "\n",
       "  const JS_MIME_TYPE = 'application/javascript';\n",
       "  const HTML_MIME_TYPE = 'text/html';\n",
       "  const EXEC_MIME_TYPE = 'application/vnd.bokehjs_exec.v0+json';\n",
       "  const CLASS_NAME = 'output_bokeh rendered_html';\n",
       "\n",
       "  /**\n",
       "   * Render data to the DOM node\n",
       "   */\n",
       "  function render(props, node) {\n",
       "    const script = document.createElement(\"script\");\n",
       "    node.appendChild(script);\n",
       "  }\n",
       "\n",
       "  /**\n",
       "   * Handle when an output is cleared or removed\n",
       "   */\n",
       "  function handleClearOutput(event, handle) {\n",
       "    const cell = handle.cell;\n",
       "\n",
       "    const id = cell.output_area._bokeh_element_id;\n",
       "    const server_id = cell.output_area._bokeh_server_id;\n",
       "    // Clean up Bokeh references\n",
       "    if (id != null && id in Bokeh.index) {\n",
       "      Bokeh.index[id].model.document.clear();\n",
       "      delete Bokeh.index[id];\n",
       "    }\n",
       "\n",
       "    if (server_id !== undefined) {\n",
       "      // Clean up Bokeh references\n",
       "      const cmd_clean = \"from bokeh.io.state import curstate; print(curstate().uuid_to_server['\" + server_id + \"'].get_sessions()[0].document.roots[0]._id)\";\n",
       "      cell.notebook.kernel.execute(cmd_clean, {\n",
       "        iopub: {\n",
       "          output: function(msg) {\n",
       "            const id = msg.content.text.trim();\n",
       "            if (id in Bokeh.index) {\n",
       "              Bokeh.index[id].model.document.clear();\n",
       "              delete Bokeh.index[id];\n",
       "            }\n",
       "          }\n",
       "        }\n",
       "      });\n",
       "      // Destroy server and session\n",
       "      const cmd_destroy = \"import bokeh.io.notebook as ion; ion.destroy_server('\" + server_id + \"')\";\n",
       "      cell.notebook.kernel.execute(cmd_destroy);\n",
       "    }\n",
       "  }\n",
       "\n",
       "  /**\n",
       "   * Handle when a new output is added\n",
       "   */\n",
       "  function handleAddOutput(event, handle) {\n",
       "    const output_area = handle.output_area;\n",
       "    const output = handle.output;\n",
       "\n",
       "    // limit handleAddOutput to display_data with EXEC_MIME_TYPE content only\n",
       "    if ((output.output_type != \"display_data\") || (!Object.prototype.hasOwnProperty.call(output.data, EXEC_MIME_TYPE))) {\n",
       "      return\n",
       "    }\n",
       "\n",
       "    const toinsert = output_area.element.find(\".\" + CLASS_NAME.split(' ')[0]);\n",
       "\n",
       "    if (output.metadata[EXEC_MIME_TYPE][\"id\"] !== undefined) {\n",
       "      toinsert[toinsert.length - 1].firstChild.textContent = output.data[JS_MIME_TYPE];\n",
       "      // store reference to embed id on output_area\n",
       "      output_area._bokeh_element_id = output.metadata[EXEC_MIME_TYPE][\"id\"];\n",
       "    }\n",
       "    if (output.metadata[EXEC_MIME_TYPE][\"server_id\"] !== undefined) {\n",
       "      const bk_div = document.createElement(\"div\");\n",
       "      bk_div.innerHTML = output.data[HTML_MIME_TYPE];\n",
       "      const script_attrs = bk_div.children[0].attributes;\n",
       "      for (let i = 0; i < script_attrs.length; i++) {\n",
       "        toinsert[toinsert.length - 1].firstChild.setAttribute(script_attrs[i].name, script_attrs[i].value);\n",
       "        toinsert[toinsert.length - 1].firstChild.textContent = bk_div.children[0].textContent\n",
       "      }\n",
       "      // store reference to server id on output_area\n",
       "      output_area._bokeh_server_id = output.metadata[EXEC_MIME_TYPE][\"server_id\"];\n",
       "    }\n",
       "  }\n",
       "\n",
       "  function register_renderer(events, OutputArea) {\n",
       "\n",
       "    function append_mime(data, metadata, element) {\n",
       "      // create a DOM node to render to\n",
       "      const toinsert = this.create_output_subarea(\n",
       "        metadata,\n",
       "        CLASS_NAME,\n",
       "        EXEC_MIME_TYPE\n",
       "      );\n",
       "      this.keyboard_manager.register_events(toinsert);\n",
       "      // Render to node\n",
       "      const props = {data: data, metadata: metadata[EXEC_MIME_TYPE]};\n",
       "      render(props, toinsert[toinsert.length - 1]);\n",
       "      element.append(toinsert);\n",
       "      return toinsert\n",
       "    }\n",
       "\n",
       "    /* Handle when an output is cleared or removed */\n",
       "    events.on('clear_output.CodeCell', handleClearOutput);\n",
       "    events.on('delete.Cell', handleClearOutput);\n",
       "\n",
       "    /* Handle when a new output is added */\n",
       "    events.on('output_added.OutputArea', handleAddOutput);\n",
       "\n",
       "    /**\n",
       "     * Register the mime type and append_mime function with output_area\n",
       "     */\n",
       "    OutputArea.prototype.register_mime_type(EXEC_MIME_TYPE, append_mime, {\n",
       "      /* Is output safe? */\n",
       "      safe: true,\n",
       "      /* Index of renderer in `output_area.display_order` */\n",
       "      index: 0\n",
       "    });\n",
       "  }\n",
       "\n",
       "  // register the mime type if in Jupyter Notebook environment and previously unregistered\n",
       "  if (root.Jupyter !== undefined) {\n",
       "    const events = require('base/js/events');\n",
       "    const OutputArea = require('notebook/js/outputarea').OutputArea;\n",
       "\n",
       "    if (OutputArea.prototype.mime_types().indexOf(EXEC_MIME_TYPE) == -1) {\n",
       "      register_renderer(events, OutputArea);\n",
       "    }\n",
       "  }\n",
       "\n",
       "  \n",
       "  if (typeof (root._bokeh_timeout) === \"undefined\" || force === true) {\n",
       "    root._bokeh_timeout = Date.now() + 5000;\n",
       "    root._bokeh_failed_load = false;\n",
       "  }\n",
       "\n",
       "  const NB_LOAD_WARNING = {'data': {'text/html':\n",
       "     \"<div style='background-color: #fdd'>\\n\"+\n",
       "     \"<p>\\n\"+\n",
       "     \"BokehJS does not appear to have successfully loaded. If loading BokehJS from CDN, this \\n\"+\n",
       "     \"may be due to a slow or bad network connection. Possible fixes:\\n\"+\n",
       "     \"</p>\\n\"+\n",
       "     \"<ul>\\n\"+\n",
       "     \"<li>re-rerun `output_notebook()` to attempt to load from CDN again, or</li>\\n\"+\n",
       "     \"<li>use INLINE resources instead, as so:</li>\\n\"+\n",
       "     \"</ul>\\n\"+\n",
       "     \"<code>\\n\"+\n",
       "     \"from bokeh.resources import INLINE\\n\"+\n",
       "     \"output_notebook(resources=INLINE)\\n\"+\n",
       "     \"</code>\\n\"+\n",
       "     \"</div>\"}};\n",
       "\n",
       "  function display_loaded() {\n",
       "    const el = document.getElementById(\"1351\");\n",
       "    if (el != null) {\n",
       "      el.textContent = \"BokehJS is loading...\";\n",
       "    }\n",
       "    if (root.Bokeh !== undefined) {\n",
       "      if (el != null) {\n",
       "        el.textContent = \"BokehJS \" + root.Bokeh.version + \" successfully loaded.\";\n",
       "      }\n",
       "    } else if (Date.now() < root._bokeh_timeout) {\n",
       "      setTimeout(display_loaded, 100)\n",
       "    }\n",
       "  }\n",
       "\n",
       "\n",
       "  function run_callbacks() {\n",
       "    try {\n",
       "      root._bokeh_onload_callbacks.forEach(function(callback) {\n",
       "        if (callback != null)\n",
       "          callback();\n",
       "      });\n",
       "    } finally {\n",
       "      delete root._bokeh_onload_callbacks\n",
       "    }\n",
       "    console.debug(\"Bokeh: all callbacks have finished\");\n",
       "  }\n",
       "\n",
       "  function load_libs(css_urls, js_urls, callback) {\n",
       "    if (css_urls == null) css_urls = [];\n",
       "    if (js_urls == null) js_urls = [];\n",
       "\n",
       "    root._bokeh_onload_callbacks.push(callback);\n",
       "    if (root._bokeh_is_loading > 0) {\n",
       "      console.debug(\"Bokeh: BokehJS is being loaded, scheduling callback at\", now());\n",
       "      return null;\n",
       "    }\n",
       "    if (js_urls == null || js_urls.length === 0) {\n",
       "      run_callbacks();\n",
       "      return null;\n",
       "    }\n",
       "    console.debug(\"Bokeh: BokehJS not loaded, scheduling load and callback at\", now());\n",
       "    root._bokeh_is_loading = css_urls.length + js_urls.length;\n",
       "\n",
       "    function on_load() {\n",
       "      root._bokeh_is_loading--;\n",
       "      if (root._bokeh_is_loading === 0) {\n",
       "        console.debug(\"Bokeh: all BokehJS libraries/stylesheets loaded\");\n",
       "        run_callbacks()\n",
       "      }\n",
       "    }\n",
       "\n",
       "    function on_error(url) {\n",
       "      console.error(\"failed to load \" + url);\n",
       "    }\n",
       "\n",
       "    for (let i = 0; i < css_urls.length; i++) {\n",
       "      const url = css_urls[i];\n",
       "      const element = document.createElement(\"link\");\n",
       "      element.onload = on_load;\n",
       "      element.onerror = on_error.bind(null, url);\n",
       "      element.rel = \"stylesheet\";\n",
       "      element.type = \"text/css\";\n",
       "      element.href = url;\n",
       "      console.debug(\"Bokeh: injecting link tag for BokehJS stylesheet: \", url);\n",
       "      document.body.appendChild(element);\n",
       "    }\n",
       "\n",
       "    for (let i = 0; i < js_urls.length; i++) {\n",
       "      const url = js_urls[i];\n",
       "      const element = document.createElement('script');\n",
       "      element.onload = on_load;\n",
       "      element.onerror = on_error.bind(null, url);\n",
       "      element.async = false;\n",
       "      element.src = url;\n",
       "      console.debug(\"Bokeh: injecting script tag for BokehJS library: \", url);\n",
       "      document.head.appendChild(element);\n",
       "    }\n",
       "  };\n",
       "\n",
       "  function inject_raw_css(css) {\n",
       "    const element = document.createElement(\"style\");\n",
       "    element.appendChild(document.createTextNode(css));\n",
       "    document.body.appendChild(element);\n",
       "  }\n",
       "\n",
       "  \n",
       "  const js_urls = [\"https://cdn.bokeh.org/bokeh/release/bokeh-2.4.2.min.js\", \"https://cdn.bokeh.org/bokeh/release/bokeh-gl-2.4.2.min.js\", \"https://cdn.bokeh.org/bokeh/release/bokeh-widgets-2.4.2.min.js\", \"https://cdn.bokeh.org/bokeh/release/bokeh-tables-2.4.2.min.js\", \"https://cdn.bokeh.org/bokeh/release/bokeh-mathjax-2.4.2.min.js\"];\n",
       "  const css_urls = [];\n",
       "  \n",
       "\n",
       "  const inline_js = [\n",
       "    function(Bokeh) {\n",
       "      Bokeh.set_log_level(\"info\");\n",
       "    },\n",
       "    function(Bokeh) {\n",
       "    \n",
       "    \n",
       "    }\n",
       "  ];\n",
       "\n",
       "  function run_inline_js() {\n",
       "    \n",
       "    if (root.Bokeh !== undefined || force === true) {\n",
       "      \n",
       "    for (let i = 0; i < inline_js.length; i++) {\n",
       "      inline_js[i].call(root, root.Bokeh);\n",
       "    }\n",
       "    if (force === true) {\n",
       "        display_loaded();\n",
       "      }} else if (Date.now() < root._bokeh_timeout) {\n",
       "      setTimeout(run_inline_js, 100);\n",
       "    } else if (!root._bokeh_failed_load) {\n",
       "      console.log(\"Bokeh: BokehJS failed to load within specified timeout.\");\n",
       "      root._bokeh_failed_load = true;\n",
       "    } else if (force !== true) {\n",
       "      const cell = $(document.getElementById(\"1351\")).parents('.cell').data().cell;\n",
       "      cell.output_area.append_execute_result(NB_LOAD_WARNING)\n",
       "    }\n",
       "\n",
       "  }\n",
       "\n",
       "  if (root._bokeh_is_loading === 0) {\n",
       "    console.debug(\"Bokeh: BokehJS loaded, going straight to plotting\");\n",
       "    run_inline_js();\n",
       "  } else {\n",
       "    load_libs(css_urls, js_urls, function() {\n",
       "      console.debug(\"Bokeh: BokehJS plotting callback run at\", now());\n",
       "      run_inline_js();\n",
       "    });\n",
       "  }\n",
       "}(window));"
      ],
      "application/vnd.bokehjs_load.v0+json": "\n(function(root) {\n  function now() {\n    return new Date();\n  }\n\n  const force = true;\n\n  if (typeof root._bokeh_onload_callbacks === \"undefined\" || force === true) {\n    root._bokeh_onload_callbacks = [];\n    root._bokeh_is_loading = undefined;\n  }\n\n  \n\n  \n  if (typeof (root._bokeh_timeout) === \"undefined\" || force === true) {\n    root._bokeh_timeout = Date.now() + 5000;\n    root._bokeh_failed_load = false;\n  }\n\n  const NB_LOAD_WARNING = {'data': {'text/html':\n     \"<div style='background-color: #fdd'>\\n\"+\n     \"<p>\\n\"+\n     \"BokehJS does not appear to have successfully loaded. If loading BokehJS from CDN, this \\n\"+\n     \"may be due to a slow or bad network connection. Possible fixes:\\n\"+\n     \"</p>\\n\"+\n     \"<ul>\\n\"+\n     \"<li>re-rerun `output_notebook()` to attempt to load from CDN again, or</li>\\n\"+\n     \"<li>use INLINE resources instead, as so:</li>\\n\"+\n     \"</ul>\\n\"+\n     \"<code>\\n\"+\n     \"from bokeh.resources import INLINE\\n\"+\n     \"output_notebook(resources=INLINE)\\n\"+\n     \"</code>\\n\"+\n     \"</div>\"}};\n\n  function display_loaded() {\n    const el = document.getElementById(\"1351\");\n    if (el != null) {\n      el.textContent = \"BokehJS is loading...\";\n    }\n    if (root.Bokeh !== undefined) {\n      if (el != null) {\n        el.textContent = \"BokehJS \" + root.Bokeh.version + \" successfully loaded.\";\n      }\n    } else if (Date.now() < root._bokeh_timeout) {\n      setTimeout(display_loaded, 100)\n    }\n  }\n\n\n  function run_callbacks() {\n    try {\n      root._bokeh_onload_callbacks.forEach(function(callback) {\n        if (callback != null)\n          callback();\n      });\n    } finally {\n      delete root._bokeh_onload_callbacks\n    }\n    console.debug(\"Bokeh: all callbacks have finished\");\n  }\n\n  function load_libs(css_urls, js_urls, callback) {\n    if (css_urls == null) css_urls = [];\n    if (js_urls == null) js_urls = [];\n\n    root._bokeh_onload_callbacks.push(callback);\n    if (root._bokeh_is_loading > 0) {\n      console.debug(\"Bokeh: BokehJS is being loaded, scheduling callback at\", now());\n      return null;\n    }\n    if (js_urls == null || js_urls.length === 0) {\n      run_callbacks();\n      return null;\n    }\n    console.debug(\"Bokeh: BokehJS not loaded, scheduling load and callback at\", now());\n    root._bokeh_is_loading = css_urls.length + js_urls.length;\n\n    function on_load() {\n      root._bokeh_is_loading--;\n      if (root._bokeh_is_loading === 0) {\n        console.debug(\"Bokeh: all BokehJS libraries/stylesheets loaded\");\n        run_callbacks()\n      }\n    }\n\n    function on_error(url) {\n      console.error(\"failed to load \" + url);\n    }\n\n    for (let i = 0; i < css_urls.length; i++) {\n      const url = css_urls[i];\n      const element = document.createElement(\"link\");\n      element.onload = on_load;\n      element.onerror = on_error.bind(null, url);\n      element.rel = \"stylesheet\";\n      element.type = \"text/css\";\n      element.href = url;\n      console.debug(\"Bokeh: injecting link tag for BokehJS stylesheet: \", url);\n      document.body.appendChild(element);\n    }\n\n    for (let i = 0; i < js_urls.length; i++) {\n      const url = js_urls[i];\n      const element = document.createElement('script');\n      element.onload = on_load;\n      element.onerror = on_error.bind(null, url);\n      element.async = false;\n      element.src = url;\n      console.debug(\"Bokeh: injecting script tag for BokehJS library: \", url);\n      document.head.appendChild(element);\n    }\n  };\n\n  function inject_raw_css(css) {\n    const element = document.createElement(\"style\");\n    element.appendChild(document.createTextNode(css));\n    document.body.appendChild(element);\n  }\n\n  \n  const js_urls = [\"https://cdn.bokeh.org/bokeh/release/bokeh-2.4.2.min.js\", \"https://cdn.bokeh.org/bokeh/release/bokeh-gl-2.4.2.min.js\", \"https://cdn.bokeh.org/bokeh/release/bokeh-widgets-2.4.2.min.js\", \"https://cdn.bokeh.org/bokeh/release/bokeh-tables-2.4.2.min.js\", \"https://cdn.bokeh.org/bokeh/release/bokeh-mathjax-2.4.2.min.js\"];\n  const css_urls = [];\n  \n\n  const inline_js = [\n    function(Bokeh) {\n      Bokeh.set_log_level(\"info\");\n    },\n    function(Bokeh) {\n    \n    \n    }\n  ];\n\n  function run_inline_js() {\n    \n    if (root.Bokeh !== undefined || force === true) {\n      \n    for (let i = 0; i < inline_js.length; i++) {\n      inline_js[i].call(root, root.Bokeh);\n    }\n    if (force === true) {\n        display_loaded();\n      }} else if (Date.now() < root._bokeh_timeout) {\n      setTimeout(run_inline_js, 100);\n    } else if (!root._bokeh_failed_load) {\n      console.log(\"Bokeh: BokehJS failed to load within specified timeout.\");\n      root._bokeh_failed_load = true;\n    } else if (force !== true) {\n      const cell = $(document.getElementById(\"1351\")).parents('.cell').data().cell;\n      cell.output_area.append_execute_result(NB_LOAD_WARNING)\n    }\n\n  }\n\n  if (root._bokeh_is_loading === 0) {\n    console.debug(\"Bokeh: BokehJS loaded, going straight to plotting\");\n    run_inline_js();\n  } else {\n    load_libs(css_urls, js_urls, function() {\n      console.debug(\"Bokeh: BokehJS plotting callback run at\", now());\n      run_inline_js();\n    });\n  }\n}(window));"
     },
     "metadata": {},
     "output_type": "display_data"
    }
   ],
   "source": [
    "import yaml\n",
    "import pandas as pd\n",
    "import numpy as np\n",
    "import matplotlib.pyplot as plt\n",
    "import seaborn as sns\n",
    "from bokeh.io import push_notebook, show, output_notebook\n",
    "from bokeh.plotting import figure\n",
    "from bokeh.layouts import gridplot\n",
    "from bokeh.models import (BasicTicker, ColorBar, ColumnDataSource,\n",
    "                          LinearColorMapper, PrintfTickFormatter, Span,\n",
    "                         Dropdown)\n",
    "from bokeh.transform import transform\n",
    "from bokeh.palettes import PuBuGn\n",
    "\n",
    "from bokeh.layouts import widgetbox\n",
    "from bokeh.models.widgets import Dropdown\n",
    "from bokeh.plotting import curdoc\n",
    "\n",
    "from scipy import stats as st\n",
    "import warnings\n",
    "warnings.filterwarnings(\"ignore\")\n",
    "\n",
    "output_notebook()"
   ]
  },
  {
   "cell_type": "code",
   "execution_count": 205,
   "id": "7ff2a9da",
   "metadata": {},
   "outputs": [
    {
     "ename": "FileNotFoundError",
     "evalue": "[Errno 2] No such file or directory: 'config.yaml'",
     "output_type": "error",
     "traceback": [
      "\u001b[0;31m---------------------------------------------------------------------------\u001b[0m",
      "\u001b[0;31mFileNotFoundError\u001b[0m                         Traceback (most recent call last)",
      "Input \u001b[0;32mIn [205]\u001b[0m, in \u001b[0;36m<cell line: 5>\u001b[0;34m()\u001b[0m\n\u001b[1;32m      3\u001b[0m         config \u001b[38;5;241m=\u001b[39m yaml\u001b[38;5;241m.\u001b[39msafe_load(stream)\n\u001b[1;32m      4\u001b[0m     \u001b[38;5;28;01mreturn\u001b[39;00m config\n\u001b[0;32m----> 5\u001b[0m config \u001b[38;5;241m=\u001b[39m \u001b[43mget_config\u001b[49m\u001b[43m(\u001b[49m\u001b[43m)\u001b[49m\n\u001b[1;32m      6\u001b[0m db \u001b[38;5;241m=\u001b[39m config[\u001b[38;5;124m'\u001b[39m\u001b[38;5;124mdb\u001b[39m\u001b[38;5;124m'\u001b[39m]\n",
      "Input \u001b[0;32mIn [205]\u001b[0m, in \u001b[0;36mget_config\u001b[0;34m()\u001b[0m\n\u001b[1;32m      1\u001b[0m \u001b[38;5;28;01mdef\u001b[39;00m \u001b[38;5;21mget_config\u001b[39m():\n\u001b[0;32m----> 2\u001b[0m     \u001b[38;5;28;01mwith\u001b[39;00m \u001b[38;5;28;43mopen\u001b[39;49m\u001b[43m(\u001b[49m\u001b[38;5;124;43m\"\u001b[39;49m\u001b[38;5;124;43mconfig.yaml\u001b[39;49m\u001b[38;5;124;43m\"\u001b[39;49m\u001b[43m,\u001b[49m\u001b[43m \u001b[49m\u001b[38;5;124;43m'\u001b[39;49m\u001b[38;5;124;43mr\u001b[39;49m\u001b[38;5;124;43m'\u001b[39;49m\u001b[43m)\u001b[49m \u001b[38;5;28;01mas\u001b[39;00m stream:\n\u001b[1;32m      3\u001b[0m         config \u001b[38;5;241m=\u001b[39m yaml\u001b[38;5;241m.\u001b[39msafe_load(stream)\n\u001b[1;32m      4\u001b[0m     \u001b[38;5;28;01mreturn\u001b[39;00m config\n",
      "\u001b[0;31mFileNotFoundError\u001b[0m: [Errno 2] No such file or directory: 'config.yaml'"
     ]
    }
   ],
   "source": [
    "def get_config():\n",
    "    with open(\"config.yaml\", 'r') as stream:\n",
    "        config = yaml.safe_load(stream)\n",
    "    return config\n",
    "config = get_config()\n",
    "db = config['db']"
   ]
  },
  {
   "cell_type": "code",
   "execution_count": null,
   "id": "c8ffd2b9",
   "metadata": {},
   "outputs": [],
   "source": [
    "# Loading data from Canadian residents\n",
    "try:\n",
    "    data_can = pd.read_csv(db + 'dataset_petandcovid.csv', sep='\\t', encoding='utf-8-sig')\n",
    "except FileNotFoundError:\n",
    "    print('No such file')\n",
    "\n",
    "data_can.head()"
   ]
  },
  {
   "cell_type": "code",
   "execution_count": null,
   "id": "439dde96",
   "metadata": {},
   "outputs": [],
   "source": [
    "# Renaming columns according to readme file\n",
    "data_can.columns = ['province', 'region', 'pet_owner', 'change_in_ownership', 'pet_attitude', 'age', 'educ_level', \n",
    "                'ethnicity', 'gender', 'household_people', 'income', 'income_change', 'disability', 'mental_health', \n",
    "                'change_in_mh', 'tested_positive', 'social_support', 'quality_of_life', 'health_self', 'loneliness', \n",
    "                'mh_self', 'stress_self', 'anxiety']\n",
    "data_can.info()"
   ]
  },
  {
   "cell_type": "code",
   "execution_count": null,
   "id": "8b684162",
   "metadata": {
    "scrolled": true
   },
   "outputs": [],
   "source": [
    "data_can['province'].value_counts()"
   ]
  },
  {
   "cell_type": "code",
   "execution_count": null,
   "id": "f290bc8d",
   "metadata": {},
   "outputs": [],
   "source": [
    "#correcting the encoding problem\n",
    "data_can['province'] = data_can['province'].str.replace('\\uFFFD', 'e')\n",
    "data_can['province'].value_counts()"
   ]
  },
  {
   "cell_type": "code",
   "execution_count": null,
   "id": "941e8202",
   "metadata": {},
   "outputs": [],
   "source": [
    "data_can['region'] = data_can['region'].str.replace('\\uFFFD', 'e')\n",
    "data_can['region'].value_counts()"
   ]
  },
  {
   "cell_type": "code",
   "execution_count": null,
   "id": "3ed41ec9",
   "metadata": {},
   "outputs": [],
   "source": [
    "data_can['pet_owner'].value_counts()"
   ]
  },
  {
   "cell_type": "code",
   "execution_count": null,
   "id": "7465d9c1",
   "metadata": {},
   "outputs": [],
   "source": [
    "data_can['change_in_ownership'].value_counts()"
   ]
  },
  {
   "cell_type": "code",
   "execution_count": null,
   "id": "99dc2282",
   "metadata": {},
   "outputs": [],
   "source": [
    "# Excluding households which recently lost their pet to exclude effect on emotional state\n",
    "data_can = data_can[data_can['change_in_ownership']!='Loss']\n",
    "data_can.info()"
   ]
  },
  {
   "cell_type": "code",
   "execution_count": null,
   "id": "317610a0",
   "metadata": {},
   "outputs": [],
   "source": [
    "# Check for duplicates\n",
    "print('Number of duplicates: {:.0f}'.format(data_can.duplicated().sum()))"
   ]
  },
  {
   "cell_type": "markdown",
   "id": "d764c698",
   "metadata": {},
   "source": [
    "Data was loaded, checked for quality and duplicates, the values are of correct data types.  \n",
    "From 1500 entries in intial dataframe, 1327 records were extracted for further analysis."
   ]
  },
  {
   "cell_type": "markdown",
   "id": "a0d06f73",
   "metadata": {},
   "source": [
    "### <a id='inspection_aus'>Data for Australia</a>"
   ]
  },
  {
   "cell_type": "code",
   "execution_count": null,
   "id": "e31f8267",
   "metadata": {},
   "outputs": [],
   "source": [
    "# Loading data from Australian residents\n",
    "try:\n",
    "    data_aus = pd.read_csv(db + 'PandemicPetsAndPeopl.csv')\n",
    "except FileNotFoundError:\n",
    "    print('No such file')\n",
    "\n",
    "data_aus.head()"
   ]
  },
  {
   "cell_type": "code",
   "execution_count": null,
   "id": "c574084a",
   "metadata": {},
   "outputs": [],
   "source": [
    "print('Number of people that started the survey: {:.0f}'.format(len(data_aus)))"
   ]
  },
  {
   "cell_type": "code",
   "execution_count": null,
   "id": "efdd2669",
   "metadata": {},
   "outputs": [],
   "source": [
    "# Taking a look at the questions that people answered\n",
    "for count, col in enumerate(data_aus.columns):\n",
    "    print(count, col)"
   ]
  },
  {
   "cell_type": "code",
   "execution_count": null,
   "id": "a6750ed9",
   "metadata": {},
   "outputs": [],
   "source": [
    "# Leaving only several columns that can be used later for comparisson with Canadian residents and renaming them for convenience\n",
    "data_aus = data_aus.iloc[:,[0, 2, 6, 7, 15, 25, 26, 27, 28, 56, 74, 132, 133, 135, 139]]\n",
    "data_aus.columns = ['record_id', 'survey_time', 'has_cat', 'has_dog', 'no_pets', 'country', 'birth_year', 'gender', 'educ_level', 'tested_positive', 'loneliness', 'health_self', 'quality_of_life', 'mh_self', 'mh_prob_week']\n",
    "data_aus.head()"
   ]
  },
  {
   "cell_type": "code",
   "execution_count": null,
   "id": "4600c079",
   "metadata": {},
   "outputs": [],
   "source": [
    "# Leaving in the table only residents from Australia\n",
    "data_aus = data_aus[data_aus['country'] == 'Australia']\n",
    "data_aus.info()"
   ]
  },
  {
   "cell_type": "code",
   "execution_count": null,
   "id": "f629e925",
   "metadata": {},
   "outputs": [],
   "source": [
    "# Check for duplicates\n",
    "print('Number of duplicates: {:.0f}'.format(data_aus.duplicated().sum()))"
   ]
  },
  {
   "cell_type": "code",
   "execution_count": null,
   "id": "69d1fc37",
   "metadata": {},
   "outputs": [],
   "source": [
    "data_aus['no_pets'].value_counts()"
   ]
  },
  {
   "cell_type": "markdown",
   "id": "db03ab2a",
   "metadata": {},
   "source": [
    "It seems like the dataset has information only on pet-owners."
   ]
  },
  {
   "cell_type": "code",
   "execution_count": null,
   "id": "51ae08e0",
   "metadata": {},
   "outputs": [],
   "source": [
    "# excluding households with pets other than cats or dogs\n",
    "data_aus = data_aus[~((data_aus['has_cat'] == 'Unchecked')&(data_aus['has_dog'] == 'Unchecked')&(data_aus['no_pets'] == 'Unchecked'))]\n",
    "data_aus.info()"
   ]
  },
  {
   "cell_type": "markdown",
   "id": "451e54e9",
   "metadata": {},
   "source": [
    "Dealing with empty values:"
   ]
  },
  {
   "cell_type": "code",
   "execution_count": null,
   "id": "4e089750",
   "metadata": {},
   "outputs": [],
   "source": [
    "# For birth_year the option can be is to categorize people by age the same way it was done for Canadian data, \n",
    "# and 5 empty values can be left as 'not mentioned'\n",
    "def age_category(row):\n",
    "    if np.isnan(row['birth_year']):\n",
    "        return('not mentioned')\n",
    "    else:\n",
    "        age = 2020 - row['birth_year']\n",
    "        if age < 18:\n",
    "            return '18-'\n",
    "        if (age >= 18) and (age < 25):\n",
    "            return '18-24'\n",
    "        if (age >= 25) and (age < 35):\n",
    "            return '25-34'\n",
    "        if (age >= 35) and (age < 45):\n",
    "            return '35-44'\n",
    "        if (age >= 45) and (age < 55):\n",
    "            return '45-54'\n",
    "        if (age >= 55) and (age < 65):\n",
    "            return '55-64'\n",
    "        if age >= 65:\n",
    "            return '65+'\n",
    "\n",
    "data_aus['age'] = data_aus.apply(age_category, axis=1)\n",
    "data_aus.drop('birth_year', axis=1, inplace=True)\n",
    "data_aus.sample(5)"
   ]
  },
  {
   "cell_type": "code",
   "execution_count": null,
   "id": "d3645c16",
   "metadata": {},
   "outputs": [],
   "source": [
    "# substituting empty values in gender column with 'not mentioned'\n",
    "data_aus.loc[data_aus['gender'].isna(), 'gender'] = 'Other or did not answer'"
   ]
  },
  {
   "cell_type": "code",
   "execution_count": null,
   "id": "28c95186",
   "metadata": {},
   "outputs": [],
   "source": [
    "# loneliness\n",
    "data_aus['loneliness'].value_counts()"
   ]
  },
  {
   "cell_type": "code",
   "execution_count": null,
   "id": "97fc609c",
   "metadata": {},
   "outputs": [],
   "source": [
    "# Since the minimum score is 1, empty values can be substituted with zeros\n",
    "data_aus.loc[data_aus['loneliness']=='Really does not describe my experience <br> 1', 'loneliness'] = 1\n",
    "data_aus.loc[data_aus['loneliness']=='Really describes my experience <br> 5', 'loneliness'] = 5\n",
    "data_aus.loc[data_aus['loneliness'].isna(), 'loneliness'] = 0\n",
    "data_aus['loneliness'] = data_aus['loneliness'].astype('int')\n",
    "data_aus['loneliness'].value_counts()"
   ]
  },
  {
   "cell_type": "code",
   "execution_count": null,
   "id": "be2eb78a",
   "metadata": {},
   "outputs": [],
   "source": [
    "data_aus.loc[data_aus['health_self'].isna(), 'health_self'] = 'unknown'\n",
    "data_aus['health_self'].value_counts()"
   ]
  },
  {
   "cell_type": "code",
   "execution_count": null,
   "id": "744be10f",
   "metadata": {},
   "outputs": [],
   "source": [
    "data_aus.loc[data_aus['quality_of_life'].isna(), 'quality_of_life'] = 'unknown'\n",
    "data_aus.loc[data_aus['mh_self'].isna(), 'mh_self'] = 'unknown'\n",
    "data_aus.loc[data_aus['mh_prob_week'].isna(), 'mh_prob_week'] = 'unknown'\n",
    "\n",
    "data_aus['mh_prob_week'].value_counts()"
   ]
  },
  {
   "cell_type": "code",
   "execution_count": null,
   "id": "45da7e79",
   "metadata": {},
   "outputs": [],
   "source": [
    "# changing the type for survey timestamp\n",
    "data_aus['survey_time'] = pd.to_datetime(data_aus['survey_time'], format='%d/%m/%Y %H:%M')\n",
    "print(data_aus['survey_time'].min(), ' - ', data_aus['survey_time'].max())"
   ]
  },
  {
   "cell_type": "code",
   "execution_count": null,
   "id": "22363a3d",
   "metadata": {},
   "outputs": [],
   "source": [
    "data_aus.info()"
   ]
  },
  {
   "cell_type": "markdown",
   "id": "0b53a212",
   "metadata": {},
   "source": [
    "Data from Australians was converted to dataframe that would be easier to compare with Canadians. Column headers renamed for convenient use, data type corrected, checked for duplicates, n/a values were left in the dataframe but substituted with 'not mentioned'.  \n",
    "Data available for period 16/Jul/2020 - 15/Jun/2021.  \n",
    "From initial dataframe with 1162 entries, 836 entries were extracted by applying filters. "
   ]
  },
  {
   "cell_type": "markdown",
   "id": "f8f0f201",
   "metadata": {},
   "source": [
    "## <a id='analysis'>Data analysis</a>"
   ]
  },
  {
   "cell_type": "markdown",
   "id": "8bfac120",
   "metadata": {},
   "source": [
    "### <a id='analysis_can'>Canada data analysis</a>"
   ]
  },
  {
   "cell_type": "code",
   "execution_count": null,
   "id": "56ded033",
   "metadata": {},
   "outputs": [],
   "source": [
    "#pet-owners on the map\n",
    "from folium import Map, Marker\n",
    "from folium.plugins import MarkerCluster\n",
    "\n",
    "canada_lat, canada_lng = 56.1304, -106.3468\n",
    "\n",
    "m = Map(location=[canada_lat, canada_lng], zoom_start=4)\n",
    "marker_cluster = MarkerCluster().add_to(m)\n",
    "\n",
    "def create_clusters(row):       \n",
    "    if row['province'] == 'Ontario':\n",
    "        lat = 51.2538\n",
    "        lng = -85.3232\n",
    "    if row['province'] == 'Quebec':\n",
    "        lat = 46.829853\n",
    "        lng = -71.254028\n",
    "    if row['province'] == 'British Columbia':\n",
    "        lat = 53.7267\n",
    "        lng = -127.6476\n",
    "    if row['province'] == 'Alberta':\n",
    "        lat = 53.9333\n",
    "        lng = -116.5765\n",
    "    if row['province'] == 'Saskatchewan':\n",
    "        lat = 55.000000\n",
    "        lng = -106.000000\n",
    "    if row['province'] == 'Manitoba':\n",
    "        lat = 56.415211\n",
    "        lng = -98.739075\n",
    "    if row['province'] == 'Nova Scotia':\n",
    "        lat = 45.000000\n",
    "        lng = -63.000000\n",
    "    if row['province'] == 'New Brunswick':\n",
    "        lat = 46.498390\n",
    "        lng = -66.159668\n",
    "    if row['province'] == 'Newfoundland and Labrador':\n",
    "        lat = 53.135509\n",
    "        lng = -57.660435\n",
    "    if row['province'] == 'Yukon':\n",
    "        lat = 64.000000\n",
    "        lng = -135.000000\n",
    "    if row['province'] == 'Prince Edward Island':\n",
    "        lat = 46.250000\n",
    "        lng = -63.000000\n",
    "    if row['province'] == 'Northwest Territories':\n",
    "        lat = 63.588753\n",
    "        lng = -115.506938\n",
    "    if row['province'] == 'Nunavut':\n",
    "        lat = 70.453262\n",
    "        lng = -86.798981\n",
    "    Marker(\n",
    "        [lat, lng],\n",
    "    ).add_to(marker_cluster)\n",
    "\n",
    "data_can[data_can['pet_owner']=='Yes'].apply(create_clusters, axis=1)\n",
    "\n",
    "m"
   ]
  },
  {
   "cell_type": "code",
   "execution_count": null,
   "id": "09e6a1fb",
   "metadata": {},
   "outputs": [],
   "source": [
    "# Distribution of people by age\n",
    "grouped = data_can.groupby(['age', 'pet_owner'])['province'].count().reset_index()\n",
    "\n",
    "plt.figure(figsize=(10, 7))\n",
    "sns.barplot(x='age', y = 'province', data=grouped, hue='pet_owner', palette=['#7B8FA1', '#FAD6A5'])\n",
    "plt.title('Number of people participated in the survey depending on their age')\n",
    "plt.xlabel('Age group')\n",
    "plt.ylabel('Number of people')\n",
    "plt.grid(axis='y', alpha=0.2)\n",
    "plt.show()"
   ]
  },
  {
   "cell_type": "markdown",
   "id": "8e83efae",
   "metadata": {},
   "source": [
    "Amount of people who are pet-owners prevails for age groups under 55 years. After 55 years there are more households without any pets, especially after age 65: amount of non pet-owners is almost double than of those with pet. The majority of pet-owners are aged 45-55."
   ]
  },
  {
   "cell_type": "code",
   "execution_count": null,
   "id": "154f4e6c",
   "metadata": {},
   "outputs": [],
   "source": [
    "# Distribution of people by education level\n",
    "grouped_ed = data_can.groupby(['educ_level', 'pet_owner'])['province'].count().reset_index()\n",
    "\n",
    "plt.figure(figsize=(8, 5))\n",
    "sns.barplot(x='educ_level', y = 'province', data=grouped_ed, hue='pet_owner', palette=['#7B8FA1', '#FAD6A5'])\n",
    "plt.title('Number of people participated in the survey depending on their education level')\n",
    "plt.xlabel('Education level')\n",
    "plt.ylabel('Number of people')\n",
    "plt.grid(axis='y', alpha=0.2)\n",
    "plt.show()"
   ]
  },
  {
   "cell_type": "markdown",
   "id": "fbcabc2b",
   "metadata": {},
   "source": [
    "Number of people without any pet prevails only for people with university degree."
   ]
  },
  {
   "cell_type": "code",
   "execution_count": null,
   "id": "b7565ac2",
   "metadata": {},
   "outputs": [],
   "source": [
    "# Distribution of people by income level\n",
    "grouped_inc = data_can.groupby(['income', 'pet_owner'])['province'].count().reset_index()\n",
    "\n",
    "plt.figure(figsize=(15, 8))\n",
    "sns.barplot(x='income', y = 'province', data=grouped_inc, hue='pet_owner', palette=['#7B8FA1', '#FAD6A5'])\n",
    "plt.title('Number of people participated in the survey depending on their income level')\n",
    "plt.xlabel('Income level')\n",
    "plt.ylabel('Number of people')\n",
    "plt.grid(axis='y', alpha=0.2)\n",
    "plt.show()"
   ]
  },
  {
   "cell_type": "markdown",
   "id": "e9d2305f",
   "metadata": {},
   "source": [
    "Number of pet-owners is more among people either with low-income (<40k) or high-income (>100k). However, amount of households without pets is more among middle class (between 40k and 100k). "
   ]
  },
  {
   "cell_type": "code",
   "execution_count": null,
   "id": "97df32df",
   "metadata": {},
   "outputs": [],
   "source": [
    "# Distribution of people by presense of mental health conditions\n",
    "grouped_mh = data_can.groupby(['mental_health', 'pet_owner'])['province'].count().reset_index()\n",
    "\n",
    "plt.figure(figsize=(8, 4))\n",
    "sns.barplot(x='mental_health', y = 'province', data=grouped_mh, hue='pet_owner', palette=['#7B8FA1', '#FAD6A5'])\n",
    "plt.title('Number of people participated in the survey depending on their mental health conditions')\n",
    "plt.xlabel('Presense of mental health conditions')\n",
    "plt.ylabel('Number of people')\n",
    "plt.grid(axis='y', alpha=0.2)\n",
    "plt.show()"
   ]
  },
  {
   "cell_type": "code",
   "execution_count": null,
   "id": "bd6aedb4",
   "metadata": {},
   "outputs": [],
   "source": [
    "# Distribution of people by presense of mental health conditions\n",
    "grouped_mh = data_can.groupby(['change_in_mh', 'pet_owner'])['province'].count().reset_index()\n",
    "\n",
    "plt.figure(figsize=(10, 6))\n",
    "sns.barplot(x='change_in_mh', y = 'province', data=grouped_mh, hue='pet_owner', palette=['#7B8FA1', '#FAD6A5'])\n",
    "plt.title('Number of people participated in the survey depending on change in mental health during the pandemic')\n",
    "plt.xlabel('Change in mental health during the pandemic')\n",
    "plt.ylabel('Number of people')\n",
    "plt.grid(axis='y', alpha=0.2)\n",
    "plt.show()"
   ]
  },
  {
   "cell_type": "markdown",
   "id": "97f54367",
   "metadata": {},
   "source": [
    "The amount of people who felt worse during the pandemic is more for pet-owners."
   ]
  },
  {
   "cell_type": "code",
   "execution_count": null,
   "id": "fed98282",
   "metadata": {
    "scrolled": false
   },
   "outputs": [],
   "source": [
    "# Distribution of people by presense of mental health conditions\n",
    "grouped_mh = data_can.groupby(['mh_self', 'pet_owner'])['province'].count().reset_index()\n",
    "\n",
    "plt.figure(figsize=(10, 6))\n",
    "sns.barplot(x='mh_self', y = 'province', data=grouped_mh, hue='pet_owner', palette=['#7B8FA1', '#FAD6A5'])\n",
    "plt.title('Number of people participated in the survey depending on self perceived mental health')\n",
    "plt.xlabel('Self perceived mental health')\n",
    "plt.ylabel('Number of people')\n",
    "plt.grid(axis='y', alpha=0.2)\n",
    "plt.show()"
   ]
  },
  {
   "cell_type": "code",
   "execution_count": null,
   "id": "161a06e1",
   "metadata": {
    "scrolled": false
   },
   "outputs": [],
   "source": [
    "# Distribution of people by presense of mental health conditions\n",
    "grouped_mh = data_can.groupby(['anxiety', 'pet_owner'])['province'].count().reset_index()\n",
    "\n",
    "plt.figure(figsize=(10, 6))\n",
    "sns.barplot(x='anxiety', y = 'province', data=grouped_mh, hue='pet_owner', palette=['#7B8FA1', '#FAD6A5'])\n",
    "plt.title('Number of people participated in the survey depending on self perceived mental health')\n",
    "plt.xlabel('Self perceived mental health')\n",
    "plt.ylabel('Number of people')\n",
    "plt.grid(axis='y', alpha=0.2)\n",
    "plt.show()"
   ]
  },
  {
   "cell_type": "markdown",
   "id": "d04763f6",
   "metadata": {},
   "source": [
    "Variable 'pet_owner' along with the 'mental_health', 'change_in_mh' and 'loneliness' are independent variables, so we cannot calculate correlation coefficient for them."
   ]
  },
  {
   "cell_type": "markdown",
   "id": "19757dc0",
   "metadata": {},
   "source": [
    "### <a id='analysis_aus'>Australia data analysis</a>"
   ]
  },
  {
   "cell_type": "code",
   "execution_count": null,
   "id": "c2035e7b",
   "metadata": {},
   "outputs": [],
   "source": [
    "# Distribution of people by age\n",
    "grouped = data_aus.groupby(['age'])['record_id'].count().reset_index()\n",
    "\n",
    "plt.figure(figsize=(10, 7))\n",
    "sns.barplot(x='age', y = 'record_id', data=grouped, palette=['#FAD6A5'])\n",
    "plt.title('Number of people participated in the survey depending on their age')\n",
    "plt.xlabel('Age group')\n",
    "plt.ylabel('Number of people')\n",
    "plt.grid(axis='y', alpha=0.2)\n",
    "plt.show()"
   ]
  },
  {
   "cell_type": "markdown",
   "id": "2c26d602",
   "metadata": {},
   "source": [
    "Among Australians the majority of pet-owners are aged 25-55 (for Canadians it was 45-55)."
   ]
  },
  {
   "cell_type": "code",
   "execution_count": null,
   "id": "a644195c",
   "metadata": {},
   "outputs": [],
   "source": [
    "# Distribution of people by loneliness\n",
    "grouped_ed = data_aus.groupby(['loneliness'])['record_id'].count().reset_index()\n",
    "\n",
    "plt.figure(figsize=(8, 5))\n",
    "sns.barplot(x='loneliness', y = 'record_id', data=grouped_ed, palette=['#FAD6A5'])\n",
    "plt.title('Number of people participated in the survey depending on loneliness')\n",
    "plt.xlabel('Loneliness')\n",
    "plt.ylabel('Number of people')\n",
    "plt.grid(axis='y', alpha=0.2)\n",
    "plt.show()"
   ]
  },
  {
   "cell_type": "markdown",
   "id": "4d2db33d",
   "metadata": {},
   "source": [
    "The majority of Australian pet-owners didn't feel lonely during pandemic (score = '1'), but still that feeling wasn't uncommon among these people."
   ]
  },
  {
   "cell_type": "code",
   "execution_count": null,
   "id": "986caff4",
   "metadata": {},
   "outputs": [],
   "source": [
    "# Distribution of people by loneliness\n",
    "grouped_ed = data_aus.groupby(['mh_self'])['record_id'].count().reset_index()\n",
    "\n",
    "plt.figure(figsize=(8, 5))\n",
    "sns.barplot(x='mh_self', y = 'record_id', data=grouped_ed, palette=['#FAD6A5'])\n",
    "plt.title('Number of people participated in the survey depending on self-perceived mental state')\n",
    "plt.xlabel('Self-perceived mental state')\n",
    "plt.ylabel('Number of people')\n",
    "plt.grid(axis='y', alpha=0.2)\n",
    "plt.show()"
   ]
  },
  {
   "cell_type": "markdown",
   "id": "b2ce733e",
   "metadata": {},
   "source": [
    "The majority of Australian pet-owners evaluate their mental state as 'Good' and 'Very good'. Which is almost the same for Canadian (where tha majority said that they had 'minimal' impact on their mental state)."
   ]
  },
  {
   "cell_type": "markdown",
   "id": "9b772e58",
   "metadata": {},
   "source": [
    "## <a id='hypothesis'>Hypothesis testing</a>"
   ]
  },
  {
   "cell_type": "markdown",
   "id": "428a7e6b",
   "metadata": {},
   "source": [
    "<b>Change in mental health state for Canadian pet-owners differs from those who don't have any pets</b>"
   ]
  },
  {
   "cell_type": "code",
   "execution_count": null,
   "id": "95cbf0fd",
   "metadata": {},
   "outputs": [],
   "source": [
    "pet_owners = data_can[data_can['pet_owner']=='Yes']\n",
    "pet_owners['change_in_mh'] = pet_owners['change_in_mh'].map({'Much worse': -2, 'Somewhat worse': -1, \n",
    "                                                             'About the same': 0, 'Somewhat better': 1, 'Much better': 2})\n",
    "not_pet_owners = data_can[data_can['pet_owner']=='No']\n",
    "not_pet_owners['change_in_mh'] = not_pet_owners['change_in_mh'].map({'Much worse': -2, 'Somewhat worse': -1, \n",
    "                                                             'About the same': 0, 'Somewhat better': 1, 'Much better': 2})\n"
   ]
  },
  {
   "cell_type": "code",
   "execution_count": null,
   "id": "b9e5f56a",
   "metadata": {},
   "outputs": [],
   "source": [
    "#Check for normal distribution: pet_owners\n",
    "results = st.shapiro(pet_owners['change_in_mh'])\n",
    "p_value = results[1]\n",
    "alpha = 0.05\n",
    "print('p-value: ', p_value)\n",
    "\n",
    "if p_value < alpha:\n",
    "    print('Distibution is not normal')\n",
    "else:\n",
    "    print('Distribution is normal')\n",
    "    \n",
    "sns.distplot(pet_owners['change_in_mh'])"
   ]
  },
  {
   "cell_type": "code",
   "execution_count": null,
   "id": "a7935411",
   "metadata": {},
   "outputs": [],
   "source": [
    "#Check for normal distribution: not_pet_owners\n",
    "results = st.shapiro(not_pet_owners['change_in_mh'])\n",
    "p_value = results[1]\n",
    "alpha = 0.05\n",
    "print('p-value: ', p_value)\n",
    "\n",
    "if p_value < alpha:\n",
    "    print('Distibution is not normal')\n",
    "else:\n",
    "    print('Distribution is normal')\n",
    "    \n",
    "sns.distplot(not_pet_owners['change_in_mh'])"
   ]
  },
  {
   "cell_type": "markdown",
   "id": "45e3479a",
   "metadata": {},
   "source": [
    "Both distribution aren't normal based on the Shapio-Wilk test, we'll use Mann-Whitney non-parametric test to test the hypothesis:"
   ]
  },
  {
   "cell_type": "code",
   "execution_count": null,
   "id": "d342fc1c",
   "metadata": {},
   "outputs": [],
   "source": [
    "# H0: Change in mental health state for Canadian pet-owners is the same as for those who don't have any pets\n",
    "# H1: Change in mental health state for Canadian pet-owners differs from those who don't have any pets\n",
    "\n",
    "results = st.mannwhitneyu(pet_owners['change_in_mh'], not_pet_owners['change_in_mh'])\n",
    "\n",
    "print('p-value: {:.2f}'.format(results.pvalue))\n",
    "\n",
    "if results.pvalue < alpha:\n",
    "    print('Rejecting null hypothesis, there is a statistically significant difference')\n",
    "else:\n",
    "    print('Null hypothesis cannot be rejected')"
   ]
  },
  {
   "cell_type": "markdown",
   "id": "4c159eb6",
   "metadata": {},
   "source": [
    "<b>Self-perceived mental health for Australians pet-owners differs from Canadians</b>"
   ]
  },
  {
   "cell_type": "code",
   "execution_count": null,
   "id": "8cc4794e",
   "metadata": {},
   "outputs": [],
   "source": [
    "pet_owners_can = data_can[data_can['pet_owner']=='Yes']\n",
    "pet_owners_can['mh_self'] = pet_owners_can['mh_self'].map({'Poor': 0, 'Fair': 1, 'Good': 2, \n",
    "                                                           'Very good': 3, 'Excellent': 4})\n",
    "pet_owners_aus = data_aus[data_aus['mh_self'] != 'unknown']\n",
    "pet_owners_aus['mh_self'] = pet_owners_aus['mh_self'].map({'Poor': 0, 'Fair': 1, 'Good': 2, \n",
    "                                                           'Very good': 3, 'Excellent': 4})"
   ]
  },
  {
   "cell_type": "code",
   "execution_count": null,
   "id": "7cf0df22",
   "metadata": {},
   "outputs": [],
   "source": [
    "#Check for normal distribution: canadian pet_owners\n",
    "results = st.shapiro(pet_owners_can['mh_self'])\n",
    "p_value = results[1]\n",
    "alpha = 0.05\n",
    "print('p-value: {:.2f}'.format(p_value))\n",
    "\n",
    "if p_value < alpha:\n",
    "    print('Distibution is not normal')\n",
    "else:\n",
    "    print('Distribution is normal')\n",
    "    \n",
    "sns.distplot(pet_owners_can['mh_self'])"
   ]
  },
  {
   "cell_type": "code",
   "execution_count": null,
   "id": "d7d94450",
   "metadata": {},
   "outputs": [],
   "source": [
    "#Check for normal distribution: australian pet_owners\n",
    "results = st.shapiro(pet_owners_aus['mh_self'])\n",
    "p_value = results[1]\n",
    "alpha = 0.05\n",
    "print('p-value: {:.2f}'.format(p_value))\n",
    "\n",
    "if p_value < alpha:\n",
    "    print('Distibution is not normal')\n",
    "else:\n",
    "    print('Distribution is normal')\n",
    "    \n",
    "sns.distplot(pet_owners_aus['mh_self'])"
   ]
  },
  {
   "cell_type": "markdown",
   "id": "985dcba0",
   "metadata": {},
   "source": [
    "Both distribution aren't normal based on the Shapio-Wilk test, we'll use Mann-Whitney non-parametric test to test the hypothesis:"
   ]
  },
  {
   "cell_type": "code",
   "execution_count": null,
   "id": "76004102",
   "metadata": {},
   "outputs": [],
   "source": [
    "# H0: Self-perceived mental health for Australian pet-owners and Canadian is the same\n",
    "# H1: Self-perceived mental health for Australian pet-owners differs from Canadian\n",
    "\n",
    "results = st.mannwhitneyu(pet_owners_aus['mh_self'], pet_owners_can['mh_self'])\n",
    "\n",
    "print('p-value: {:.2f}'.format(results.pvalue))\n",
    "\n",
    "if results.pvalue < alpha:\n",
    "    print('Rejecting null hypothesis, there is a statistically significant difference')\n",
    "else:\n",
    "    print('Null hypothesis cannot be rejected')"
   ]
  },
  {
   "cell_type": "markdown",
   "id": "ebf00870",
   "metadata": {},
   "source": [
    "<b>Conclusion</b>  \n",
    "The data from Canadian and Australian residents was analysed. However, only for Canadians it was possible to compare the effect of pets, due to the reason that in Australia only pet-owners completed the survey. Suprisingly, the amount of people who felt worse during the pandemic is more among pet-owners, but we cannot be sure that there is a direct correlation as there can be another factors affecting (for example people could had been already diagnosed with some mental health diseases, which got worsened by self isolation).  \n",
    "Conducting statistical testing of the hypothesis we can say that there is no statistical difference between self-assessed mental state of pet-owners in Australia and in Canada.  \n",
    "For more clear results there should be more data and different factors should be taken into account."
   ]
  },
  {
   "cell_type": "code",
   "execution_count": null,
   "id": "2bed0796",
   "metadata": {},
   "outputs": [],
   "source": []
  },
  {
   "cell_type": "code",
   "execution_count": null,
   "id": "600d3d21",
   "metadata": {},
   "outputs": [],
   "source": []
  },
  {
   "cell_type": "code",
   "execution_count": 132,
   "id": "02ee2226",
   "metadata": {
    "scrolled": false
   },
   "outputs": [
    {
     "data": {
      "text/html": [
       "\n",
       "\n",
       "\n",
       "\n",
       "\n",
       "\n",
       "  <div class=\"bk-root\" id=\"58f886cb-4994-4f1a-b136-f63b4773efa9\" data-root-id=\"1337\"></div>\n"
      ]
     },
     "metadata": {},
     "output_type": "display_data"
    },
    {
     "data": {
      "application/javascript": [
       "(function(root) {\n",
       "  function embed_document(root) {\n",
       "    \n",
       "  const docs_json = {\"c69a4ba8-35b5-4693-9741-66dd0a598c21\":{\"defs\":[],\"roots\":{\"references\":[{\"attributes\":{\"icon\":null,\"label\":\"Filter by\",\"menu\":[[\"Age\",\"age\"],[\"Educational level\",\"educ_level\"],[\"Gender\",\"gender\"],[\"Income\",\"income\"],[\"Mental health\",\"mental_health\"],[\"Change in mental health\",\"change_in_mh\"],[\"Loneliness\",\"loneliness\"],[\"Anxiety\",\"anxiety\"]]},\"id\":\"1337\",\"type\":\"Dropdown\"}],\"root_ids\":[\"1337\"]},\"title\":\"Bokeh Application\",\"version\":\"2.4.2\"}};\n",
       "  const render_items = [{\"docid\":\"c69a4ba8-35b5-4693-9741-66dd0a598c21\",\"root_ids\":[\"1337\"],\"roots\":{\"1337\":\"58f886cb-4994-4f1a-b136-f63b4773efa9\"}}];\n",
       "  root.Bokeh.embed.embed_items_notebook(docs_json, render_items);\n",
       "\n",
       "  }\n",
       "  if (root.Bokeh !== undefined) {\n",
       "    embed_document(root);\n",
       "  } else {\n",
       "    let attempts = 0;\n",
       "    const timer = setInterval(function(root) {\n",
       "      if (root.Bokeh !== undefined) {\n",
       "        clearInterval(timer);\n",
       "        embed_document(root);\n",
       "      } else {\n",
       "        attempts++;\n",
       "        if (attempts > 100) {\n",
       "          clearInterval(timer);\n",
       "          console.log(\"Bokeh: ERROR: Unable to run BokehJS code because BokehJS library is missing\");\n",
       "        }\n",
       "      }\n",
       "    }, 10, root)\n",
       "  }\n",
       "})(window);"
      ],
      "application/vnd.bokehjs_exec.v0+json": ""
     },
     "metadata": {
      "application/vnd.bokehjs_exec.v0+json": {
       "id": "1337"
      }
     },
     "output_type": "display_data"
    }
   ],
   "source": [
    "from bokeh.models import Dropdown\n",
    "\n",
    "menu_widget = [('Age', 'age'), ('Educational level', 'educ_level'), ('Gender', 'gender'), ('Income', 'income'), ('Mental health', 'mental_health'),\n",
    "              ('Change in mental health', 'change_in_mh'), ('Loneliness', 'loneliness'), ('Anxiety', 'anxiety')]\n",
    "menu_dropdown = Dropdown(label = \"Filter by\", menu = menu_widget)\n",
    "show(menu_dropdown)"
   ]
  },
  {
   "cell_type": "code",
   "execution_count": 135,
   "id": "e601962f",
   "metadata": {},
   "outputs": [
    {
     "ename": "AttributeError",
     "evalue": "unexpected attribute 'value' to Dropdown, possible attributes are align, aspect_ratio, background, button_type, css_classes, default_size, disabled, height, height_policy, icon, js_event_callbacks, js_property_callbacks, label, margin, max_height, max_width, menu, min_height, min_width, name, sizing_mode, split, subscribed_events, syncable, tags, visible, width or width_policy",
     "output_type": "error",
     "traceback": [
      "\u001b[0;31m---------------------------------------------------------------------------\u001b[0m",
      "\u001b[0;31mAttributeError\u001b[0m                            Traceback (most recent call last)",
      "Input \u001b[0;32mIn [135]\u001b[0m, in \u001b[0;36m<cell line: 15>\u001b[0;34m()\u001b[0m\n\u001b[1;32m     12\u001b[0m     output_server()    \n\u001b[1;32m     13\u001b[0m     show(p)\n\u001b[0;32m---> 15\u001b[0m \u001b[38;5;28mprint\u001b[39m(\u001b[43mmenu_dropdown\u001b[49m\u001b[38;5;241;43m.\u001b[39;49m\u001b[43mvalue\u001b[49m)\n\u001b[1;32m     16\u001b[0m menu_dropdown\u001b[38;5;241m.\u001b[39mon_change(\u001b[38;5;124m'\u001b[39m\u001b[38;5;124mvalue\u001b[39m\u001b[38;5;124m'\u001b[39m, \u001b[38;5;28mself\u001b[39m\u001b[38;5;241m.\u001b[39mcallback)\n\u001b[1;32m     17\u001b[0m curdoc()\u001b[38;5;241m.\u001b[39madd_root(menu_dropdown)\n",
      "File \u001b[0;32m~/opt/anaconda3/lib/python3.9/site-packages/bokeh/core/has_props.py:264\u001b[0m, in \u001b[0;36mHasProps.__getattr__\u001b[0;34m(self, name)\u001b[0m\n\u001b[1;32m    261\u001b[0m \u001b[38;5;28;01mif\u001b[39;00m \u001b[38;5;28misinstance\u001b[39m(descriptor, \u001b[38;5;28mproperty\u001b[39m): \u001b[38;5;66;03m# Python property\u001b[39;00m\n\u001b[1;32m    262\u001b[0m     \u001b[38;5;28;01mreturn\u001b[39;00m \u001b[38;5;28msuper\u001b[39m()\u001b[38;5;241m.\u001b[39m\u001b[38;5;21m__getattr__\u001b[39m(name)\n\u001b[0;32m--> 264\u001b[0m \u001b[38;5;28;43mself\u001b[39;49m\u001b[38;5;241;43m.\u001b[39;49m\u001b[43m_raise_attribute_error_with_matches\u001b[49m\u001b[43m(\u001b[49m\u001b[43mname\u001b[49m\u001b[43m,\u001b[49m\u001b[43m \u001b[49m\u001b[43mproperties\u001b[49m\u001b[43m)\u001b[49m\n",
      "File \u001b[0;32m~/opt/anaconda3/lib/python3.9/site-packages/bokeh/core/has_props.py:272\u001b[0m, in \u001b[0;36mHasProps._raise_attribute_error_with_matches\u001b[0;34m(self, name, properties)\u001b[0m\n\u001b[1;32m    269\u001b[0m \u001b[38;5;28;01mif\u001b[39;00m \u001b[38;5;129;01mnot\u001b[39;00m matches:\n\u001b[1;32m    270\u001b[0m     matches, text \u001b[38;5;241m=\u001b[39m \u001b[38;5;28msorted\u001b[39m(properties), \u001b[38;5;124m\"\u001b[39m\u001b[38;5;124mpossible\u001b[39m\u001b[38;5;124m\"\u001b[39m\n\u001b[0;32m--> 272\u001b[0m \u001b[38;5;28;01mraise\u001b[39;00m \u001b[38;5;167;01mAttributeError\u001b[39;00m(\u001b[38;5;124mf\u001b[39m\u001b[38;5;124m\"\u001b[39m\u001b[38;5;124munexpected attribute \u001b[39m\u001b[38;5;132;01m{\u001b[39;00mname\u001b[38;5;132;01m!r}\u001b[39;00m\u001b[38;5;124m to \u001b[39m\u001b[38;5;132;01m{\u001b[39;00m\u001b[38;5;28mself\u001b[39m\u001b[38;5;241m.\u001b[39m\u001b[38;5;18m__class__\u001b[39m\u001b[38;5;241m.\u001b[39m\u001b[38;5;18m__name__\u001b[39m\u001b[38;5;132;01m}\u001b[39;00m\u001b[38;5;124m, \u001b[39m\u001b[38;5;132;01m{\u001b[39;00mtext\u001b[38;5;132;01m}\u001b[39;00m\u001b[38;5;124m attributes are \u001b[39m\u001b[38;5;132;01m{\u001b[39;00mnice_join(matches)\u001b[38;5;132;01m}\u001b[39;00m\u001b[38;5;124m\"\u001b[39m)\n",
      "\u001b[0;31mAttributeError\u001b[0m: unexpected attribute 'value' to Dropdown, possible attributes are align, aspect_ratio, background, button_type, css_classes, default_size, disabled, height, height_policy, icon, js_event_callbacks, js_property_callbacks, label, margin, max_height, max_width, menu, min_height, min_width, name, sizing_mode, split, subscribed_events, syncable, tags, visible, width or width_policy"
     ]
    }
   ],
   "source": [
    "def callback(self, attr, old, new):\n",
    "    subset = data_can.groupby([menu_dropdown.value, 'pet_owner'])['province'].count().reset_index()\n",
    "    #p = Bar(subset, title=\"Number of people participated in the survey depending on\", xlabel=menu_dropdown.value, ylabel='Number of people', width=400, height=400)\n",
    "    \n",
    "    p = figure(x_range=subset, plot_height=400, plot_width=400, \n",
    "        title=\"Number of people\",\n",
    "        toolbar_location=None, tools=\"\")\n",
    "    p.vbar(x=menu_dropdown.value, top='province', width=0.9, source=subset, line_color=\"white\",\n",
    "       # use the palette to colormap based on the the x[1:2] values\n",
    "       fill_color=factor_cmap('x', palette=palette, factors='pet_owner', start=1, end=2))\n",
    "    \n",
    "    output_server()    \n",
    "    show(p)\n",
    "\n",
    "print(menu_dropdown.value)\n",
    "menu_dropdown.on_change('value', self.callback)\n",
    "curdoc().add_root(menu_dropdown)"
   ]
  },
  {
   "cell_type": "code",
   "execution_count": null,
   "id": "39a1d6e1",
   "metadata": {},
   "outputs": [],
   "source": []
  }
 ],
 "metadata": {
  "kernelspec": {
   "display_name": "Python 3 (ipykernel)",
   "language": "python",
   "name": "python3"
  },
  "language_info": {
   "codemirror_mode": {
    "name": "ipython",
    "version": 3
   },
   "file_extension": ".py",
   "mimetype": "text/x-python",
   "name": "python",
   "nbconvert_exporter": "python",
   "pygments_lexer": "ipython3",
   "version": "3.9.12"
  }
 },
 "nbformat": 4,
 "nbformat_minor": 5
}
