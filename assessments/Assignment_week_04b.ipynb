{
 "cells": [
  {
   "cell_type": "markdown",
   "metadata": {},
   "source": [
    "## Assignment 04b: Sleeping habits\n",
    "\n",
    "As a data scientist you will work with ordinal or categorical data as well. What are good methods to visualize such data? What are proper statistics to use? What needs to be done in the data preparation steps to conduct certain analysis. During this week we will work with data from a sleeping study. This dataset is not mandatory. You are encouraged to use data from your project when possible. \n",
    "\n",
    "Keywords: statistics, categorical data, ordinal data, survey-based study of the sleeping, exploratory data analysis, normalization, hypothesis testing, p-value\n",
    "\n",
    "\n",
    "More to read:\n",
    "- https://fennaf.gitbook.io/bfvm22prog1/\n",
    "\n",
    "https://machinelearningmastery.com/statistical-hypothesis-tests-in-python-cheat-sheet/\n",
    "There are a number of cheatsheets and tutorials on the internet. The next overview is a compact overview of tutorials\n",
    "- https://www.kaggle.com/hamelg/python-for-data-21-descriptive-statistics\n",
    "- https://www.kaggle.com/hamelg/python-for-data-22-probability-distributions\n",
    "- https://www.kaggle.com/hamelg/python-for-data-23-confidence-intervals\n",
    "- https://www.kaggle.com/hamelg/python-for-data-24-hypothesis-testing\n",
    "- https://www.kaggle.com/hamelg/python-for-data-25-chi-squared-tests\n",
    "- https://www.kaggle.com/hamelg/python-for-data-26-anova/notebook\n",
    "- https://www.kaggle.com/hamelg/python-for-data-27-linear-regression\n",
    "\n",
    "\n",
    "You will learn about analysing data with pandas and numpy and you will learn to visualize with bokeh. Concretely, you will preprocess the Sleep Study data in an appropiate format in order to conduct statistical and visual analysis. \n",
    "\n",
    "Learning objectives\n",
    "- Conduct exploratory data analysis for categarical data\n",
    "- Provide statistical evidence of factor effect\n",
    "- Maintain development environment \n",
    "- Apply coding standards and FAIR principles\n",
    "\n",
    "Please add topics you want to learn here: https://padlet.com/ffeenstra1/z9duo25d39dcgezz\n",
    "\n",
    "\n",
    "## About the data\n",
    "\n",
    "The data is collected from a survey-based study of the sleeping habits of individuals within the US. \n",
    "\n",
    "Below is a description of each of the variables contained within the dataset.\n",
    "\n",
    "- Enough = Do you think that you get enough sleep?\n",
    "- Hours = On average, how many hours of sleep do you get on a weeknight?\n",
    "- PhoneReach = Do you sleep with your phone within arms reach?\n",
    "- PhoneTime = Do you use your phone within 30 minutes of falling asleep?\n",
    "- Tired = On a scale from 1 to 5, how tired are you throughout the day? (1 being not tired, 5 being very tired)\n",
    "- Breakfast = Do you typically eat breakfast?\n",
    "\n",
    "The two research questions you should answer in this assignment are:\n",
    "1. Is there a differences in Hours sleep caused by having breakfast (yes, no)?\n",
    "2. Is there a differences in Hours sleep caused by having breakfast and the tireness (score)\n",
    "\n",
    "\n",
    "The assignment consists of 6 parts:\n",
    "\n",
    "- [part 1: load the data](#0)\n",
    "- [part 2: data inspection](#1)\n",
    "- [part 3: check assumptions](#2)\n",
    "   - [check normality 3.1](#ex-31)\n",
    "   - [check equal variance 3.2](#ex-32)\n",
    "- [part 4: prepare the data](#3)\n",
    "- [part 5: answer the research question](#4)\n",
    "- [part 6: enhanced plotting](#5)\n",
    "\n",
    "Part 1 till 5 are mandatory, part 6 is optional (bonus)\n",
    "Mind you that you cannot copy code without referencing the code. If you copy code you need to be able to explain your code verbally and you will not get the full score. \n",
    "\n",
    "\n",
    "**NOTE If your project data is suitable you can use that data instead of the given data**"
   ]
  },
  {
   "cell_type": "markdown",
   "metadata": {},
   "source": [
    "## ANOVA\n",
    "\n",
    "Analysis of variance (ANOVA) compares the variances between groups versus within groups. It basically determines whether the differences between groups is larger than the differences within a group (the noise). \n",
    "A graph picturing this is as follow: https://link.springer.com/article/10.1007/s00424-019-02300-4/figures/2\n",
    "\n",
    "\n",
    "In ANOVA, the dependent variable must be a continuous (interval or ratio) level of measurement. For instance Glucose level. The independent variables in ANOVA must be categorical (nominal or ordinal) variables. For instance trial category, time of day (AM versus PM) or time of trial (different categories). Like the t-test, ANOVA is also a parametric test and has some assumptions. ANOVA assumes that the data is normally distributed.  The ANOVA also assumes homogeneity of variance, which means that the variance among the groups should be approximately equal. ANOVA also assumes that the observations are independent of each other. \n",
    "\n",
    "A one-way ANOVA has just one independent variable. A two-way ANOVA (are also called factorial ANOVA) refers to an ANOVA using two independent variables. For research question 1 we can use the one-way ANOVA, for research question two we can use two-way ANOVA. But first we need to check the assumptions. \n",
    "\n",
    "If your data is not normally distributed you might want to look for an alternative. See also https://www.statisticshowto.com/probability-and-statistics/statistics-definitions/parametric-and-non-parametric-data/\n"
   ]
  },
  {
   "cell_type": "markdown",
   "metadata": {},
   "source": [
    "---"
   ]
  },
  {
   "cell_type": "markdown",
   "metadata": {},
   "source": [
    "<a name='0'></a>\n",
    "## Part 1: Load the data (10 pt)\n",
    "\n",
    "load the `sleep.csv` data. \n",
    "Preferably we read the data not with a hard coded data path but using a config file. See https://fennaf.gitbook.io/bfvm22prog1/data-processing/configuration-files/yaml. Get yourself familiar with the data. Answer the following questions.\n",
    "\n",
    "1. What is the percentage missing data?\n",
    "2. Considering the research question, what is the dependent variable and what are the indepent variables? Are they of the correct datatype? "
   ]
  },
  {
   "cell_type": "code",
   "execution_count": 58,
   "metadata": {},
   "outputs": [
    {
     "data": {
      "text/html": [
       "\n",
       "    <div class=\"bk-root\">\n",
       "        <a href=\"https://bokeh.org\" target=\"_blank\" class=\"bk-logo bk-logo-small bk-logo-notebook\"></a>\n",
       "        <span id=\"3172\">Loading BokehJS ...</span>\n",
       "    </div>"
      ]
     },
     "metadata": {},
     "output_type": "display_data"
    },
    {
     "data": {
      "application/javascript": [
       "\n",
       "(function(root) {\n",
       "  function now() {\n",
       "    return new Date();\n",
       "  }\n",
       "\n",
       "  const force = true;\n",
       "\n",
       "  if (typeof root._bokeh_onload_callbacks === \"undefined\" || force === true) {\n",
       "    root._bokeh_onload_callbacks = [];\n",
       "    root._bokeh_is_loading = undefined;\n",
       "  }\n",
       "\n",
       "  const JS_MIME_TYPE = 'application/javascript';\n",
       "  const HTML_MIME_TYPE = 'text/html';\n",
       "  const EXEC_MIME_TYPE = 'application/vnd.bokehjs_exec.v0+json';\n",
       "  const CLASS_NAME = 'output_bokeh rendered_html';\n",
       "\n",
       "  /**\n",
       "   * Render data to the DOM node\n",
       "   */\n",
       "  function render(props, node) {\n",
       "    const script = document.createElement(\"script\");\n",
       "    node.appendChild(script);\n",
       "  }\n",
       "\n",
       "  /**\n",
       "   * Handle when an output is cleared or removed\n",
       "   */\n",
       "  function handleClearOutput(event, handle) {\n",
       "    const cell = handle.cell;\n",
       "\n",
       "    const id = cell.output_area._bokeh_element_id;\n",
       "    const server_id = cell.output_area._bokeh_server_id;\n",
       "    // Clean up Bokeh references\n",
       "    if (id != null && id in Bokeh.index) {\n",
       "      Bokeh.index[id].model.document.clear();\n",
       "      delete Bokeh.index[id];\n",
       "    }\n",
       "\n",
       "    if (server_id !== undefined) {\n",
       "      // Clean up Bokeh references\n",
       "      const cmd_clean = \"from bokeh.io.state import curstate; print(curstate().uuid_to_server['\" + server_id + \"'].get_sessions()[0].document.roots[0]._id)\";\n",
       "      cell.notebook.kernel.execute(cmd_clean, {\n",
       "        iopub: {\n",
       "          output: function(msg) {\n",
       "            const id = msg.content.text.trim();\n",
       "            if (id in Bokeh.index) {\n",
       "              Bokeh.index[id].model.document.clear();\n",
       "              delete Bokeh.index[id];\n",
       "            }\n",
       "          }\n",
       "        }\n",
       "      });\n",
       "      // Destroy server and session\n",
       "      const cmd_destroy = \"import bokeh.io.notebook as ion; ion.destroy_server('\" + server_id + \"')\";\n",
       "      cell.notebook.kernel.execute(cmd_destroy);\n",
       "    }\n",
       "  }\n",
       "\n",
       "  /**\n",
       "   * Handle when a new output is added\n",
       "   */\n",
       "  function handleAddOutput(event, handle) {\n",
       "    const output_area = handle.output_area;\n",
       "    const output = handle.output;\n",
       "\n",
       "    // limit handleAddOutput to display_data with EXEC_MIME_TYPE content only\n",
       "    if ((output.output_type != \"display_data\") || (!Object.prototype.hasOwnProperty.call(output.data, EXEC_MIME_TYPE))) {\n",
       "      return\n",
       "    }\n",
       "\n",
       "    const toinsert = output_area.element.find(\".\" + CLASS_NAME.split(' ')[0]);\n",
       "\n",
       "    if (output.metadata[EXEC_MIME_TYPE][\"id\"] !== undefined) {\n",
       "      toinsert[toinsert.length - 1].firstChild.textContent = output.data[JS_MIME_TYPE];\n",
       "      // store reference to embed id on output_area\n",
       "      output_area._bokeh_element_id = output.metadata[EXEC_MIME_TYPE][\"id\"];\n",
       "    }\n",
       "    if (output.metadata[EXEC_MIME_TYPE][\"server_id\"] !== undefined) {\n",
       "      const bk_div = document.createElement(\"div\");\n",
       "      bk_div.innerHTML = output.data[HTML_MIME_TYPE];\n",
       "      const script_attrs = bk_div.children[0].attributes;\n",
       "      for (let i = 0; i < script_attrs.length; i++) {\n",
       "        toinsert[toinsert.length - 1].firstChild.setAttribute(script_attrs[i].name, script_attrs[i].value);\n",
       "        toinsert[toinsert.length - 1].firstChild.textContent = bk_div.children[0].textContent\n",
       "      }\n",
       "      // store reference to server id on output_area\n",
       "      output_area._bokeh_server_id = output.metadata[EXEC_MIME_TYPE][\"server_id\"];\n",
       "    }\n",
       "  }\n",
       "\n",
       "  function register_renderer(events, OutputArea) {\n",
       "\n",
       "    function append_mime(data, metadata, element) {\n",
       "      // create a DOM node to render to\n",
       "      const toinsert = this.create_output_subarea(\n",
       "        metadata,\n",
       "        CLASS_NAME,\n",
       "        EXEC_MIME_TYPE\n",
       "      );\n",
       "      this.keyboard_manager.register_events(toinsert);\n",
       "      // Render to node\n",
       "      const props = {data: data, metadata: metadata[EXEC_MIME_TYPE]};\n",
       "      render(props, toinsert[toinsert.length - 1]);\n",
       "      element.append(toinsert);\n",
       "      return toinsert\n",
       "    }\n",
       "\n",
       "    /* Handle when an output is cleared or removed */\n",
       "    events.on('clear_output.CodeCell', handleClearOutput);\n",
       "    events.on('delete.Cell', handleClearOutput);\n",
       "\n",
       "    /* Handle when a new output is added */\n",
       "    events.on('output_added.OutputArea', handleAddOutput);\n",
       "\n",
       "    /**\n",
       "     * Register the mime type and append_mime function with output_area\n",
       "     */\n",
       "    OutputArea.prototype.register_mime_type(EXEC_MIME_TYPE, append_mime, {\n",
       "      /* Is output safe? */\n",
       "      safe: true,\n",
       "      /* Index of renderer in `output_area.display_order` */\n",
       "      index: 0\n",
       "    });\n",
       "  }\n",
       "\n",
       "  // register the mime type if in Jupyter Notebook environment and previously unregistered\n",
       "  if (root.Jupyter !== undefined) {\n",
       "    const events = require('base/js/events');\n",
       "    const OutputArea = require('notebook/js/outputarea').OutputArea;\n",
       "\n",
       "    if (OutputArea.prototype.mime_types().indexOf(EXEC_MIME_TYPE) == -1) {\n",
       "      register_renderer(events, OutputArea);\n",
       "    }\n",
       "  }\n",
       "\n",
       "  \n",
       "  if (typeof (root._bokeh_timeout) === \"undefined\" || force === true) {\n",
       "    root._bokeh_timeout = Date.now() + 5000;\n",
       "    root._bokeh_failed_load = false;\n",
       "  }\n",
       "\n",
       "  const NB_LOAD_WARNING = {'data': {'text/html':\n",
       "     \"<div style='background-color: #fdd'>\\n\"+\n",
       "     \"<p>\\n\"+\n",
       "     \"BokehJS does not appear to have successfully loaded. If loading BokehJS from CDN, this \\n\"+\n",
       "     \"may be due to a slow or bad network connection. Possible fixes:\\n\"+\n",
       "     \"</p>\\n\"+\n",
       "     \"<ul>\\n\"+\n",
       "     \"<li>re-rerun `output_notebook()` to attempt to load from CDN again, or</li>\\n\"+\n",
       "     \"<li>use INLINE resources instead, as so:</li>\\n\"+\n",
       "     \"</ul>\\n\"+\n",
       "     \"<code>\\n\"+\n",
       "     \"from bokeh.resources import INLINE\\n\"+\n",
       "     \"output_notebook(resources=INLINE)\\n\"+\n",
       "     \"</code>\\n\"+\n",
       "     \"</div>\"}};\n",
       "\n",
       "  function display_loaded() {\n",
       "    const el = document.getElementById(\"3172\");\n",
       "    if (el != null) {\n",
       "      el.textContent = \"BokehJS is loading...\";\n",
       "    }\n",
       "    if (root.Bokeh !== undefined) {\n",
       "      if (el != null) {\n",
       "        el.textContent = \"BokehJS \" + root.Bokeh.version + \" successfully loaded.\";\n",
       "      }\n",
       "    } else if (Date.now() < root._bokeh_timeout) {\n",
       "      setTimeout(display_loaded, 100)\n",
       "    }\n",
       "  }\n",
       "\n",
       "\n",
       "  function run_callbacks() {\n",
       "    try {\n",
       "      root._bokeh_onload_callbacks.forEach(function(callback) {\n",
       "        if (callback != null)\n",
       "          callback();\n",
       "      });\n",
       "    } finally {\n",
       "      delete root._bokeh_onload_callbacks\n",
       "    }\n",
       "    console.debug(\"Bokeh: all callbacks have finished\");\n",
       "  }\n",
       "\n",
       "  function load_libs(css_urls, js_urls, callback) {\n",
       "    if (css_urls == null) css_urls = [];\n",
       "    if (js_urls == null) js_urls = [];\n",
       "\n",
       "    root._bokeh_onload_callbacks.push(callback);\n",
       "    if (root._bokeh_is_loading > 0) {\n",
       "      console.debug(\"Bokeh: BokehJS is being loaded, scheduling callback at\", now());\n",
       "      return null;\n",
       "    }\n",
       "    if (js_urls == null || js_urls.length === 0) {\n",
       "      run_callbacks();\n",
       "      return null;\n",
       "    }\n",
       "    console.debug(\"Bokeh: BokehJS not loaded, scheduling load and callback at\", now());\n",
       "    root._bokeh_is_loading = css_urls.length + js_urls.length;\n",
       "\n",
       "    function on_load() {\n",
       "      root._bokeh_is_loading--;\n",
       "      if (root._bokeh_is_loading === 0) {\n",
       "        console.debug(\"Bokeh: all BokehJS libraries/stylesheets loaded\");\n",
       "        run_callbacks()\n",
       "      }\n",
       "    }\n",
       "\n",
       "    function on_error(url) {\n",
       "      console.error(\"failed to load \" + url);\n",
       "    }\n",
       "\n",
       "    for (let i = 0; i < css_urls.length; i++) {\n",
       "      const url = css_urls[i];\n",
       "      const element = document.createElement(\"link\");\n",
       "      element.onload = on_load;\n",
       "      element.onerror = on_error.bind(null, url);\n",
       "      element.rel = \"stylesheet\";\n",
       "      element.type = \"text/css\";\n",
       "      element.href = url;\n",
       "      console.debug(\"Bokeh: injecting link tag for BokehJS stylesheet: \", url);\n",
       "      document.body.appendChild(element);\n",
       "    }\n",
       "\n",
       "    for (let i = 0; i < js_urls.length; i++) {\n",
       "      const url = js_urls[i];\n",
       "      const element = document.createElement('script');\n",
       "      element.onload = on_load;\n",
       "      element.onerror = on_error.bind(null, url);\n",
       "      element.async = false;\n",
       "      element.src = url;\n",
       "      console.debug(\"Bokeh: injecting script tag for BokehJS library: \", url);\n",
       "      document.head.appendChild(element);\n",
       "    }\n",
       "  };\n",
       "\n",
       "  function inject_raw_css(css) {\n",
       "    const element = document.createElement(\"style\");\n",
       "    element.appendChild(document.createTextNode(css));\n",
       "    document.body.appendChild(element);\n",
       "  }\n",
       "\n",
       "  \n",
       "  const js_urls = [\"https://cdn.bokeh.org/bokeh/release/bokeh-2.4.2.min.js\", \"https://cdn.bokeh.org/bokeh/release/bokeh-gl-2.4.2.min.js\", \"https://cdn.bokeh.org/bokeh/release/bokeh-widgets-2.4.2.min.js\", \"https://cdn.bokeh.org/bokeh/release/bokeh-tables-2.4.2.min.js\", \"https://cdn.bokeh.org/bokeh/release/bokeh-mathjax-2.4.2.min.js\"];\n",
       "  const css_urls = [];\n",
       "  \n",
       "\n",
       "  const inline_js = [\n",
       "    function(Bokeh) {\n",
       "      Bokeh.set_log_level(\"info\");\n",
       "    },\n",
       "    function(Bokeh) {\n",
       "    \n",
       "    \n",
       "    }\n",
       "  ];\n",
       "\n",
       "  function run_inline_js() {\n",
       "    \n",
       "    if (root.Bokeh !== undefined || force === true) {\n",
       "      \n",
       "    for (let i = 0; i < inline_js.length; i++) {\n",
       "      inline_js[i].call(root, root.Bokeh);\n",
       "    }\n",
       "    if (force === true) {\n",
       "        display_loaded();\n",
       "      }} else if (Date.now() < root._bokeh_timeout) {\n",
       "      setTimeout(run_inline_js, 100);\n",
       "    } else if (!root._bokeh_failed_load) {\n",
       "      console.log(\"Bokeh: BokehJS failed to load within specified timeout.\");\n",
       "      root._bokeh_failed_load = true;\n",
       "    } else if (force !== true) {\n",
       "      const cell = $(document.getElementById(\"3172\")).parents('.cell').data().cell;\n",
       "      cell.output_area.append_execute_result(NB_LOAD_WARNING)\n",
       "    }\n",
       "\n",
       "  }\n",
       "\n",
       "  if (root._bokeh_is_loading === 0) {\n",
       "    console.debug(\"Bokeh: BokehJS loaded, going straight to plotting\");\n",
       "    run_inline_js();\n",
       "  } else {\n",
       "    load_libs(css_urls, js_urls, function() {\n",
       "      console.debug(\"Bokeh: BokehJS plotting callback run at\", now());\n",
       "      run_inline_js();\n",
       "    });\n",
       "  }\n",
       "}(window));"
      ],
      "application/vnd.bokehjs_load.v0+json": "\n(function(root) {\n  function now() {\n    return new Date();\n  }\n\n  const force = true;\n\n  if (typeof root._bokeh_onload_callbacks === \"undefined\" || force === true) {\n    root._bokeh_onload_callbacks = [];\n    root._bokeh_is_loading = undefined;\n  }\n\n  \n\n  \n  if (typeof (root._bokeh_timeout) === \"undefined\" || force === true) {\n    root._bokeh_timeout = Date.now() + 5000;\n    root._bokeh_failed_load = false;\n  }\n\n  const NB_LOAD_WARNING = {'data': {'text/html':\n     \"<div style='background-color: #fdd'>\\n\"+\n     \"<p>\\n\"+\n     \"BokehJS does not appear to have successfully loaded. If loading BokehJS from CDN, this \\n\"+\n     \"may be due to a slow or bad network connection. Possible fixes:\\n\"+\n     \"</p>\\n\"+\n     \"<ul>\\n\"+\n     \"<li>re-rerun `output_notebook()` to attempt to load from CDN again, or</li>\\n\"+\n     \"<li>use INLINE resources instead, as so:</li>\\n\"+\n     \"</ul>\\n\"+\n     \"<code>\\n\"+\n     \"from bokeh.resources import INLINE\\n\"+\n     \"output_notebook(resources=INLINE)\\n\"+\n     \"</code>\\n\"+\n     \"</div>\"}};\n\n  function display_loaded() {\n    const el = document.getElementById(\"3172\");\n    if (el != null) {\n      el.textContent = \"BokehJS is loading...\";\n    }\n    if (root.Bokeh !== undefined) {\n      if (el != null) {\n        el.textContent = \"BokehJS \" + root.Bokeh.version + \" successfully loaded.\";\n      }\n    } else if (Date.now() < root._bokeh_timeout) {\n      setTimeout(display_loaded, 100)\n    }\n  }\n\n\n  function run_callbacks() {\n    try {\n      root._bokeh_onload_callbacks.forEach(function(callback) {\n        if (callback != null)\n          callback();\n      });\n    } finally {\n      delete root._bokeh_onload_callbacks\n    }\n    console.debug(\"Bokeh: all callbacks have finished\");\n  }\n\n  function load_libs(css_urls, js_urls, callback) {\n    if (css_urls == null) css_urls = [];\n    if (js_urls == null) js_urls = [];\n\n    root._bokeh_onload_callbacks.push(callback);\n    if (root._bokeh_is_loading > 0) {\n      console.debug(\"Bokeh: BokehJS is being loaded, scheduling callback at\", now());\n      return null;\n    }\n    if (js_urls == null || js_urls.length === 0) {\n      run_callbacks();\n      return null;\n    }\n    console.debug(\"Bokeh: BokehJS not loaded, scheduling load and callback at\", now());\n    root._bokeh_is_loading = css_urls.length + js_urls.length;\n\n    function on_load() {\n      root._bokeh_is_loading--;\n      if (root._bokeh_is_loading === 0) {\n        console.debug(\"Bokeh: all BokehJS libraries/stylesheets loaded\");\n        run_callbacks()\n      }\n    }\n\n    function on_error(url) {\n      console.error(\"failed to load \" + url);\n    }\n\n    for (let i = 0; i < css_urls.length; i++) {\n      const url = css_urls[i];\n      const element = document.createElement(\"link\");\n      element.onload = on_load;\n      element.onerror = on_error.bind(null, url);\n      element.rel = \"stylesheet\";\n      element.type = \"text/css\";\n      element.href = url;\n      console.debug(\"Bokeh: injecting link tag for BokehJS stylesheet: \", url);\n      document.body.appendChild(element);\n    }\n\n    for (let i = 0; i < js_urls.length; i++) {\n      const url = js_urls[i];\n      const element = document.createElement('script');\n      element.onload = on_load;\n      element.onerror = on_error.bind(null, url);\n      element.async = false;\n      element.src = url;\n      console.debug(\"Bokeh: injecting script tag for BokehJS library: \", url);\n      document.head.appendChild(element);\n    }\n  };\n\n  function inject_raw_css(css) {\n    const element = document.createElement(\"style\");\n    element.appendChild(document.createTextNode(css));\n    document.body.appendChild(element);\n  }\n\n  \n  const js_urls = [\"https://cdn.bokeh.org/bokeh/release/bokeh-2.4.2.min.js\", \"https://cdn.bokeh.org/bokeh/release/bokeh-gl-2.4.2.min.js\", \"https://cdn.bokeh.org/bokeh/release/bokeh-widgets-2.4.2.min.js\", \"https://cdn.bokeh.org/bokeh/release/bokeh-tables-2.4.2.min.js\", \"https://cdn.bokeh.org/bokeh/release/bokeh-mathjax-2.4.2.min.js\"];\n  const css_urls = [];\n  \n\n  const inline_js = [\n    function(Bokeh) {\n      Bokeh.set_log_level(\"info\");\n    },\n    function(Bokeh) {\n    \n    \n    }\n  ];\n\n  function run_inline_js() {\n    \n    if (root.Bokeh !== undefined || force === true) {\n      \n    for (let i = 0; i < inline_js.length; i++) {\n      inline_js[i].call(root, root.Bokeh);\n    }\n    if (force === true) {\n        display_loaded();\n      }} else if (Date.now() < root._bokeh_timeout) {\n      setTimeout(run_inline_js, 100);\n    } else if (!root._bokeh_failed_load) {\n      console.log(\"Bokeh: BokehJS failed to load within specified timeout.\");\n      root._bokeh_failed_load = true;\n    } else if (force !== true) {\n      const cell = $(document.getElementById(\"3172\")).parents('.cell').data().cell;\n      cell.output_area.append_execute_result(NB_LOAD_WARNING)\n    }\n\n  }\n\n  if (root._bokeh_is_loading === 0) {\n    console.debug(\"Bokeh: BokehJS loaded, going straight to plotting\");\n    run_inline_js();\n  } else {\n    load_libs(css_urls, js_urls, function() {\n      console.debug(\"Bokeh: BokehJS plotting callback run at\", now());\n      run_inline_js();\n    });\n  }\n}(window));"
     },
     "metadata": {},
     "output_type": "display_data"
    }
   ],
   "source": [
    "import yaml\n",
    "import pandas as pd\n",
    "from bokeh.io import push_notebook, show, output_notebook\n",
    "from bokeh.plotting import figure\n",
    "from bokeh.layouts import gridplot\n",
    "from bokeh.models import (BasicTicker, ColorBar, ColumnDataSource,\n",
    "                          LinearColorMapper, PrintfTickFormatter, Span)\n",
    "from bokeh.transform import transform\n",
    "from bokeh.palettes import PuBuGn\n",
    "import matplotlib.pyplot as plt\n",
    "import seaborn as sns\n",
    "import numpy as np\n",
    "from scipy import stats as st\n",
    "from scipy.stats import norm, levene\n",
    "import statsmodels.api as sm\n",
    "from statsmodels.formula.api import ols\n",
    "\n",
    "output_notebook()"
   ]
  },
  {
   "cell_type": "code",
   "execution_count": 59,
   "metadata": {},
   "outputs": [],
   "source": [
    "def get_config():\n",
    "    with open(\"config.yaml\", 'r') as stream:\n",
    "        config = yaml.safe_load(stream)\n",
    "    return config\n",
    "config = get_config()\n",
    "db = config['db']"
   ]
  },
  {
   "cell_type": "code",
   "execution_count": 60,
   "metadata": {},
   "outputs": [],
   "source": [
    "try:\n",
    "    data = pd.read_csv(db + 'sleep.csv')\n",
    "except FileNotFoundError:\n",
    "    print('No such file')"
   ]
  },
  {
   "cell_type": "code",
   "execution_count": 61,
   "metadata": {},
   "outputs": [
    {
     "data": {
      "text/html": [
       "<div>\n",
       "<style scoped>\n",
       "    .dataframe tbody tr th:only-of-type {\n",
       "        vertical-align: middle;\n",
       "    }\n",
       "\n",
       "    .dataframe tbody tr th {\n",
       "        vertical-align: top;\n",
       "    }\n",
       "\n",
       "    .dataframe thead th {\n",
       "        text-align: right;\n",
       "    }\n",
       "</style>\n",
       "<table border=\"1\" class=\"dataframe\">\n",
       "  <thead>\n",
       "    <tr style=\"text-align: right;\">\n",
       "      <th></th>\n",
       "      <th>Enough</th>\n",
       "      <th>Hours</th>\n",
       "      <th>PhoneReach</th>\n",
       "      <th>PhoneTime</th>\n",
       "      <th>Tired</th>\n",
       "      <th>Breakfast</th>\n",
       "    </tr>\n",
       "  </thead>\n",
       "  <tbody>\n",
       "    <tr>\n",
       "      <th>0</th>\n",
       "      <td>Yes</td>\n",
       "      <td>8.0</td>\n",
       "      <td>Yes</td>\n",
       "      <td>Yes</td>\n",
       "      <td>3</td>\n",
       "      <td>Yes</td>\n",
       "    </tr>\n",
       "    <tr>\n",
       "      <th>1</th>\n",
       "      <td>No</td>\n",
       "      <td>6.0</td>\n",
       "      <td>Yes</td>\n",
       "      <td>Yes</td>\n",
       "      <td>3</td>\n",
       "      <td>No</td>\n",
       "    </tr>\n",
       "    <tr>\n",
       "      <th>2</th>\n",
       "      <td>Yes</td>\n",
       "      <td>6.0</td>\n",
       "      <td>Yes</td>\n",
       "      <td>Yes</td>\n",
       "      <td>2</td>\n",
       "      <td>Yes</td>\n",
       "    </tr>\n",
       "    <tr>\n",
       "      <th>3</th>\n",
       "      <td>No</td>\n",
       "      <td>7.0</td>\n",
       "      <td>Yes</td>\n",
       "      <td>Yes</td>\n",
       "      <td>4</td>\n",
       "      <td>No</td>\n",
       "    </tr>\n",
       "    <tr>\n",
       "      <th>4</th>\n",
       "      <td>No</td>\n",
       "      <td>7.0</td>\n",
       "      <td>Yes</td>\n",
       "      <td>Yes</td>\n",
       "      <td>2</td>\n",
       "      <td>Yes</td>\n",
       "    </tr>\n",
       "  </tbody>\n",
       "</table>\n",
       "</div>"
      ],
      "text/plain": [
       "  Enough  Hours PhoneReach PhoneTime  Tired Breakfast\n",
       "0    Yes    8.0        Yes       Yes      3       Yes\n",
       "1     No    6.0        Yes       Yes      3        No\n",
       "2    Yes    6.0        Yes       Yes      2       Yes\n",
       "3     No    7.0        Yes       Yes      4        No\n",
       "4     No    7.0        Yes       Yes      2       Yes"
      ]
     },
     "metadata": {},
     "output_type": "display_data"
    },
    {
     "name": "stdout",
     "output_type": "stream",
     "text": [
      "<class 'pandas.core.frame.DataFrame'>\n",
      "RangeIndex: 104 entries, 0 to 103\n",
      "Data columns (total 6 columns):\n",
      " #   Column      Non-Null Count  Dtype  \n",
      "---  ------      --------------  -----  \n",
      " 0   Enough      104 non-null    object \n",
      " 1   Hours       102 non-null    float64\n",
      " 2   PhoneReach  104 non-null    object \n",
      " 3   PhoneTime   104 non-null    object \n",
      " 4   Tired       104 non-null    int64  \n",
      " 5   Breakfast   104 non-null    object \n",
      "dtypes: float64(1), int64(1), object(4)\n",
      "memory usage: 5.0+ KB\n"
     ]
    }
   ],
   "source": [
    "display(data.head())\n",
    "data.info()"
   ]
  },
  {
   "cell_type": "code",
   "execution_count": 62,
   "metadata": {},
   "outputs": [
    {
     "name": "stdout",
     "output_type": "stream",
     "text": [
      "Percent of missing data: 1.92%\n"
     ]
    },
    {
     "data": {
      "text/html": [
       "<div>\n",
       "<style scoped>\n",
       "    .dataframe tbody tr th:only-of-type {\n",
       "        vertical-align: middle;\n",
       "    }\n",
       "\n",
       "    .dataframe tbody tr th {\n",
       "        vertical-align: top;\n",
       "    }\n",
       "\n",
       "    .dataframe thead th {\n",
       "        text-align: right;\n",
       "    }\n",
       "</style>\n",
       "<table border=\"1\" class=\"dataframe\">\n",
       "  <thead>\n",
       "    <tr style=\"text-align: right;\">\n",
       "      <th></th>\n",
       "      <th>Enough</th>\n",
       "      <th>Hours</th>\n",
       "      <th>PhoneReach</th>\n",
       "      <th>PhoneTime</th>\n",
       "      <th>Tired</th>\n",
       "      <th>Breakfast</th>\n",
       "    </tr>\n",
       "  </thead>\n",
       "  <tbody>\n",
       "    <tr>\n",
       "      <th>65</th>\n",
       "      <td>No</td>\n",
       "      <td>NaN</td>\n",
       "      <td>Yes</td>\n",
       "      <td>No</td>\n",
       "      <td>3</td>\n",
       "      <td>Yes</td>\n",
       "    </tr>\n",
       "    <tr>\n",
       "      <th>91</th>\n",
       "      <td>Yes</td>\n",
       "      <td>NaN</td>\n",
       "      <td>No</td>\n",
       "      <td>Yes</td>\n",
       "      <td>2</td>\n",
       "      <td>Yes</td>\n",
       "    </tr>\n",
       "  </tbody>\n",
       "</table>\n",
       "</div>"
      ],
      "text/plain": [
       "   Enough  Hours PhoneReach PhoneTime  Tired Breakfast\n",
       "65     No    NaN        Yes        No      3       Yes\n",
       "91    Yes    NaN         No       Yes      2       Yes"
      ]
     },
     "execution_count": 62,
     "metadata": {},
     "output_type": "execute_result"
    }
   ],
   "source": [
    "#code printing percentage missing data\n",
    "print('Percent of missing data: {:.2f}%'.format(data['Hours'].isna().sum()*100 / len(data)))\n",
    "data[data['Hours'].isna()]"
   ]
  },
  {
   "cell_type": "code",
   "execution_count": 63,
   "metadata": {},
   "outputs": [],
   "source": [
    "data = data.drop(data[data['Hours'].isna()].index)"
   ]
  },
  {
   "cell_type": "code",
   "execution_count": 64,
   "metadata": {},
   "outputs": [
    {
     "data": {
      "text/plain": [
       "array([[<AxesSubplot:title={'center':'Hours'}>]], dtype=object)"
      ]
     },
     "execution_count": 64,
     "metadata": {},
     "output_type": "execute_result"
    },
    {
     "data": {
      "image/png": "[encoded data removed]",
      "text/plain": [
       "<Figure size 432x288 with 1 Axes>"
      ]
     },
     "metadata": {
      "needs_background": "light"
     },
     "output_type": "display_data"
    }
   ],
   "source": [
    "# visual representation of hours range\n",
    "data.hist('Hours', bins = 20)"
   ]
  },
  {
   "cell_type": "markdown",
   "metadata": {},
   "source": [
    "Information on Enough, PhoneReach, PhoneTime, Tired and Breakfast are categorical variables. \n",
    "Since dependent variable is a continuous one, then 'Hours' is the dependent. And the columns with categorical values are independent."
   ]
  },
  {
   "cell_type": "markdown",
   "metadata": {},
   "source": [
    "The data in the table is of correct data type."
   ]
  },
  {
   "cell_type": "markdown",
   "metadata": {},
   "source": [
    "---"
   ]
  },
  {
   "cell_type": "markdown",
   "metadata": {},
   "source": [
    "<a name='1'></a>\n",
    "## Part 2: Inspect the data (30 pt)\n",
    "\n",
    "Inspect the data practically. Get an idea about how well the variable categories are ballanced. Are the values of a variable equally divided? What is the mean value of the dependent variable? Are there correlations amongs the variables?\n"
   ]
  },
  {
   "cell_type": "markdown",
   "metadata": {},
   "source": [
    "<ul>\n",
    "<li>Create some meaninful overviews such as variable value counts</li>\n",
    "<li>Create a scatter plot ploting the relation between being tired and hours of sleep with different colors for Breakfast</li>\n",
    "    <li>Print some basic statistics about the target (mean, standard deviation)</li>\n",
    "    <li>Create a heatmap to check for correlations among variables. </li>\n",
    "\n",
    "<details>    \n",
    "<summary>\n",
    "    <font size=\"3\" color=\"darkgreen\"><b>Hints</b></font>\n",
    "</summary>\n",
    "    <ul><li>the gitbook has a bokeh heatmap example</li></ul>\n",
    "</details>\n",
    "</ul>"
   ]
  },
  {
   "cell_type": "code",
   "execution_count": 65,
   "metadata": {},
   "outputs": [
    {
     "name": "stdout",
     "output_type": "stream",
     "text": [
      "Number of unique values for column Enough\n"
     ]
    },
    {
     "data": {
      "text/html": [
       "<div>\n",
       "<style scoped>\n",
       "    .dataframe tbody tr th:only-of-type {\n",
       "        vertical-align: middle;\n",
       "    }\n",
       "\n",
       "    .dataframe tbody tr th {\n",
       "        vertical-align: top;\n",
       "    }\n",
       "\n",
       "    .dataframe thead th {\n",
       "        text-align: right;\n",
       "    }\n",
       "</style>\n",
       "<table border=\"1\" class=\"dataframe\">\n",
       "  <thead>\n",
       "    <tr style=\"text-align: right;\">\n",
       "      <th></th>\n",
       "      <th>index</th>\n",
       "      <th>Enough</th>\n",
       "    </tr>\n",
       "  </thead>\n",
       "  <tbody>\n",
       "    <tr>\n",
       "      <th>0</th>\n",
       "      <td>No</td>\n",
       "      <td>67</td>\n",
       "    </tr>\n",
       "    <tr>\n",
       "      <th>1</th>\n",
       "      <td>Yes</td>\n",
       "      <td>35</td>\n",
       "    </tr>\n",
       "  </tbody>\n",
       "</table>\n",
       "</div>"
      ],
      "text/plain": [
       "  index  Enough\n",
       "0    No      67\n",
       "1   Yes      35"
      ]
     },
     "metadata": {},
     "output_type": "display_data"
    },
    {
     "name": "stdout",
     "output_type": "stream",
     "text": [
      "Number of unique values for column Hours\n"
     ]
    },
    {
     "data": {
      "text/html": [
       "<div>\n",
       "<style scoped>\n",
       "    .dataframe tbody tr th:only-of-type {\n",
       "        vertical-align: middle;\n",
       "    }\n",
       "\n",
       "    .dataframe tbody tr th {\n",
       "        vertical-align: top;\n",
       "    }\n",
       "\n",
       "    .dataframe thead th {\n",
       "        text-align: right;\n",
       "    }\n",
       "</style>\n",
       "<table border=\"1\" class=\"dataframe\">\n",
       "  <thead>\n",
       "    <tr style=\"text-align: right;\">\n",
       "      <th></th>\n",
       "      <th>index</th>\n",
       "      <th>Hours</th>\n",
       "    </tr>\n",
       "  </thead>\n",
       "  <tbody>\n",
       "    <tr>\n",
       "      <th>0</th>\n",
       "      <td>7.0</td>\n",
       "      <td>35</td>\n",
       "    </tr>\n",
       "    <tr>\n",
       "      <th>1</th>\n",
       "      <td>6.0</td>\n",
       "      <td>24</td>\n",
       "    </tr>\n",
       "    <tr>\n",
       "      <th>2</th>\n",
       "      <td>8.0</td>\n",
       "      <td>16</td>\n",
       "    </tr>\n",
       "    <tr>\n",
       "      <th>3</th>\n",
       "      <td>5.0</td>\n",
       "      <td>12</td>\n",
       "    </tr>\n",
       "    <tr>\n",
       "      <th>4</th>\n",
       "      <td>9.0</td>\n",
       "      <td>8</td>\n",
       "    </tr>\n",
       "    <tr>\n",
       "      <th>5</th>\n",
       "      <td>4.0</td>\n",
       "      <td>4</td>\n",
       "    </tr>\n",
       "    <tr>\n",
       "      <th>6</th>\n",
       "      <td>2.0</td>\n",
       "      <td>2</td>\n",
       "    </tr>\n",
       "    <tr>\n",
       "      <th>7</th>\n",
       "      <td>10.0</td>\n",
       "      <td>1</td>\n",
       "    </tr>\n",
       "  </tbody>\n",
       "</table>\n",
       "</div>"
      ],
      "text/plain": [
       "   index  Hours\n",
       "0    7.0     35\n",
       "1    6.0     24\n",
       "2    8.0     16\n",
       "3    5.0     12\n",
       "4    9.0      8\n",
       "5    4.0      4\n",
       "6    2.0      2\n",
       "7   10.0      1"
      ]
     },
     "metadata": {},
     "output_type": "display_data"
    },
    {
     "name": "stdout",
     "output_type": "stream",
     "text": [
      "Number of unique values for column PhoneReach\n"
     ]
    },
    {
     "data": {
      "text/html": [
       "<div>\n",
       "<style scoped>\n",
       "    .dataframe tbody tr th:only-of-type {\n",
       "        vertical-align: middle;\n",
       "    }\n",
       "\n",
       "    .dataframe tbody tr th {\n",
       "        vertical-align: top;\n",
       "    }\n",
       "\n",
       "    .dataframe thead th {\n",
       "        text-align: right;\n",
       "    }\n",
       "</style>\n",
       "<table border=\"1\" class=\"dataframe\">\n",
       "  <thead>\n",
       "    <tr style=\"text-align: right;\">\n",
       "      <th></th>\n",
       "      <th>index</th>\n",
       "      <th>PhoneReach</th>\n",
       "    </tr>\n",
       "  </thead>\n",
       "  <tbody>\n",
       "    <tr>\n",
       "      <th>0</th>\n",
       "      <td>Yes</td>\n",
       "      <td>71</td>\n",
       "    </tr>\n",
       "    <tr>\n",
       "      <th>1</th>\n",
       "      <td>No</td>\n",
       "      <td>31</td>\n",
       "    </tr>\n",
       "  </tbody>\n",
       "</table>\n",
       "</div>"
      ],
      "text/plain": [
       "  index  PhoneReach\n",
       "0   Yes          71\n",
       "1    No          31"
      ]
     },
     "metadata": {},
     "output_type": "display_data"
    },
    {
     "name": "stdout",
     "output_type": "stream",
     "text": [
      "Number of unique values for column PhoneTime\n"
     ]
    },
    {
     "data": {
      "text/html": [
       "<div>\n",
       "<style scoped>\n",
       "    .dataframe tbody tr th:only-of-type {\n",
       "        vertical-align: middle;\n",
       "    }\n",
       "\n",
       "    .dataframe tbody tr th {\n",
       "        vertical-align: top;\n",
       "    }\n",
       "\n",
       "    .dataframe thead th {\n",
       "        text-align: right;\n",
       "    }\n",
       "</style>\n",
       "<table border=\"1\" class=\"dataframe\">\n",
       "  <thead>\n",
       "    <tr style=\"text-align: right;\">\n",
       "      <th></th>\n",
       "      <th>index</th>\n",
       "      <th>PhoneTime</th>\n",
       "    </tr>\n",
       "  </thead>\n",
       "  <tbody>\n",
       "    <tr>\n",
       "      <th>0</th>\n",
       "      <td>Yes</td>\n",
       "      <td>83</td>\n",
       "    </tr>\n",
       "    <tr>\n",
       "      <th>1</th>\n",
       "      <td>No</td>\n",
       "      <td>19</td>\n",
       "    </tr>\n",
       "  </tbody>\n",
       "</table>\n",
       "</div>"
      ],
      "text/plain": [
       "  index  PhoneTime\n",
       "0   Yes         83\n",
       "1    No         19"
      ]
     },
     "metadata": {},
     "output_type": "display_data"
    },
    {
     "name": "stdout",
     "output_type": "stream",
     "text": [
      "Number of unique values for column Tired\n"
     ]
    },
    {
     "data": {
      "text/html": [
       "<div>\n",
       "<style scoped>\n",
       "    .dataframe tbody tr th:only-of-type {\n",
       "        vertical-align: middle;\n",
       "    }\n",
       "\n",
       "    .dataframe tbody tr th {\n",
       "        vertical-align: top;\n",
       "    }\n",
       "\n",
       "    .dataframe thead th {\n",
       "        text-align: right;\n",
       "    }\n",
       "</style>\n",
       "<table border=\"1\" class=\"dataframe\">\n",
       "  <thead>\n",
       "    <tr style=\"text-align: right;\">\n",
       "      <th></th>\n",
       "      <th>index</th>\n",
       "      <th>Tired</th>\n",
       "    </tr>\n",
       "  </thead>\n",
       "  <tbody>\n",
       "    <tr>\n",
       "      <th>0</th>\n",
       "      <td>3</td>\n",
       "      <td>39</td>\n",
       "    </tr>\n",
       "    <tr>\n",
       "      <th>1</th>\n",
       "      <td>2</td>\n",
       "      <td>26</td>\n",
       "    </tr>\n",
       "    <tr>\n",
       "      <th>2</th>\n",
       "      <td>4</td>\n",
       "      <td>23</td>\n",
       "    </tr>\n",
       "    <tr>\n",
       "      <th>3</th>\n",
       "      <td>5</td>\n",
       "      <td>10</td>\n",
       "    </tr>\n",
       "    <tr>\n",
       "      <th>4</th>\n",
       "      <td>1</td>\n",
       "      <td>4</td>\n",
       "    </tr>\n",
       "  </tbody>\n",
       "</table>\n",
       "</div>"
      ],
      "text/plain": [
       "   index  Tired\n",
       "0      3     39\n",
       "1      2     26\n",
       "2      4     23\n",
       "3      5     10\n",
       "4      1      4"
      ]
     },
     "metadata": {},
     "output_type": "display_data"
    },
    {
     "name": "stdout",
     "output_type": "stream",
     "text": [
      "Number of unique values for column Breakfast\n"
     ]
    },
    {
     "data": {
      "text/html": [
       "<div>\n",
       "<style scoped>\n",
       "    .dataframe tbody tr th:only-of-type {\n",
       "        vertical-align: middle;\n",
       "    }\n",
       "\n",
       "    .dataframe tbody tr th {\n",
       "        vertical-align: top;\n",
       "    }\n",
       "\n",
       "    .dataframe thead th {\n",
       "        text-align: right;\n",
       "    }\n",
       "</style>\n",
       "<table border=\"1\" class=\"dataframe\">\n",
       "  <thead>\n",
       "    <tr style=\"text-align: right;\">\n",
       "      <th></th>\n",
       "      <th>index</th>\n",
       "      <th>Breakfast</th>\n",
       "    </tr>\n",
       "  </thead>\n",
       "  <tbody>\n",
       "    <tr>\n",
       "      <th>0</th>\n",
       "      <td>Yes</td>\n",
       "      <td>61</td>\n",
       "    </tr>\n",
       "    <tr>\n",
       "      <th>1</th>\n",
       "      <td>No</td>\n",
       "      <td>41</td>\n",
       "    </tr>\n",
       "  </tbody>\n",
       "</table>\n",
       "</div>"
      ],
      "text/plain": [
       "  index  Breakfast\n",
       "0   Yes         61\n",
       "1    No         41"
      ]
     },
     "metadata": {},
     "output_type": "display_data"
    }
   ],
   "source": [
    "#code your answer to the value counts and distribution plots here\n",
    "for col in data.columns:\n",
    "    print(f'Number of unique values for column {col}')\n",
    "    display(data[col].value_counts().reset_index())"
   ]
  },
  {
   "cell_type": "code",
   "execution_count": 66,
   "metadata": {},
   "outputs": [
    {
     "name": "stderr",
     "output_type": "stream",
     "text": [
      "BokehDeprecationWarning: 'legend' keyword is deprecated, use explicit 'legend_label', 'legend_field', or 'legend_group' keywords instead\n",
      "BokehDeprecationWarning: 'legend' keyword is deprecated, use explicit 'legend_label', 'legend_field', or 'legend_group' keywords instead\n",
      "ERROR:bokeh.core.validation.check:E-1006 (NON_MATCHING_DATA_SOURCES_ON_LEGEND_ITEM_RENDERERS): LegendItem.label is a field, but renderer data sources don't match: LegendItem(id='3224', ...)\n"
     ]
    },
    {
     "data": {
      "text/html": [
       "\n",
       "\n",
       "\n",
       "\n",
       "\n",
       "\n",
       "  <div class=\"bk-root\" id=\"7760d584-a767-4128-885a-d0b1b7d618fa\" data-root-id=\"3174\"></div>\n"
      ]
     },
     "metadata": {},
     "output_type": "display_data"
    },
    {
     "data": {
      "application/javascript": [
       "(function(root) {\n",
       "  function embed_document(root) {\n",
       "    \n",
       "  const docs_json = {\"7e74df06-57ed-4fb3-b09c-3e625bd8060e\":{\"defs\":[],\"roots\":{\"references\":[{\"attributes\":{\"below\":[{\"id\":\"3183\"}],\"center\":[{\"id\":\"3186\"},{\"id\":\"3190\"},{\"id\":\"3223\"}],\"left\":[{\"id\":\"3187\"}],\"renderers\":[{\"id\":\"3210\"},{\"id\":\"3230\"}],\"title\":{\"id\":\"3212\"},\"toolbar\":{\"id\":\"3198\"},\"x_range\":{\"id\":\"3175\"},\"x_scale\":{\"id\":\"3179\"},\"y_range\":{\"id\":\"3177\"},\"y_scale\":{\"id\":\"3181\"}},\"id\":\"3174\",\"subtype\":\"Figure\",\"type\":\"Plot\"},{\"attributes\":{},\"id\":\"3175\",\"type\":\"DataRange1d\"},{\"attributes\":{\"bottom_units\":\"screen\",\"coordinates\":null,\"fill_alpha\":0.5,\"fill_color\":\"lightgrey\",\"group\":null,\"left_units\":\"screen\",\"level\":\"overlay\",\"line_alpha\":1.0,\"line_color\":\"black\",\"line_dash\":[4,4],\"line_width\":2,\"right_units\":\"screen\",\"syncable\":false,\"top_units\":\"screen\"},\"id\":\"3197\",\"type\":\"BoxAnnotation\"},{\"attributes\":{},\"id\":\"3221\",\"type\":\"Selection\"},{\"attributes\":{},\"id\":\"3242\",\"type\":\"UnionRenderers\"},{\"attributes\":{\"fill_alpha\":{\"value\":0.2},\"fill_color\":{\"field\":\"Breakfast\",\"transform\":{\"id\":\"3173\"}},\"hatch_alpha\":{\"value\":0.2},\"line_alpha\":{\"value\":0.2},\"line_color\":{\"value\":\"#1f77b4\"},\"size\":{\"value\":8},\"x\":{\"field\":\"Tired\"},\"y\":{\"field\":\"Hours\"}},\"id\":\"3229\",\"type\":\"Scatter\"},{\"attributes\":{},\"id\":\"3177\",\"type\":\"DataRange1d\"},{\"attributes\":{\"click_policy\":\"hide\",\"coordinates\":null,\"group\":null,\"items\":[{\"id\":\"3224\"}],\"location\":\"top_left\"},\"id\":\"3223\",\"type\":\"Legend\"},{\"attributes\":{},\"id\":\"3218\",\"type\":\"BasicTickFormatter\"},{\"attributes\":{},\"id\":\"3219\",\"type\":\"AllLabels\"},{\"attributes\":{\"fill_alpha\":{\"value\":0.6},\"fill_color\":{\"field\":\"Breakfast\",\"transform\":{\"id\":\"3173\"}},\"line_color\":{\"value\":\"#1f77b4\"},\"size\":{\"value\":8},\"x\":{\"field\":\"Tired\"},\"y\":{\"field\":\"Hours\"}},\"id\":\"3227\",\"type\":\"Scatter\"},{\"attributes\":{\"factors\":[\"No\",\"Yes\"],\"palette\":[\"red\",\"blue\"]},\"id\":\"3173\",\"type\":\"CategoricalColorMapper\"},{\"attributes\":{},\"id\":\"3220\",\"type\":\"UnionRenderers\"},{\"attributes\":{\"fill_alpha\":{\"value\":0.2},\"fill_color\":{\"field\":\"Breakfast\",\"transform\":{\"id\":\"3173\"}},\"hatch_alpha\":{\"value\":0.2},\"line_alpha\":{\"value\":0.2},\"line_color\":{\"value\":\"#1f77b4\"},\"size\":{\"value\":8},\"x\":{\"field\":\"Tired\"},\"y\":{\"field\":\"Hours\"}},\"id\":\"3209\",\"type\":\"Scatter\"},{\"attributes\":{\"data\":{\"Breakfast\":[\"Yes\",\"Yes\",\"Yes\",\"Yes\",\"Yes\",\"Yes\",\"Yes\",\"Yes\",\"Yes\",\"Yes\",\"Yes\",\"Yes\",\"Yes\",\"Yes\",\"Yes\",\"Yes\",\"Yes\",\"Yes\",\"Yes\",\"Yes\",\"Yes\",\"Yes\",\"Yes\",\"Yes\",\"Yes\",\"Yes\",\"Yes\",\"Yes\",\"Yes\",\"Yes\",\"Yes\",\"Yes\",\"Yes\",\"Yes\",\"Yes\",\"Yes\",\"Yes\",\"Yes\",\"Yes\",\"Yes\",\"Yes\",\"Yes\",\"Yes\",\"Yes\",\"Yes\",\"Yes\",\"Yes\",\"Yes\",\"Yes\",\"Yes\",\"Yes\",\"Yes\",\"Yes\",\"Yes\",\"Yes\",\"Yes\",\"Yes\",\"Yes\",\"Yes\",\"Yes\",\"Yes\"],\"Enough\":[\"Yes\",\"Yes\",\"No\",\"Yes\",\"No\",\"No\",\"No\",\"No\",\"Yes\",\"Yes\",\"Yes\",\"No\",\"No\",\"No\",\"No\",\"Yes\",\"Yes\",\"Yes\",\"No\",\"No\",\"No\",\"Yes\",\"Yes\",\"Yes\",\"No\",\"No\",\"Yes\",\"No\",\"No\",\"No\",\"No\",\"No\",\"No\",\"No\",\"No\",\"No\",\"No\",\"No\",\"No\",\"Yes\",\"No\",\"No\",\"Yes\",\"No\",\"No\",\"Yes\",\"Yes\",\"No\",\"No\",\"No\",\"Yes\",\"No\",\"Yes\",\"Yes\",\"Yes\",\"No\",\"No\",\"No\",\"Yes\",\"Yes\",\"Yes\"],\"Hours\":{\"__ndarray__\":\"AAAAAAAAIEAAAAAAAAAYQAAAAAAAABxAAAAAAAAAHEAAAAAAAAAcQAAAAAAAABBAAAAAAAAAGEAAAAAAAAAcQAAAAAAAABxAAAAAAAAAGEAAAAAAAAAgQAAAAAAAACJAAAAAAAAAEEAAAAAAAAAUQAAAAAAAABxAAAAAAAAAHEAAAAAAAAAiQAAAAAAAACBAAAAAAAAAIEAAAAAAAAAcQAAAAAAAABxAAAAAAAAAHEAAAAAAAAAiQAAAAAAAACBAAAAAAAAAHEAAAAAAAAAYQAAAAAAAACJAAAAAAAAAFEAAAAAAAAAYQAAAAAAAABBAAAAAAAAAIEAAAAAAAAAcQAAAAAAAABxAAAAAAAAAFEAAAAAAAAAiQAAAAAAAABxAAAAAAAAAHEAAAAAAAAAcQAAAAAAAABhAAAAAAAAAGEAAAAAAAAAUQAAAAAAAABhAAAAAAAAAHEAAAAAAAAAgQAAAAAAAABhAAAAAAAAAIEAAAAAAAAAgQAAAAAAAACJAAAAAAAAAFEAAAAAAAAAYQAAAAAAAACBAAAAAAAAAHEAAAAAAAAAcQAAAAAAAACJAAAAAAAAAHEAAAAAAAAAcQAAAAAAAABxAAAAAAAAAHEAAAAAAAAAgQAAAAAAAABxAAAAAAAAAGEA=\",\"dtype\":\"float64\",\"order\":\"little\",\"shape\":[61]},\"PhoneReach\":[\"Yes\",\"Yes\",\"Yes\",\"Yes\",\"Yes\",\"No\",\"Yes\",\"Yes\",\"No\",\"Yes\",\"Yes\",\"Yes\",\"Yes\",\"Yes\",\"Yes\",\"Yes\",\"No\",\"Yes\",\"No\",\"No\",\"Yes\",\"No\",\"No\",\"No\",\"No\",\"Yes\",\"Yes\",\"No\",\"No\",\"Yes\",\"Yes\",\"No\",\"Yes\",\"No\",\"Yes\",\"Yes\",\"Yes\",\"Yes\",\"Yes\",\"No\",\"Yes\",\"No\",\"Yes\",\"Yes\",\"Yes\",\"No\",\"No\",\"No\",\"Yes\",\"Yes\",\"No\",\"No\",\"No\",\"No\",\"No\",\"Yes\",\"Yes\",\"No\",\"Yes\",\"Yes\",\"Yes\"],\"PhoneTime\":[\"Yes\",\"Yes\",\"Yes\",\"Yes\",\"Yes\",\"Yes\",\"Yes\",\"Yes\",\"Yes\",\"Yes\",\"Yes\",\"Yes\",\"Yes\",\"No\",\"No\",\"No\",\"No\",\"Yes\",\"Yes\",\"Yes\",\"Yes\",\"No\",\"Yes\",\"Yes\",\"Yes\",\"Yes\",\"Yes\",\"No\",\"Yes\",\"Yes\",\"Yes\",\"Yes\",\"Yes\",\"Yes\",\"No\",\"Yes\",\"Yes\",\"Yes\",\"Yes\",\"Yes\",\"Yes\",\"Yes\",\"Yes\",\"Yes\",\"Yes\",\"No\",\"Yes\",\"Yes\",\"No\",\"No\",\"Yes\",\"Yes\",\"Yes\",\"No\",\"Yes\",\"Yes\",\"Yes\",\"Yes\",\"Yes\",\"Yes\",\"Yes\"],\"Tired\":[3,2,2,3,3,2,3,2,3,4,3,3,2,3,3,2,2,2,3,3,3,2,2,1,4,3,1,5,3,2,3,4,3,2,4,3,4,3,3,4,4,5,4,4,3,2,1,5,4,2,3,4,2,2,2,4,2,3,3,2,3],\"index\":[0,2,4,6,7,8,9,11,14,16,17,18,21,22,23,28,29,30,31,34,35,36,37,40,41,43,46,47,48,49,51,52,54,55,58,61,64,67,69,70,71,73,74,76,78,83,84,86,87,88,89,90,92,93,95,96,99,100,101,102,103]},\"selected\":{\"id\":\"3221\"},\"selection_policy\":{\"id\":\"3220\"}},\"id\":\"3205\",\"type\":\"ColumnDataSource\"},{\"attributes\":{\"axis_label\":\"Tired\",\"coordinates\":null,\"formatter\":{\"id\":\"3218\"},\"group\":null,\"major_label_policy\":{\"id\":\"3219\"},\"ticker\":{\"id\":\"3184\"}},\"id\":\"3183\",\"type\":\"LinearAxis\"},{\"attributes\":{},\"id\":\"3181\",\"type\":\"LinearScale\"},{\"attributes\":{},\"id\":\"3195\",\"type\":\"ResetTool\"},{\"attributes\":{\"source\":{\"id\":\"3205\"}},\"id\":\"3211\",\"type\":\"CDSView\"},{\"attributes\":{},\"id\":\"3184\",\"type\":\"BasicTicker\"},{\"attributes\":{},\"id\":\"3243\",\"type\":\"Selection\"},{\"attributes\":{\"source\":{\"id\":\"3225\"}},\"id\":\"3231\",\"type\":\"CDSView\"},{\"attributes\":{},\"id\":\"3179\",\"type\":\"LinearScale\"},{\"attributes\":{},\"id\":\"3216\",\"type\":\"AllLabels\"},{\"attributes\":{\"axis_label\":\"Hours\",\"coordinates\":null,\"formatter\":{\"id\":\"3215\"},\"group\":null,\"major_label_policy\":{\"id\":\"3216\"},\"ticker\":{\"id\":\"3188\"}},\"id\":\"3187\",\"type\":\"LinearAxis\"},{\"attributes\":{\"axis\":{\"id\":\"3183\"},\"coordinates\":null,\"group\":null,\"ticker\":null},\"id\":\"3186\",\"type\":\"Grid\"},{\"attributes\":{\"label\":{\"field\":\"Breakfast\"},\"renderers\":[{\"id\":\"3210\"},{\"id\":\"3230\"}]},\"id\":\"3224\",\"type\":\"LegendItem\"},{\"attributes\":{\"coordinates\":null,\"group\":null},\"id\":\"3212\",\"type\":\"Title\"},{\"attributes\":{\"data\":{\"Breakfast\":[\"No\",\"No\",\"No\",\"No\",\"No\",\"No\",\"No\",\"No\",\"No\",\"No\",\"No\",\"No\",\"No\",\"No\",\"No\",\"No\",\"No\",\"No\",\"No\",\"No\",\"No\",\"No\",\"No\",\"No\",\"No\",\"No\",\"No\",\"No\",\"No\",\"No\",\"No\",\"No\",\"No\",\"No\",\"No\",\"No\",\"No\",\"No\",\"No\",\"No\",\"No\"],\"Enough\":[\"No\",\"No\",\"No\",\"No\",\"Yes\",\"Yes\",\"Yes\",\"Yes\",\"No\",\"No\",\"No\",\"No\",\"No\",\"No\",\"No\",\"No\",\"No\",\"No\",\"No\",\"No\",\"No\",\"No\",\"No\",\"No\",\"Yes\",\"No\",\"No\",\"No\",\"Yes\",\"Yes\",\"No\",\"No\",\"Yes\",\"No\",\"Yes\",\"No\",\"No\",\"No\",\"Yes\",\"Yes\",\"No\"],\"Hours\":{\"__ndarray__\":\"AAAAAAAAGEAAAAAAAAAcQAAAAAAAABxAAAAAAAAAJEAAAAAAAAAcQAAAAAAAACBAAAAAAAAAIEAAAAAAAAAgQAAAAAAAAABAAAAAAAAAFEAAAAAAAAAcQAAAAAAAABhAAAAAAAAAGEAAAAAAAAAYQAAAAAAAABhAAAAAAAAAFEAAAAAAAAAcQAAAAAAAABRAAAAAAAAAEEAAAAAAAAAcQAAAAAAAABRAAAAAAAAAFEAAAAAAAAAYQAAAAAAAACJAAAAAAAAAHEAAAAAAAAAYQAAAAAAAAABAAAAAAAAAIEAAAAAAAAAcQAAAAAAAABxAAAAAAAAAFEAAAAAAAAAYQAAAAAAAABhAAAAAAAAAHEAAAAAAAAAYQAAAAAAAABhAAAAAAAAAFEAAAAAAAAAYQAAAAAAAACBAAAAAAAAAHEAAAAAAAAAYQA==\",\"dtype\":\"float64\",\"order\":\"little\",\"shape\":[41]},\"PhoneReach\":[\"Yes\",\"Yes\",\"Yes\",\"Yes\",\"Yes\",\"Yes\",\"Yes\",\"Yes\",\"Yes\",\"Yes\",\"No\",\"Yes\",\"Yes\",\"Yes\",\"No\",\"Yes\",\"Yes\",\"Yes\",\"No\",\"Yes\",\"Yes\",\"Yes\",\"Yes\",\"No\",\"Yes\",\"Yes\",\"No\",\"Yes\",\"Yes\",\"Yes\",\"Yes\",\"No\",\"Yes\",\"Yes\",\"Yes\",\"Yes\",\"No\",\"Yes\",\"Yes\",\"Yes\",\"Yes\"],\"PhoneTime\":[\"Yes\",\"Yes\",\"Yes\",\"Yes\",\"Yes\",\"Yes\",\"Yes\",\"Yes\",\"Yes\",\"Yes\",\"Yes\",\"Yes\",\"Yes\",\"Yes\",\"No\",\"No\",\"Yes\",\"Yes\",\"No\",\"Yes\",\"No\",\"Yes\",\"Yes\",\"Yes\",\"Yes\",\"Yes\",\"No\",\"Yes\",\"No\",\"No\",\"Yes\",\"Yes\",\"Yes\",\"Yes\",\"Yes\",\"Yes\",\"No\",\"Yes\",\"Yes\",\"Yes\",\"Yes\"],\"Tired\":[3,4,4,4,3,2,3,3,5,2,5,3,2,4,3,5,2,3,5,4,3,2,3,5,2,3,5,5,1,3,4,4,4,4,3,3,4,3,4,2,3],\"index\":[1,3,5,10,12,13,15,19,20,24,25,26,27,32,33,38,39,42,44,45,50,53,56,57,59,60,62,63,66,68,72,75,77,79,80,81,82,85,94,97,98]},\"selected\":{\"id\":\"3243\"},\"selection_policy\":{\"id\":\"3242\"}},\"id\":\"3225\",\"type\":\"ColumnDataSource\"},{\"attributes\":{\"overlay\":{\"id\":\"3197\"}},\"id\":\"3193\",\"type\":\"BoxZoomTool\"},{\"attributes\":{\"axis\":{\"id\":\"3187\"},\"coordinates\":null,\"dimension\":1,\"group\":null,\"ticker\":null},\"id\":\"3190\",\"type\":\"Grid\"},{\"attributes\":{},\"id\":\"3188\",\"type\":\"BasicTicker\"},{\"attributes\":{\"coordinates\":null,\"data_source\":{\"id\":\"3205\"},\"glyph\":{\"id\":\"3207\"},\"group\":null,\"hover_glyph\":null,\"muted_glyph\":{\"id\":\"3209\"},\"nonselection_glyph\":{\"id\":\"3208\"},\"view\":{\"id\":\"3211\"}},\"id\":\"3210\",\"type\":\"GlyphRenderer\"},{\"attributes\":{\"tools\":[{\"id\":\"3191\"},{\"id\":\"3192\"},{\"id\":\"3193\"},{\"id\":\"3194\"},{\"id\":\"3195\"},{\"id\":\"3196\"}]},\"id\":\"3198\",\"type\":\"Toolbar\"},{\"attributes\":{\"fill_alpha\":{\"value\":0.6},\"fill_color\":{\"field\":\"Breakfast\",\"transform\":{\"id\":\"3173\"}},\"line_color\":{\"value\":\"#1f77b4\"},\"size\":{\"value\":8},\"x\":{\"field\":\"Tired\"},\"y\":{\"field\":\"Hours\"}},\"id\":\"3207\",\"type\":\"Scatter\"},{\"attributes\":{},\"id\":\"3194\",\"type\":\"SaveTool\"},{\"attributes\":{},\"id\":\"3192\",\"type\":\"WheelZoomTool\"},{\"attributes\":{},\"id\":\"3191\",\"type\":\"PanTool\"},{\"attributes\":{},\"id\":\"3196\",\"type\":\"HelpTool\"},{\"attributes\":{\"coordinates\":null,\"data_source\":{\"id\":\"3225\"},\"glyph\":{\"id\":\"3227\"},\"group\":null,\"hover_glyph\":null,\"muted_glyph\":{\"id\":\"3229\"},\"nonselection_glyph\":{\"id\":\"3228\"},\"view\":{\"id\":\"3231\"}},\"id\":\"3230\",\"type\":\"GlyphRenderer\"},{\"attributes\":{\"fill_alpha\":{\"value\":0.1},\"fill_color\":{\"field\":\"Breakfast\",\"transform\":{\"id\":\"3173\"}},\"hatch_alpha\":{\"value\":0.1},\"line_alpha\":{\"value\":0.1},\"line_color\":{\"value\":\"#1f77b4\"},\"size\":{\"value\":8},\"x\":{\"field\":\"Tired\"},\"y\":{\"field\":\"Hours\"}},\"id\":\"3208\",\"type\":\"Scatter\"},{\"attributes\":{},\"id\":\"3215\",\"type\":\"BasicTickFormatter\"},{\"attributes\":{\"fill_alpha\":{\"value\":0.1},\"fill_color\":{\"field\":\"Breakfast\",\"transform\":{\"id\":\"3173\"}},\"hatch_alpha\":{\"value\":0.1},\"line_alpha\":{\"value\":0.1},\"line_color\":{\"value\":\"#1f77b4\"},\"size\":{\"value\":8},\"x\":{\"field\":\"Tired\"},\"y\":{\"field\":\"Hours\"}},\"id\":\"3228\",\"type\":\"Scatter\"}],\"root_ids\":[\"3174\"]},\"title\":\"Bokeh Application\",\"version\":\"2.4.2\"}};\n",
       "  const render_items = [{\"docid\":\"7e74df06-57ed-4fb3-b09c-3e625bd8060e\",\"root_ids\":[\"3174\"],\"roots\":{\"3174\":\"7760d584-a767-4128-885a-d0b1b7d618fa\"}}];\n",
       "  root.Bokeh.embed.embed_items_notebook(docs_json, render_items);\n",
       "\n",
       "  }\n",
       "  if (root.Bokeh !== undefined) {\n",
       "    embed_document(root);\n",
       "  } else {\n",
       "    let attempts = 0;\n",
       "    const timer = setInterval(function(root) {\n",
       "      if (root.Bokeh !== undefined) {\n",
       "        clearInterval(timer);\n",
       "        embed_document(root);\n",
       "      } else {\n",
       "        attempts++;\n",
       "        if (attempts > 100) {\n",
       "          clearInterval(timer);\n",
       "          console.log(\"Bokeh: ERROR: Unable to run BokehJS code because BokehJS library is missing\");\n",
       "        }\n",
       "      }\n",
       "    }, 10, root)\n",
       "  }\n",
       "})(window);"
      ],
      "application/vnd.bokehjs_exec.v0+json": ""
     },
     "metadata": {
      "application/vnd.bokehjs_exec.v0+json": {
       "id": "3174"
      }
     },
     "output_type": "display_data"
    }
   ],
   "source": [
    "#code for the scatter plot here\n",
    "from bokeh.transform import factor_cmap\n",
    "index_cmap = factor_cmap('Breakfast', palette=['red', 'blue'], factors=sorted(data.Breakfast.unique()))\n",
    "p = figure()\n",
    "#p.scatter(source=data, x='Tired', y='Hours', fill_alpha=0.6, size=8, fill_color=index_cmap, legend='Breakfast')\n",
    "for i in data.Breakfast.unique():\n",
    "    data_filtered=data.loc[(data.Breakfast==i)]\n",
    "    p.scatter(source=data_filtered, x='Tired', y='Hours',fill_alpha=0.6, fill_color=index_cmap,size=8,legend='Breakfast')\n",
    "\n",
    "p.xaxis.axis_label = 'Tired'\n",
    "p.yaxis.axis_label = 'Hours'\n",
    "p.legend.location = \"top_left\"\n",
    "p.legend.click_policy=\"hide\"\n",
    "show(p)"
   ]
  },
  {
   "cell_type": "markdown",
   "metadata": {},
   "source": [
    "There is some slight correlation between tiredness and hours asleep (the less sleep duration the more tired), but there is no visible effect of having a breakfast or not."
   ]
  },
  {
   "cell_type": "code",
   "execution_count": 67,
   "metadata": {},
   "outputs": [
    {
     "data": {
      "text/plain": [
       "count    102.000000\n",
       "mean       6.656863\n",
       "std        1.417676\n",
       "min        2.000000\n",
       "25%        6.000000\n",
       "50%        7.000000\n",
       "75%        7.000000\n",
       "max       10.000000\n",
       "Name: Hours, dtype: float64"
      ]
     },
     "execution_count": 67,
     "metadata": {},
     "output_type": "execute_result"
    }
   ],
   "source": [
    "#code your answer to the target statistics here\n",
    "data['Hours'].describe()"
   ]
  },
  {
   "cell_type": "code",
   "execution_count": 68,
   "metadata": {},
   "outputs": [
    {
     "data": {
      "text/plain": [
       "<AxesSubplot:>"
      ]
     },
     "execution_count": 68,
     "metadata": {},
     "output_type": "execute_result"
    },
    {
     "data": {
      "image/png": "[encoded data removed]",
      "text/plain": [
       "<Figure size 576x144 with 1 Axes>"
      ]
     },
     "metadata": {
      "needs_background": "light"
     },
     "output_type": "display_data"
    }
   ],
   "source": [
    "data.boxplot('Hours', vert=False, figsize=(8, 2))"
   ]
  },
  {
   "cell_type": "code",
   "execution_count": 69,
   "metadata": {},
   "outputs": [
    {
     "name": "stdout",
     "output_type": "stream",
     "text": [
      "Average of hours asleep: 6.7\n"
     ]
    }
   ],
   "source": [
    "print('Average of hours asleep: {:.1f}'.format(data['Hours'].mean()))"
   ]
  },
  {
   "cell_type": "code",
   "execution_count": 70,
   "metadata": {},
   "outputs": [
    {
     "data": {
      "text/html": [
       "<div>\n",
       "<style scoped>\n",
       "    .dataframe tbody tr th:only-of-type {\n",
       "        vertical-align: middle;\n",
       "    }\n",
       "\n",
       "    .dataframe tbody tr th {\n",
       "        vertical-align: top;\n",
       "    }\n",
       "\n",
       "    .dataframe thead th {\n",
       "        text-align: right;\n",
       "    }\n",
       "</style>\n",
       "<table border=\"1\" class=\"dataframe\">\n",
       "  <thead>\n",
       "    <tr style=\"text-align: right;\">\n",
       "      <th></th>\n",
       "      <th>Enough</th>\n",
       "      <th>Hours</th>\n",
       "      <th>PhoneReach</th>\n",
       "      <th>PhoneTime</th>\n",
       "      <th>Tired</th>\n",
       "      <th>Breakfast</th>\n",
       "    </tr>\n",
       "  </thead>\n",
       "  <tbody>\n",
       "    <tr>\n",
       "      <th>0</th>\n",
       "      <td>1</td>\n",
       "      <td>8.0</td>\n",
       "      <td>1</td>\n",
       "      <td>1</td>\n",
       "      <td>3</td>\n",
       "      <td>1</td>\n",
       "    </tr>\n",
       "    <tr>\n",
       "      <th>1</th>\n",
       "      <td>0</td>\n",
       "      <td>6.0</td>\n",
       "      <td>1</td>\n",
       "      <td>1</td>\n",
       "      <td>3</td>\n",
       "      <td>0</td>\n",
       "    </tr>\n",
       "    <tr>\n",
       "      <th>2</th>\n",
       "      <td>1</td>\n",
       "      <td>6.0</td>\n",
       "      <td>1</td>\n",
       "      <td>1</td>\n",
       "      <td>2</td>\n",
       "      <td>1</td>\n",
       "    </tr>\n",
       "    <tr>\n",
       "      <th>3</th>\n",
       "      <td>0</td>\n",
       "      <td>7.0</td>\n",
       "      <td>1</td>\n",
       "      <td>1</td>\n",
       "      <td>4</td>\n",
       "      <td>0</td>\n",
       "    </tr>\n",
       "    <tr>\n",
       "      <th>4</th>\n",
       "      <td>0</td>\n",
       "      <td>7.0</td>\n",
       "      <td>1</td>\n",
       "      <td>1</td>\n",
       "      <td>2</td>\n",
       "      <td>1</td>\n",
       "    </tr>\n",
       "  </tbody>\n",
       "</table>\n",
       "</div>"
      ],
      "text/plain": [
       "   Enough  Hours  PhoneReach  PhoneTime  Tired  Breakfast\n",
       "0       1    8.0           1          1      3          1\n",
       "1       0    6.0           1          1      3          0\n",
       "2       1    6.0           1          1      2          1\n",
       "3       0    7.0           1          1      4          0\n",
       "4       0    7.0           1          1      2          1"
      ]
     },
     "execution_count": 70,
     "metadata": {},
     "output_type": "execute_result"
    }
   ],
   "source": [
    "#code your answer for the heatmap here and briefly state your finding\n",
    "# rewriting categorical values, 'yes' and 'no', to binomial 1 and 0\n",
    "for col in data.columns:\n",
    "    if data[col].dtype == object:\n",
    "        data[col] = data[col].map({'Yes': 1, 'No': 0})\n",
    "    \n",
    "data.head()"
   ]
  },
  {
   "cell_type": "code",
   "execution_count": 71,
   "metadata": {},
   "outputs": [
    {
     "data": {
      "text/html": [
       "<div>\n",
       "<style scoped>\n",
       "    .dataframe tbody tr th:only-of-type {\n",
       "        vertical-align: middle;\n",
       "    }\n",
       "\n",
       "    .dataframe tbody tr th {\n",
       "        vertical-align: top;\n",
       "    }\n",
       "\n",
       "    .dataframe thead th {\n",
       "        text-align: right;\n",
       "    }\n",
       "</style>\n",
       "<table border=\"1\" class=\"dataframe\">\n",
       "  <thead>\n",
       "    <tr style=\"text-align: right;\">\n",
       "      <th></th>\n",
       "      <th>Enough</th>\n",
       "      <th>Hours</th>\n",
       "      <th>PhoneReach</th>\n",
       "      <th>PhoneTime</th>\n",
       "      <th>Tired</th>\n",
       "      <th>Breakfast</th>\n",
       "    </tr>\n",
       "  </thead>\n",
       "  <tbody>\n",
       "    <tr>\n",
       "      <th>Enough</th>\n",
       "      <td>1.000000</td>\n",
       "      <td>0.380740</td>\n",
       "      <td>0.061183</td>\n",
       "      <td>0.025481</td>\n",
       "      <td>0.410416</td>\n",
       "      <td>0.129246</td>\n",
       "    </tr>\n",
       "    <tr>\n",
       "      <th>Hours</th>\n",
       "      <td>0.380740</td>\n",
       "      <td>1.000000</td>\n",
       "      <td>0.054957</td>\n",
       "      <td>0.151378</td>\n",
       "      <td>0.191913</td>\n",
       "      <td>0.225818</td>\n",
       "    </tr>\n",
       "    <tr>\n",
       "      <th>PhoneReach</th>\n",
       "      <td>0.061183</td>\n",
       "      <td>0.054957</td>\n",
       "      <td>1.000000</td>\n",
       "      <td>0.176592</td>\n",
       "      <td>0.089936</td>\n",
       "      <td>0.237404</td>\n",
       "    </tr>\n",
       "    <tr>\n",
       "      <th>PhoneTime</th>\n",
       "      <td>0.025481</td>\n",
       "      <td>0.151378</td>\n",
       "      <td>0.176592</td>\n",
       "      <td>1.000000</td>\n",
       "      <td>0.032974</td>\n",
       "      <td>0.018631</td>\n",
       "    </tr>\n",
       "    <tr>\n",
       "      <th>Tired</th>\n",
       "      <td>0.410416</td>\n",
       "      <td>0.191913</td>\n",
       "      <td>0.089936</td>\n",
       "      <td>0.032974</td>\n",
       "      <td>1.000000</td>\n",
       "      <td>0.244963</td>\n",
       "    </tr>\n",
       "    <tr>\n",
       "      <th>Breakfast</th>\n",
       "      <td>0.129246</td>\n",
       "      <td>0.225818</td>\n",
       "      <td>0.237404</td>\n",
       "      <td>0.018631</td>\n",
       "      <td>0.244963</td>\n",
       "      <td>1.000000</td>\n",
       "    </tr>\n",
       "  </tbody>\n",
       "</table>\n",
       "</div>"
      ],
      "text/plain": [
       "              Enough     Hours  PhoneReach  PhoneTime     Tired  Breakfast\n",
       "Enough      1.000000  0.380740    0.061183   0.025481  0.410416   0.129246\n",
       "Hours       0.380740  1.000000    0.054957   0.151378  0.191913   0.225818\n",
       "PhoneReach  0.061183  0.054957    1.000000   0.176592  0.089936   0.237404\n",
       "PhoneTime   0.025481  0.151378    0.176592   1.000000  0.032974   0.018631\n",
       "Tired       0.410416  0.191913    0.089936   0.032974  1.000000   0.244963\n",
       "Breakfast   0.129246  0.225818    0.237404   0.018631  0.244963   1.000000"
      ]
     },
     "execution_count": 71,
     "metadata": {},
     "output_type": "execute_result"
    }
   ],
   "source": [
    "data_corr = data.corr().abs() #create a correlation matrix\n",
    "y_range = (list(reversed(data_corr.columns)))\n",
    "x_range = (list(data_corr.index))\n",
    "data_corr"
   ]
  },
  {
   "cell_type": "code",
   "execution_count": 72,
   "metadata": {
    "scrolled": true
   },
   "outputs": [
    {
     "data": {
      "text/html": [
       "<div>\n",
       "<style scoped>\n",
       "    .dataframe tbody tr th:only-of-type {\n",
       "        vertical-align: middle;\n",
       "    }\n",
       "\n",
       "    .dataframe tbody tr th {\n",
       "        vertical-align: top;\n",
       "    }\n",
       "\n",
       "    .dataframe thead th {\n",
       "        text-align: right;\n",
       "    }\n",
       "</style>\n",
       "<table border=\"1\" class=\"dataframe\">\n",
       "  <thead>\n",
       "    <tr style=\"text-align: right;\">\n",
       "      <th></th>\n",
       "      <th>level_0</th>\n",
       "      <th>level_1</th>\n",
       "      <th>r</th>\n",
       "    </tr>\n",
       "  </thead>\n",
       "  <tbody>\n",
       "    <tr>\n",
       "      <th>0</th>\n",
       "      <td>Enough</td>\n",
       "      <td>Enough</td>\n",
       "      <td>1.000000</td>\n",
       "    </tr>\n",
       "    <tr>\n",
       "      <th>1</th>\n",
       "      <td>Enough</td>\n",
       "      <td>Hours</td>\n",
       "      <td>0.380740</td>\n",
       "    </tr>\n",
       "    <tr>\n",
       "      <th>2</th>\n",
       "      <td>Enough</td>\n",
       "      <td>PhoneReach</td>\n",
       "      <td>0.061183</td>\n",
       "    </tr>\n",
       "    <tr>\n",
       "      <th>3</th>\n",
       "      <td>Enough</td>\n",
       "      <td>PhoneTime</td>\n",
       "      <td>0.025481</td>\n",
       "    </tr>\n",
       "    <tr>\n",
       "      <th>4</th>\n",
       "      <td>Enough</td>\n",
       "      <td>Tired</td>\n",
       "      <td>0.410416</td>\n",
       "    </tr>\n",
       "    <tr>\n",
       "      <th>5</th>\n",
       "      <td>Enough</td>\n",
       "      <td>Breakfast</td>\n",
       "      <td>0.129246</td>\n",
       "    </tr>\n",
       "    <tr>\n",
       "      <th>6</th>\n",
       "      <td>Hours</td>\n",
       "      <td>Enough</td>\n",
       "      <td>0.380740</td>\n",
       "    </tr>\n",
       "    <tr>\n",
       "      <th>7</th>\n",
       "      <td>Hours</td>\n",
       "      <td>Hours</td>\n",
       "      <td>1.000000</td>\n",
       "    </tr>\n",
       "    <tr>\n",
       "      <th>8</th>\n",
       "      <td>Hours</td>\n",
       "      <td>PhoneReach</td>\n",
       "      <td>0.054957</td>\n",
       "    </tr>\n",
       "    <tr>\n",
       "      <th>9</th>\n",
       "      <td>Hours</td>\n",
       "      <td>PhoneTime</td>\n",
       "      <td>0.151378</td>\n",
       "    </tr>\n",
       "    <tr>\n",
       "      <th>10</th>\n",
       "      <td>Hours</td>\n",
       "      <td>Tired</td>\n",
       "      <td>0.191913</td>\n",
       "    </tr>\n",
       "    <tr>\n",
       "      <th>11</th>\n",
       "      <td>Hours</td>\n",
       "      <td>Breakfast</td>\n",
       "      <td>0.225818</td>\n",
       "    </tr>\n",
       "    <tr>\n",
       "      <th>12</th>\n",
       "      <td>PhoneReach</td>\n",
       "      <td>Enough</td>\n",
       "      <td>0.061183</td>\n",
       "    </tr>\n",
       "    <tr>\n",
       "      <th>13</th>\n",
       "      <td>PhoneReach</td>\n",
       "      <td>Hours</td>\n",
       "      <td>0.054957</td>\n",
       "    </tr>\n",
       "    <tr>\n",
       "      <th>14</th>\n",
       "      <td>PhoneReach</td>\n",
       "      <td>PhoneReach</td>\n",
       "      <td>1.000000</td>\n",
       "    </tr>\n",
       "    <tr>\n",
       "      <th>15</th>\n",
       "      <td>PhoneReach</td>\n",
       "      <td>PhoneTime</td>\n",
       "      <td>0.176592</td>\n",
       "    </tr>\n",
       "    <tr>\n",
       "      <th>16</th>\n",
       "      <td>PhoneReach</td>\n",
       "      <td>Tired</td>\n",
       "      <td>0.089936</td>\n",
       "    </tr>\n",
       "    <tr>\n",
       "      <th>17</th>\n",
       "      <td>PhoneReach</td>\n",
       "      <td>Breakfast</td>\n",
       "      <td>0.237404</td>\n",
       "    </tr>\n",
       "    <tr>\n",
       "      <th>18</th>\n",
       "      <td>PhoneTime</td>\n",
       "      <td>Enough</td>\n",
       "      <td>0.025481</td>\n",
       "    </tr>\n",
       "    <tr>\n",
       "      <th>19</th>\n",
       "      <td>PhoneTime</td>\n",
       "      <td>Hours</td>\n",
       "      <td>0.151378</td>\n",
       "    </tr>\n",
       "    <tr>\n",
       "      <th>20</th>\n",
       "      <td>PhoneTime</td>\n",
       "      <td>PhoneReach</td>\n",
       "      <td>0.176592</td>\n",
       "    </tr>\n",
       "    <tr>\n",
       "      <th>21</th>\n",
       "      <td>PhoneTime</td>\n",
       "      <td>PhoneTime</td>\n",
       "      <td>1.000000</td>\n",
       "    </tr>\n",
       "    <tr>\n",
       "      <th>22</th>\n",
       "      <td>PhoneTime</td>\n",
       "      <td>Tired</td>\n",
       "      <td>0.032974</td>\n",
       "    </tr>\n",
       "    <tr>\n",
       "      <th>23</th>\n",
       "      <td>PhoneTime</td>\n",
       "      <td>Breakfast</td>\n",
       "      <td>0.018631</td>\n",
       "    </tr>\n",
       "    <tr>\n",
       "      <th>24</th>\n",
       "      <td>Tired</td>\n",
       "      <td>Enough</td>\n",
       "      <td>0.410416</td>\n",
       "    </tr>\n",
       "    <tr>\n",
       "      <th>25</th>\n",
       "      <td>Tired</td>\n",
       "      <td>Hours</td>\n",
       "      <td>0.191913</td>\n",
       "    </tr>\n",
       "    <tr>\n",
       "      <th>26</th>\n",
       "      <td>Tired</td>\n",
       "      <td>PhoneReach</td>\n",
       "      <td>0.089936</td>\n",
       "    </tr>\n",
       "    <tr>\n",
       "      <th>27</th>\n",
       "      <td>Tired</td>\n",
       "      <td>PhoneTime</td>\n",
       "      <td>0.032974</td>\n",
       "    </tr>\n",
       "    <tr>\n",
       "      <th>28</th>\n",
       "      <td>Tired</td>\n",
       "      <td>Tired</td>\n",
       "      <td>1.000000</td>\n",
       "    </tr>\n",
       "    <tr>\n",
       "      <th>29</th>\n",
       "      <td>Tired</td>\n",
       "      <td>Breakfast</td>\n",
       "      <td>0.244963</td>\n",
       "    </tr>\n",
       "    <tr>\n",
       "      <th>30</th>\n",
       "      <td>Breakfast</td>\n",
       "      <td>Enough</td>\n",
       "      <td>0.129246</td>\n",
       "    </tr>\n",
       "    <tr>\n",
       "      <th>31</th>\n",
       "      <td>Breakfast</td>\n",
       "      <td>Hours</td>\n",
       "      <td>0.225818</td>\n",
       "    </tr>\n",
       "    <tr>\n",
       "      <th>32</th>\n",
       "      <td>Breakfast</td>\n",
       "      <td>PhoneReach</td>\n",
       "      <td>0.237404</td>\n",
       "    </tr>\n",
       "    <tr>\n",
       "      <th>33</th>\n",
       "      <td>Breakfast</td>\n",
       "      <td>PhoneTime</td>\n",
       "      <td>0.018631</td>\n",
       "    </tr>\n",
       "    <tr>\n",
       "      <th>34</th>\n",
       "      <td>Breakfast</td>\n",
       "      <td>Tired</td>\n",
       "      <td>0.244963</td>\n",
       "    </tr>\n",
       "    <tr>\n",
       "      <th>35</th>\n",
       "      <td>Breakfast</td>\n",
       "      <td>Breakfast</td>\n",
       "      <td>1.000000</td>\n",
       "    </tr>\n",
       "  </tbody>\n",
       "</table>\n",
       "</div>"
      ],
      "text/plain": [
       "       level_0     level_1         r\n",
       "0       Enough      Enough  1.000000\n",
       "1       Enough       Hours  0.380740\n",
       "2       Enough  PhoneReach  0.061183\n",
       "3       Enough   PhoneTime  0.025481\n",
       "4       Enough       Tired  0.410416\n",
       "5       Enough   Breakfast  0.129246\n",
       "6        Hours      Enough  0.380740\n",
       "7        Hours       Hours  1.000000\n",
       "8        Hours  PhoneReach  0.054957\n",
       "9        Hours   PhoneTime  0.151378\n",
       "10       Hours       Tired  0.191913\n",
       "11       Hours   Breakfast  0.225818\n",
       "12  PhoneReach      Enough  0.061183\n",
       "13  PhoneReach       Hours  0.054957\n",
       "14  PhoneReach  PhoneReach  1.000000\n",
       "15  PhoneReach   PhoneTime  0.176592\n",
       "16  PhoneReach       Tired  0.089936\n",
       "17  PhoneReach   Breakfast  0.237404\n",
       "18   PhoneTime      Enough  0.025481\n",
       "19   PhoneTime       Hours  0.151378\n",
       "20   PhoneTime  PhoneReach  0.176592\n",
       "21   PhoneTime   PhoneTime  1.000000\n",
       "22   PhoneTime       Tired  0.032974\n",
       "23   PhoneTime   Breakfast  0.018631\n",
       "24       Tired      Enough  0.410416\n",
       "25       Tired       Hours  0.191913\n",
       "26       Tired  PhoneReach  0.089936\n",
       "27       Tired   PhoneTime  0.032974\n",
       "28       Tired       Tired  1.000000\n",
       "29       Tired   Breakfast  0.244963\n",
       "30   Breakfast      Enough  0.129246\n",
       "31   Breakfast       Hours  0.225818\n",
       "32   Breakfast  PhoneReach  0.237404\n",
       "33   Breakfast   PhoneTime  0.018631\n",
       "34   Breakfast       Tired  0.244963\n",
       "35   Breakfast   Breakfast  1.000000"
      ]
     },
     "execution_count": 72,
     "metadata": {},
     "output_type": "execute_result"
    }
   ],
   "source": [
    "#reshape this to be used for the heatmap plot\n",
    "data_corr_obj = pd.DataFrame(data_corr.stack(), columns=['r']).reset_index()\n",
    "data_corr_obj"
   ]
  },
  {
   "cell_type": "code",
   "execution_count": 73,
   "metadata": {
    "scrolled": false
   },
   "outputs": [
    {
     "data": {
      "text/html": [
       "\n",
       "\n",
       "\n",
       "\n",
       "\n",
       "\n",
       "  <div class=\"bk-root\" id=\"f15c1f89-7332-460f-b3d7-c63102bf569e\" data-root-id=\"3461\"></div>\n"
      ]
     },
     "metadata": {},
     "output_type": "display_data"
    },
    {
     "data": {
      "application/javascript": [
       "(function(root) {\n",
       "  function embed_document(root) {\n",
       "    \n",
       "  const docs_json = {\"a180100d-3bd7-454c-9b8c-720d9087b3b7\":{\"defs\":[],\"roots\":{\"references\":[{\"attributes\":{\"above\":[{\"id\":\"3472\"}],\"center\":[{\"id\":\"3474\"},{\"id\":\"3477\"}],\"height\":450,\"left\":[{\"id\":\"3475\"}],\"renderers\":[{\"id\":\"3496\"}],\"right\":[{\"id\":\"3500\"}],\"title\":{\"id\":\"3462\"},\"toolbar\":{\"id\":\"3485\"},\"toolbar_location\":null,\"width\":500,\"x_range\":{\"id\":\"3464\"},\"x_scale\":{\"id\":\"3468\"},\"y_range\":{\"id\":\"3466\"},\"y_scale\":{\"id\":\"3470\"}},\"id\":\"3461\",\"subtype\":\"Figure\",\"type\":\"Plot\"},{\"attributes\":{\"format\":\"%.1f\"},\"id\":\"3499\",\"type\":\"PrintfTickFormatter\"},{\"attributes\":{\"tools\":[{\"id\":\"3478\"},{\"id\":\"3479\"},{\"id\":\"3480\"},{\"id\":\"3481\"},{\"id\":\"3482\"},{\"id\":\"3483\"}]},\"id\":\"3485\",\"type\":\"Toolbar\"},{\"attributes\":{\"bottom_units\":\"screen\",\"coordinates\":null,\"fill_alpha\":0.5,\"fill_color\":\"lightgrey\",\"group\":null,\"left_units\":\"screen\",\"level\":\"overlay\",\"line_alpha\":1.0,\"line_color\":\"black\",\"line_dash\":[4,4],\"line_width\":2,\"right_units\":\"screen\",\"syncable\":false,\"top_units\":\"screen\"},\"id\":\"3484\",\"type\":\"BoxAnnotation\"},{\"attributes\":{},\"id\":\"3470\",\"type\":\"CategoricalScale\"},{\"attributes\":{\"data\":{\"index\":[0,1,2,3,4,5,6,7,8,9,10,11,12,13,14,15,16,17,18,19,20,21,22,23,24,25,26,27,28,29,30,31,32,33,34,35],\"level_0\":[\"Enough\",\"Enough\",\"Enough\",\"Enough\",\"Enough\",\"Enough\",\"Hours\",\"Hours\",\"Hours\",\"Hours\",\"Hours\",\"Hours\",\"PhoneReach\",\"PhoneReach\",\"PhoneReach\",\"PhoneReach\",\"PhoneReach\",\"PhoneReach\",\"PhoneTime\",\"PhoneTime\",\"PhoneTime\",\"PhoneTime\",\"PhoneTime\",\"PhoneTime\",\"Tired\",\"Tired\",\"Tired\",\"Tired\",\"Tired\",\"Tired\",\"Breakfast\",\"Breakfast\",\"Breakfast\",\"Breakfast\",\"Breakfast\",\"Breakfast\"],\"level_1\":[\"Enough\",\"Hours\",\"PhoneReach\",\"PhoneTime\",\"Tired\",\"Breakfast\",\"Enough\",\"Hours\",\"PhoneReach\",\"PhoneTime\",\"Tired\",\"Breakfast\",\"Enough\",\"Hours\",\"PhoneReach\",\"PhoneTime\",\"Tired\",\"Breakfast\",\"Enough\",\"Hours\",\"PhoneReach\",\"PhoneTime\",\"Tired\",\"Breakfast\",\"Enough\",\"Hours\",\"PhoneReach\",\"PhoneTime\",\"Tired\",\"Breakfast\",\"Enough\",\"Hours\",\"PhoneReach\",\"PhoneTime\",\"Tired\",\"Breakfast\"],\"r\":{\"__ndarray__\":\"AAAAAAAA8D/9We82Cl7YPwxHTAttU68/MEGez5IXmj/oYCmpQUTaP2cTB20fi8A//VnvNgpe2D8AAAAAAADwP5lL+7tgI6w/z90VWlpgwz9s804nmJDIP95zDjCc58w/DEdMC21Trz+ZS/u7YCOsPwAAAAAAAPA/Mitbq42axj8gmy7WCQa3Pw1dZnNCY84/MEGez5IXmj/P3RVaWmDDPzIrW6uNmsY/AAAAAAAA8D8RjXoO+OGgP7nCx7TsE5M/6GApqUFE2j9s804nmJDIPyCbLtYJBrc/EY16DvjhoD8AAAAAAADwPwD0m63xWs8/ZxMHbR+LwD/ecw4wnOfMPw1dZnNCY84/ucLHtOwTkz8A9Jut8VrPPwAAAAAAAPA/\",\"dtype\":\"float64\",\"order\":\"little\",\"shape\":[36]}},\"selected\":{\"id\":\"3659\"},\"selection_policy\":{\"id\":\"3658\"}},\"id\":\"3459\",\"type\":\"ColumnDataSource\"},{\"attributes\":{\"fill_alpha\":{\"value\":0.1},\"fill_color\":{\"field\":\"r\",\"transform\":{\"id\":\"3460\"}},\"hatch_alpha\":{\"value\":0.1},\"height\":{\"value\":1},\"line_alpha\":{\"value\":0.1},\"line_color\":{\"value\":null},\"width\":{\"value\":1},\"x\":{\"field\":\"level_0\"},\"y\":{\"field\":\"level_1\"}},\"id\":\"3494\",\"type\":\"Rect\"},{\"attributes\":{\"axis\":{\"id\":\"3475\"},\"coordinates\":null,\"dimension\":1,\"group\":null,\"ticker\":null},\"id\":\"3477\",\"type\":\"Grid\"},{\"attributes\":{},\"id\":\"3658\",\"type\":\"UnionRenderers\"},{\"attributes\":{},\"id\":\"3476\",\"type\":\"CategoricalTicker\"},{\"attributes\":{},\"id\":\"3659\",\"type\":\"Selection\"},{\"attributes\":{\"fill_color\":{\"field\":\"r\",\"transform\":{\"id\":\"3460\"}},\"height\":{\"value\":1},\"line_color\":{\"value\":null},\"width\":{\"value\":1},\"x\":{\"field\":\"level_0\"},\"y\":{\"field\":\"level_1\"}},\"id\":\"3493\",\"type\":\"Rect\"},{\"attributes\":{},\"id\":\"3498\",\"type\":\"BasicTicker\"},{\"attributes\":{},\"id\":\"3468\",\"type\":\"CategoricalScale\"},{\"attributes\":{\"coordinates\":null,\"data_source\":{\"id\":\"3459\"},\"glyph\":{\"id\":\"3493\"},\"group\":null,\"hover_glyph\":null,\"muted_glyph\":{\"id\":\"3495\"},\"nonselection_glyph\":{\"id\":\"3494\"},\"view\":{\"id\":\"3497\"}},\"id\":\"3496\",\"type\":\"GlyphRenderer\"},{\"attributes\":{},\"id\":\"3473\",\"type\":\"CategoricalTicker\"},{\"attributes\":{\"axis_line_color\":null,\"coordinates\":null,\"formatter\":{\"id\":\"3652\"},\"group\":null,\"major_label_policy\":{\"id\":\"3653\"},\"major_label_standoff\":0,\"major_label_text_font_size\":\"10px\",\"major_tick_line_color\":null,\"ticker\":{\"id\":\"3476\"}},\"id\":\"3475\",\"type\":\"CategoricalAxis\"},{\"attributes\":{\"color_mapper\":{\"id\":\"3460\"},\"coordinates\":null,\"formatter\":{\"id\":\"3499\"},\"group\":null,\"location\":[0,0],\"major_label_policy\":{\"id\":\"3654\"},\"ticker\":{\"id\":\"3498\"}},\"id\":\"3500\",\"type\":\"ColorBar\"},{\"attributes\":{},\"id\":\"3483\",\"type\":\"HelpTool\"},{\"attributes\":{\"coordinates\":null,\"group\":null,\"text\":\"Sleep parameters correlation\"},\"id\":\"3462\",\"type\":\"Title\"},{\"attributes\":{},\"id\":\"3652\",\"type\":\"CategoricalTickFormatter\"},{\"attributes\":{},\"id\":\"3656\",\"type\":\"CategoricalTickFormatter\"},{\"attributes\":{},\"id\":\"3657\",\"type\":\"AllLabels\"},{\"attributes\":{},\"id\":\"3479\",\"type\":\"WheelZoomTool\"},{\"attributes\":{\"fill_alpha\":{\"value\":0.2},\"fill_color\":{\"field\":\"r\",\"transform\":{\"id\":\"3460\"}},\"hatch_alpha\":{\"value\":0.2},\"height\":{\"value\":1},\"line_alpha\":{\"value\":0.2},\"line_color\":{\"value\":null},\"width\":{\"value\":1},\"x\":{\"field\":\"level_0\"},\"y\":{\"field\":\"level_1\"}},\"id\":\"3495\",\"type\":\"Rect\"},{\"attributes\":{\"axis\":{\"id\":\"3472\"},\"coordinates\":null,\"group\":null,\"ticker\":null},\"id\":\"3474\",\"type\":\"Grid\"},{\"attributes\":{\"axis_line_color\":null,\"coordinates\":null,\"formatter\":{\"id\":\"3656\"},\"group\":null,\"major_label_orientation\":1.0,\"major_label_policy\":{\"id\":\"3657\"},\"major_label_standoff\":0,\"major_label_text_font_size\":\"10px\",\"major_tick_line_color\":null,\"ticker\":{\"id\":\"3473\"}},\"id\":\"3472\",\"type\":\"CategoricalAxis\"},{\"attributes\":{},\"id\":\"3653\",\"type\":\"AllLabels\"},{\"attributes\":{\"factors\":[\"Breakfast\",\"Tired\",\"PhoneTime\",\"PhoneReach\",\"Hours\",\"Enough\"]},\"id\":\"3466\",\"type\":\"FactorRange\"},{\"attributes\":{},\"id\":\"3654\",\"type\":\"NoOverlap\"},{\"attributes\":{},\"id\":\"3482\",\"type\":\"ResetTool\"},{\"attributes\":{},\"id\":\"3481\",\"type\":\"SaveTool\"},{\"attributes\":{\"high\":1.0,\"low\":0.018630693944887897,\"palette\":[\"#014636\",\"#016c59\",\"#02818a\",\"#3690c0\",\"#67a9cf\",\"#a6bddb\",\"#d0d1e6\",\"#ece2f0\",\"#fff7fb\"]},\"id\":\"3460\",\"type\":\"LinearColorMapper\"},{\"attributes\":{\"overlay\":{\"id\":\"3484\"}},\"id\":\"3480\",\"type\":\"BoxZoomTool\"},{\"attributes\":{},\"id\":\"3478\",\"type\":\"PanTool\"},{\"attributes\":{\"source\":{\"id\":\"3459\"}},\"id\":\"3497\",\"type\":\"CDSView\"},{\"attributes\":{\"factors\":[\"Enough\",\"Hours\",\"PhoneReach\",\"PhoneTime\",\"Tired\",\"Breakfast\"]},\"id\":\"3464\",\"type\":\"FactorRange\"}],\"root_ids\":[\"3461\"]},\"title\":\"Bokeh Application\",\"version\":\"2.4.2\"}};\n",
       "  const render_items = [{\"docid\":\"a180100d-3bd7-454c-9b8c-720d9087b3b7\",\"root_ids\":[\"3461\"],\"roots\":{\"3461\":\"f15c1f89-7332-460f-b3d7-c63102bf569e\"}}];\n",
       "  root.Bokeh.embed.embed_items_notebook(docs_json, render_items);\n",
       "\n",
       "  }\n",
       "  if (root.Bokeh !== undefined) {\n",
       "    embed_document(root);\n",
       "  } else {\n",
       "    let attempts = 0;\n",
       "    const timer = setInterval(function(root) {\n",
       "      if (root.Bokeh !== undefined) {\n",
       "        clearInterval(timer);\n",
       "        embed_document(root);\n",
       "      } else {\n",
       "        attempts++;\n",
       "        if (attempts > 100) {\n",
       "          clearInterval(timer);\n",
       "          console.log(\"Bokeh: ERROR: Unable to run BokehJS code because BokehJS library is missing\");\n",
       "        }\n",
       "      }\n",
       "    }, 10, root)\n",
       "  }\n",
       "})(window);"
      ],
      "application/vnd.bokehjs_exec.v0+json": ""
     },
     "metadata": {
      "application/vnd.bokehjs_exec.v0+json": {
       "id": "3461"
      }
     },
     "output_type": "display_data"
    }
   ],
   "source": [
    "source = ColumnDataSource(data_corr_obj)\n",
    "\n",
    "#create colormapper \n",
    "mapper = LinearColorMapper(palette=PuBuGn[9], low=data_corr_obj.r.min(), high=data_corr_obj.r.max())\n",
    "\n",
    "#create plot\n",
    "p = figure(title=\"Sleep parameters correlation\", plot_width=500, plot_height=450,\n",
    "           x_range=x_range, y_range=y_range, x_axis_location=\"above\", toolbar_location=None)\n",
    "\n",
    "#use mapper to fill the rectangles in the plot\n",
    "p.rect(x=\"level_0\", y=\"level_1\", width=1, height=1, source=source,\n",
    "       line_color=None, fill_color=transform('r', mapper))\n",
    "\n",
    "#create and add colorbar to the right\n",
    "color_bar = ColorBar(color_mapper=mapper, location=(0, 0),\n",
    "                     ticker=BasicTicker(desired_num_ticks=len(x_range)), \n",
    "                     formatter=PrintfTickFormatter(format=\"%.1f\"))\n",
    "p.add_layout(color_bar, 'right')\n",
    "\n",
    "#draw axis\n",
    "p.axis.axis_line_color = None\n",
    "p.axis.major_tick_line_color = None\n",
    "p.axis.major_label_text_font_size = \"10px\"\n",
    "p.axis.major_label_standoff = 0\n",
    "p.xaxis.major_label_orientation = 1.0\n",
    "\n",
    "#show\n",
    "show(p)"
   ]
  },
  {
   "cell_type": "markdown",
   "metadata": {},
   "source": [
    "The highest correlation (0.4) seems to be between 'Hours' and 'Enough' and between 'Tired' and 'Enough'."
   ]
  },
  {
   "cell_type": "markdown",
   "metadata": {},
   "source": [
    "---"
   ]
  },
  {
   "cell_type": "markdown",
   "metadata": {},
   "source": [
    "<a name='2'></a>\n",
    "## Part 3: Check Assumptions\n",
    "\n",
    "Before we answer the research question with ANOVA we need to check the following assumptions:\n",
    "\n",
    "1. ANOVA assumes that the dependent variable is normaly distributed\n",
    "2. ANOVA also assumes homogeneity of variance\n",
    "3. ANOVA also assumes that the observations are independent of each other. Most of the time we need domain knowledge and experiment setup descriptions to estimate this assumption\n",
    "\n",
    "We are going to do this graphically and statistically. "
   ]
  },
  {
   "cell_type": "markdown",
   "metadata": {},
   "source": [
    "<a name='ex-31'></a>\n",
    "### Check normality (10 pt)\n",
    "\n",
    "<ul><li>\n",
    "Plot the distribution of the dependent variable. Add a vertical line at the position of the average. Add a vertical line for the robuust estimation. Add the normal distribution line to the plot. Comment on the normallity of the data. Do you want the full points? Plot with bokeh!</li>\n",
    "\n",
    "<li>Use a Shapiro-Wilk Test or an Anderson-Darling test to check statistically</li></ul>\n",
    "\n",
    "\n",
    "<details>    \n",
    "<summary>\n",
    "    <font size=\"3\" color=\"darkgreen\"><b>Hints</b></font>\n",
    "</summary>\n",
    "    <ul><li>check the code of lesson 1 DS1 bayesian statistics</li>\n",
    "        <li>heart_failure case of gitbook uses bokeh histograms</li>\n",
    "</ul>\n",
    "</details>"
   ]
  },
  {
   "cell_type": "code",
   "execution_count": 74,
   "metadata": {
    "scrolled": false
   },
   "outputs": [
    {
     "name": "stderr",
     "output_type": "stream",
     "text": [
      "/Users/dilyagrafova/opt/anaconda3/lib/python3.9/site-packages/seaborn/distributions.py:2619: FutureWarning: `distplot` is a deprecated function and will be removed in a future version. Please adapt your code to use either `displot` (a figure-level function with similar flexibility) or `histplot` (an axes-level function for histograms).\n",
      "  warnings.warn(msg, FutureWarning)\n"
     ]
    },
    {
     "data": {
      "text/plain": [
       "<AxesSubplot:xlabel='Hours', ylabel='Density'>"
      ]
     },
     "execution_count": 74,
     "metadata": {},
     "output_type": "execute_result"
    },
    {
     "data": {
      "image/png": "[encoded data removed]",
      "text/plain": [
       "<Figure size 576x360 with 1 Axes>"
      ]
     },
     "metadata": {
      "needs_background": "light"
     },
     "output_type": "display_data"
    }
   ],
   "source": [
    "# histogram with seaborn library\n",
    "plt.figure(figsize = (8,5))\n",
    "sns.distplot(data['Hours'], color='palegreen')"
   ]
  },
  {
   "cell_type": "code",
   "execution_count": 75,
   "metadata": {
    "scrolled": false
   },
   "outputs": [
    {
     "data": {
      "text/html": [
       "\n",
       "\n",
       "\n",
       "\n",
       "\n",
       "\n",
       "  <div class=\"bk-root\" id=\"faaa4777-09e7-46d3-85df-8b060672cd53\" data-root-id=\"3716\"></div>\n"
      ]
     },
     "metadata": {},
     "output_type": "display_data"
    },
    {
     "data": {
      "application/javascript": [
       "(function(root) {\n",
       "  function embed_document(root) {\n",
       "    \n",
       "  const docs_json = {\"b43d97e9-5834-49f7-93eb-847848d1ee5e\":{\"defs\":[],\"roots\":{\"references\":[{\"attributes\":{\"below\":[{\"id\":\"3727\"}],\"center\":[{\"id\":\"3730\"},{\"id\":\"3734\"},{\"id\":\"3773\"}],\"left\":[{\"id\":\"3731\"}],\"renderers\":[{\"id\":\"3753\"},{\"id\":\"3759\"},{\"id\":\"3779\"},{\"id\":\"3800\"}],\"title\":{\"id\":\"3717\"},\"toolbar\":{\"id\":\"3742\"},\"x_range\":{\"id\":\"3719\"},\"x_scale\":{\"id\":\"3723\"},\"y_range\":{\"id\":\"3721\"},\"y_scale\":{\"id\":\"3725\"}},\"id\":\"3716\",\"subtype\":\"Figure\",\"type\":\"Plot\"},{\"attributes\":{},\"id\":\"3764\",\"type\":\"AllLabels\"},{\"attributes\":{},\"id\":\"3816\",\"type\":\"Selection\"},{\"attributes\":{},\"id\":\"3723\",\"type\":\"LinearScale\"},{\"attributes\":{\"coordinates\":null,\"group\":null,\"text\":\"Histogram of Hours of Sleep\"},\"id\":\"3717\",\"type\":\"Title\"},{\"attributes\":{\"data\":{\"x\":{\"__ndarray__\":\"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\",\"dtype\":\"float64\",\"order\":\"little\",\"shape\":[501]},\"y\":{\"__ndarray__\":\"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\",\"dtype\":\"float64\",\"order\":\"little\",\"shape\":[501]}},\"selected\":{\"id\":\"3816\"},\"selection_policy\":{\"id\":\"3815\"}},\"id\":\"3796\",\"type\":\"ColumnDataSource\"},{\"attributes\":{},\"id\":\"3721\",\"type\":\"DataRange1d\"},{\"attributes\":{\"line_color\":\"navy\",\"x\":{\"field\":\"x\"},\"y\":{\"field\":\"y\"}},\"id\":\"3797\",\"type\":\"Line\"},{\"attributes\":{\"bottom\":{\"value\":0},\"fill_alpha\":{\"value\":0.1},\"fill_color\":{\"value\":\"green\"},\"hatch_alpha\":{\"value\":0.1},\"left\":{\"field\":\"left\"},\"line_alpha\":{\"value\":0.1},\"line_color\":{\"value\":\"white\"},\"right\":{\"field\":\"right\"},\"top\":{\"field\":\"top\"}},\"id\":\"3751\",\"type\":\"Quad\"},{\"attributes\":{},\"id\":\"3793\",\"type\":\"Selection\"},{\"attributes\":{},\"id\":\"3719\",\"type\":\"DataRange1d\"},{\"attributes\":{\"axis_label\":\"Hours (h)\",\"coordinates\":null,\"formatter\":{\"id\":\"3766\"},\"group\":null,\"major_label_policy\":{\"id\":\"3767\"},\"ticker\":{\"id\":\"3728\"}},\"id\":\"3727\",\"type\":\"LinearAxis\"},{\"attributes\":{},\"id\":\"3763\",\"type\":\"BasicTickFormatter\"},{\"attributes\":{\"data\":{\"left\":{\"__ndarray__\":\"AAAAAAAAAEBEREREREQEQIiIiIiIiAhAzczMzMzMDECIiIiIiIgQQKqqqqqqqhJAzczMzMzMFEDv7u7u7u4WQBERERERERlAMzMzMzMzG0BVVVVVVVUdQHd3d3d3dx9AzczMzMzMIEDe3d3d3d0hQO/u7u7u7iJA\",\"dtype\":\"float64\",\"order\":\"little\",\"shape\":[15]},\"right\":{\"__ndarray__\":\"REREREREBECIiIiIiIgIQM3MzMzMzAxAiIiIiIiIEECqqqqqqqoSQM3MzMzMzBRA7+7u7u7uFkAREREREREZQDMzMzMzMxtAVVVVVVVVHUB3d3d3d3cfQM3MzMzMzCBA3t3d3d3dIUDv7u7u7u4iQAAAAAAAACRA\",\"dtype\":\"float64\",\"order\":\"little\",\"shape\":[15]},\"top\":{\"__ndarray__\":\"1NLS0tLSoj8AAAAAAAAAAAAAAAAAAAAA2NLS0tLSsj8AAAAAAAAAADE8PDw8PMw/AAAAAAAAAAA9PDw8PDzcPwAAAAAAAAAAmJaWlpaW5D8AAAAAAAAAAMvS0tLS0tI/AAAAAAAAAADU0tLS0tLCP9TS0tLS0pI/\",\"dtype\":\"float64\",\"order\":\"little\",\"shape\":[15]}},\"selected\":{\"id\":\"3769\"},\"selection_policy\":{\"id\":\"3768\"}},\"id\":\"3749\",\"type\":\"ColumnDataSource\"},{\"attributes\":{\"line_color\":\"#009E73\",\"line_dash\":[6],\"x\":{\"field\":\"x\"},\"y\":{\"field\":\"y\"}},\"id\":\"3756\",\"type\":\"Line\"},{\"attributes\":{\"source\":{\"id\":\"3775\"}},\"id\":\"3780\",\"type\":\"CDSView\"},{\"attributes\":{\"axis\":{\"id\":\"3727\"},\"coordinates\":null,\"group\":null,\"ticker\":null},\"id\":\"3730\",\"type\":\"Grid\"},{\"attributes\":{\"source\":{\"id\":\"3755\"}},\"id\":\"3760\",\"type\":\"CDSView\"},{\"attributes\":{},\"id\":\"3728\",\"type\":\"BasicTicker\"},{\"attributes\":{},\"id\":\"3725\",\"type\":\"LinearScale\"},{\"attributes\":{\"bottom\":{\"value\":0},\"fill_alpha\":{\"value\":0.4},\"fill_color\":{\"value\":\"green\"},\"hatch_alpha\":{\"value\":0.4},\"left\":{\"field\":\"left\"},\"line_alpha\":{\"value\":0.4},\"line_color\":{\"value\":\"white\"},\"right\":{\"field\":\"right\"},\"top\":{\"field\":\"top\"}},\"id\":\"3750\",\"type\":\"Quad\"},{\"attributes\":{},\"id\":\"3815\",\"type\":\"UnionRenderers\"},{\"attributes\":{},\"id\":\"3736\",\"type\":\"WheelZoomTool\"},{\"attributes\":{},\"id\":\"3771\",\"type\":\"Selection\"},{\"attributes\":{\"axis_label\":\"Number of records\",\"coordinates\":null,\"formatter\":{\"id\":\"3763\"},\"group\":null,\"major_label_policy\":{\"id\":\"3764\"},\"ticker\":{\"id\":\"3732\"}},\"id\":\"3731\",\"type\":\"LinearAxis\"},{\"attributes\":{\"axis\":{\"id\":\"3731\"},\"coordinates\":null,\"dimension\":1,\"group\":null,\"ticker\":null},\"id\":\"3734\",\"type\":\"Grid\"},{\"attributes\":{},\"id\":\"3768\",\"type\":\"UnionRenderers\"},{\"attributes\":{\"line_alpha\":0.2,\"line_color\":\"navy\",\"x\":{\"field\":\"x\"},\"y\":{\"field\":\"y\"}},\"id\":\"3799\",\"type\":\"Line\"},{\"attributes\":{},\"id\":\"3732\",\"type\":\"BasicTicker\"},{\"attributes\":{},\"id\":\"3770\",\"type\":\"UnionRenderers\"},{\"attributes\":{\"coordinates\":null,\"data_source\":{\"id\":\"3796\"},\"glyph\":{\"id\":\"3797\"},\"group\":null,\"hover_glyph\":null,\"muted_glyph\":{\"id\":\"3799\"},\"nonselection_glyph\":{\"id\":\"3798\"},\"view\":{\"id\":\"3801\"}},\"id\":\"3800\",\"type\":\"GlyphRenderer\"},{\"attributes\":{},\"id\":\"3769\",\"type\":\"Selection\"},{\"attributes\":{\"coordinates\":null,\"data_source\":{\"id\":\"3775\"},\"glyph\":{\"id\":\"3776\"},\"group\":null,\"hover_glyph\":null,\"muted_glyph\":{\"id\":\"3778\"},\"nonselection_glyph\":{\"id\":\"3777\"},\"view\":{\"id\":\"3780\"}},\"id\":\"3779\",\"type\":\"GlyphRenderer\"},{\"attributes\":{\"bottom\":{\"value\":0},\"fill_alpha\":{\"value\":0.2},\"fill_color\":{\"value\":\"green\"},\"hatch_alpha\":{\"value\":0.2},\"left\":{\"field\":\"left\"},\"line_alpha\":{\"value\":0.2},\"line_color\":{\"value\":\"white\"},\"right\":{\"field\":\"right\"},\"top\":{\"field\":\"top\"}},\"id\":\"3752\",\"type\":\"Quad\"},{\"attributes\":{},\"id\":\"3740\",\"type\":\"HelpTool\"},{\"attributes\":{},\"id\":\"3735\",\"type\":\"PanTool\"},{\"attributes\":{\"label\":{\"value\":\"Average\"},\"renderers\":[{\"id\":\"3759\"}]},\"id\":\"3774\",\"type\":\"LegendItem\"},{\"attributes\":{\"line_alpha\":0.1,\"line_color\":\"navy\",\"x\":{\"field\":\"x\"},\"y\":{\"field\":\"y\"}},\"id\":\"3798\",\"type\":\"Line\"},{\"attributes\":{\"overlay\":{\"id\":\"3741\"}},\"id\":\"3737\",\"type\":\"BoxZoomTool\"},{\"attributes\":{\"label\":{\"value\":\"Robust estimate\"},\"renderers\":[{\"id\":\"3779\"}]},\"id\":\"3795\",\"type\":\"LegendItem\"},{\"attributes\":{\"source\":{\"id\":\"3796\"}},\"id\":\"3801\",\"type\":\"CDSView\"},{\"attributes\":{},\"id\":\"3738\",\"type\":\"SaveTool\"},{\"attributes\":{},\"id\":\"3739\",\"type\":\"ResetTool\"},{\"attributes\":{\"label\":{\"value\":\"Probability Density Function\"},\"renderers\":[{\"id\":\"3800\"}]},\"id\":\"3818\",\"type\":\"LegendItem\"},{\"attributes\":{\"bottom_units\":\"screen\",\"coordinates\":null,\"fill_alpha\":0.5,\"fill_color\":\"lightgrey\",\"group\":null,\"left_units\":\"screen\",\"level\":\"overlay\",\"line_alpha\":1.0,\"line_color\":\"black\",\"line_dash\":[4,4],\"line_width\":2,\"right_units\":\"screen\",\"syncable\":false,\"top_units\":\"screen\"},\"id\":\"3741\",\"type\":\"BoxAnnotation\"},{\"attributes\":{\"coordinates\":null,\"data_source\":{\"id\":\"3749\"},\"glyph\":{\"id\":\"3750\"},\"group\":null,\"hover_glyph\":null,\"muted_glyph\":{\"id\":\"3752\"},\"nonselection_glyph\":{\"id\":\"3751\"},\"view\":{\"id\":\"3754\"}},\"id\":\"3753\",\"type\":\"GlyphRenderer\"},{\"attributes\":{\"tools\":[{\"id\":\"3735\"},{\"id\":\"3736\"},{\"id\":\"3737\"},{\"id\":\"3738\"},{\"id\":\"3739\"},{\"id\":\"3740\"}]},\"id\":\"3742\",\"type\":\"Toolbar\"},{\"attributes\":{\"source\":{\"id\":\"3749\"}},\"id\":\"3754\",\"type\":\"CDSView\"},{\"attributes\":{\"data\":{\"x\":[6.6568627450980395,6.6568627450980395],\"y\":[0,1]},\"selected\":{\"id\":\"3771\"},\"selection_policy\":{\"id\":\"3770\"}},\"id\":\"3755\",\"type\":\"ColumnDataSource\"},{\"attributes\":{},\"id\":\"3792\",\"type\":\"UnionRenderers\"},{\"attributes\":{\"coordinates\":null,\"data_source\":{\"id\":\"3755\"},\"glyph\":{\"id\":\"3756\"},\"group\":null,\"hover_glyph\":null,\"muted_glyph\":{\"id\":\"3758\"},\"nonselection_glyph\":{\"id\":\"3757\"},\"view\":{\"id\":\"3760\"}},\"id\":\"3759\",\"type\":\"GlyphRenderer\"},{\"attributes\":{},\"id\":\"3767\",\"type\":\"AllLabels\"},{\"attributes\":{\"data\":{\"x\":[7.0,7.0],\"y\":[0,1]},\"selected\":{\"id\":\"3793\"},\"selection_policy\":{\"id\":\"3792\"}},\"id\":\"3775\",\"type\":\"ColumnDataSource\"},{\"attributes\":{\"coordinates\":null,\"group\":null,\"items\":[{\"id\":\"3774\"},{\"id\":\"3795\"},{\"id\":\"3818\"}]},\"id\":\"3773\",\"type\":\"Legend\"},{\"attributes\":{\"line_alpha\":0.2,\"line_color\":\"#009E73\",\"line_dash\":[6],\"x\":{\"field\":\"x\"},\"y\":{\"field\":\"y\"}},\"id\":\"3758\",\"type\":\"Line\"},{\"attributes\":{\"line_color\":\"#C58940\",\"line_dash\":[6],\"x\":{\"field\":\"x\"},\"y\":{\"field\":\"y\"}},\"id\":\"3776\",\"type\":\"Line\"},{\"attributes\":{},\"id\":\"3766\",\"type\":\"BasicTickFormatter\"},{\"attributes\":{\"line_alpha\":0.1,\"line_color\":\"#009E73\",\"line_dash\":[6],\"x\":{\"field\":\"x\"},\"y\":{\"field\":\"y\"}},\"id\":\"3757\",\"type\":\"Line\"},{\"attributes\":{\"line_alpha\":0.1,\"line_color\":\"#C58940\",\"line_dash\":[6],\"x\":{\"field\":\"x\"},\"y\":{\"field\":\"y\"}},\"id\":\"3777\",\"type\":\"Line\"},{\"attributes\":{\"line_alpha\":0.2,\"line_color\":\"#C58940\",\"line_dash\":[6],\"x\":{\"field\":\"x\"},\"y\":{\"field\":\"y\"}},\"id\":\"3778\",\"type\":\"Line\"}],\"root_ids\":[\"3716\"]},\"title\":\"Bokeh Application\",\"version\":\"2.4.2\"}};\n",
       "  const render_items = [{\"docid\":\"b43d97e9-5834-49f7-93eb-847848d1ee5e\",\"root_ids\":[\"3716\"],\"roots\":{\"3716\":\"faaa4777-09e7-46d3-85df-8b060672cd53\"}}];\n",
       "  root.Bokeh.embed.embed_items_notebook(docs_json, render_items);\n",
       "\n",
       "  }\n",
       "  if (root.Bokeh !== undefined) {\n",
       "    embed_document(root);\n",
       "  } else {\n",
       "    let attempts = 0;\n",
       "    const timer = setInterval(function(root) {\n",
       "      if (root.Bokeh !== undefined) {\n",
       "        clearInterval(timer);\n",
       "        embed_document(root);\n",
       "      } else {\n",
       "        attempts++;\n",
       "        if (attempts > 100) {\n",
       "          clearInterval(timer);\n",
       "          console.log(\"Bokeh: ERROR: Unable to run BokehJS code because BokehJS library is missing\");\n",
       "        }\n",
       "      }\n",
       "    }, 10, root)\n",
       "  }\n",
       "})(window);"
      ],
      "application/vnd.bokehjs_exec.v0+json": ""
     },
     "metadata": {
      "application/vnd.bokehjs_exec.v0+json": {
       "id": "3716"
      }
     },
     "output_type": "display_data"
    }
   ],
   "source": [
    "hist, edges = np.histogram(data['Hours'], \n",
    "                           bins = 15,\n",
    "                           density=True)\n",
    "\n",
    "p = figure(plot_height = 600, plot_width = 600, \n",
    "           title = 'Histogram of Hours of Sleep',\n",
    "           x_axis_label = 'Hours (h)', \n",
    "           y_axis_label = 'Number of records')\n",
    "\n",
    "p.quad(bottom=0, top=hist, \n",
    "       left=edges[:-1], right=edges[1:], \n",
    "       fill_color='green', line_color=\"white\", alpha=0.4)\n",
    "\n",
    "\n",
    "#vertical line at the position of the average\n",
    "mu = data['Hours'].mean()\n",
    "p.line([mu, mu], [0, 1], legend_label=\"Average\", line_dash='dashed', line_color=\"#009E73\")\n",
    "\n",
    "#Add a vertical line for the robust estimation \n",
    "mu_R = data['Hours'].median()\n",
    "p.line([mu_R, mu_R], [0, 1], legend_label=\"Robust estimate\", line_dash='dashed', line_color=\"#C58940\")\n",
    "\n",
    "#Add the normal distribution line to the plot\n",
    "x = np.linspace(np.min(data['Hours']), np.max(data['Hours']), 501)\n",
    "s = np.std(data['Hours'], ddof=1)\n",
    "rv = np.array([norm.pdf(xi, loc = mu, scale = s) for xi in x])\n",
    "p.line(x, rv, line_width=1, line_color=\"navy\", legend_label=\"Probability Density Function\")\n",
    "\n",
    "\n",
    "# Show the plot\n",
    "show(p)"
   ]
  },
  {
   "cell_type": "code",
   "execution_count": 76,
   "metadata": {},
   "outputs": [
    {
     "name": "stdout",
     "output_type": "stream",
     "text": [
      "p-value:  7.15833084541373e-05\n",
      "Not a normal distribution\n"
     ]
    }
   ],
   "source": [
    "# Shapiro-Wilk test to check if the distribution is normal\n",
    "results = st.shapiro(data['Hours'])\n",
    "p_value = results[1]\n",
    "alpha = 0.05\n",
    "print('p-value: ', p_value)\n",
    "\n",
    "if p_value < alpha:\n",
    "    print('Not a normal distribution')\n",
    "else:\n",
    "    print('Distribution is normal')"
   ]
  },
  {
   "cell_type": "code",
   "execution_count": 77,
   "metadata": {},
   "outputs": [
    {
     "name": "stdout",
     "output_type": "stream",
     "text": [
      "p-value:  0.00029438629280775785\n",
      "Not a normal distribution\n"
     ]
    }
   ],
   "source": [
    "#check for distribution type without outlier\n",
    "data_filtered = data[data['Hours'] > 2]\n",
    "results = st.shapiro(data_filtered['Hours'])\n",
    "p_value = results[1]\n",
    "alpha = 0.05\n",
    "print('p-value: ', p_value)\n",
    "\n",
    "if p_value < alpha:\n",
    "    print('Not a normal distribution')\n",
    "else:\n",
    "    print('Distribution is normal')"
   ]
  },
  {
   "cell_type": "code",
   "execution_count": 78,
   "metadata": {},
   "outputs": [
    {
     "data": {
      "text/html": [
       "\n",
       "\n",
       "\n",
       "\n",
       "\n",
       "\n",
       "  <div class=\"bk-root\" id=\"bb3ef705-6ac6-4000-b8fd-62a633c29d4d\" data-root-id=\"4075\"></div>\n"
      ]
     },
     "metadata": {},
     "output_type": "display_data"
    },
    {
     "data": {
      "application/javascript": [
       "(function(root) {\n",
       "  function embed_document(root) {\n",
       "    \n",
       "  const docs_json = {\"ac308d29-00c8-45a6-be92-0b4518d6cc57\":{\"defs\":[],\"roots\":{\"references\":[{\"attributes\":{\"below\":[{\"id\":\"4086\"}],\"center\":[{\"id\":\"4089\"},{\"id\":\"4093\"},{\"id\":\"4132\"}],\"left\":[{\"id\":\"4090\"}],\"renderers\":[{\"id\":\"4112\"},{\"id\":\"4118\"},{\"id\":\"4138\"},{\"id\":\"4159\"}],\"title\":{\"id\":\"4076\"},\"toolbar\":{\"id\":\"4101\"},\"x_range\":{\"id\":\"4078\"},\"x_scale\":{\"id\":\"4082\"},\"y_range\":{\"id\":\"4080\"},\"y_scale\":{\"id\":\"4084\"}},\"id\":\"4075\",\"subtype\":\"Figure\",\"type\":\"Plot\"},{\"attributes\":{\"data\":{\"x\":[6.75,6.75],\"y\":[0,1]},\"selected\":{\"id\":\"4130\"},\"selection_policy\":{\"id\":\"4129\"}},\"id\":\"4114\",\"type\":\"ColumnDataSource\"},{\"attributes\":{\"coordinates\":null,\"data_source\":{\"id\":\"4114\"},\"glyph\":{\"id\":\"4115\"},\"group\":null,\"hover_glyph\":null,\"muted_glyph\":{\"id\":\"4117\"},\"nonselection_glyph\":{\"id\":\"4116\"},\"view\":{\"id\":\"4119\"}},\"id\":\"4118\",\"type\":\"GlyphRenderer\"},{\"attributes\":{\"tools\":[{\"id\":\"4094\"},{\"id\":\"4095\"},{\"id\":\"4096\"},{\"id\":\"4097\"},{\"id\":\"4098\"},{\"id\":\"4099\"}]},\"id\":\"4101\",\"type\":\"Toolbar\"},{\"attributes\":{\"line_alpha\":0.2,\"line_color\":\"navy\",\"x\":{\"field\":\"x\"},\"y\":{\"field\":\"y\"}},\"id\":\"4158\",\"type\":\"Line\"},{\"attributes\":{\"data\":{\"x\":[7.0,7.0],\"y\":[0,1]},\"selected\":{\"id\":\"4152\"},\"selection_policy\":{\"id\":\"4151\"}},\"id\":\"4134\",\"type\":\"ColumnDataSource\"},{\"attributes\":{\"line_alpha\":0.1,\"line_color\":\"navy\",\"x\":{\"field\":\"x\"},\"y\":{\"field\":\"y\"}},\"id\":\"4157\",\"type\":\"Line\"},{\"attributes\":{\"bottom_units\":\"screen\",\"coordinates\":null,\"fill_alpha\":0.5,\"fill_color\":\"lightgrey\",\"group\":null,\"left_units\":\"screen\",\"level\":\"overlay\",\"line_alpha\":1.0,\"line_color\":\"black\",\"line_dash\":[4,4],\"line_width\":2,\"right_units\":\"screen\",\"syncable\":false,\"top_units\":\"screen\"},\"id\":\"4100\",\"type\":\"BoxAnnotation\"},{\"attributes\":{},\"id\":\"4175\",\"type\":\"Selection\"},{\"attributes\":{\"line_color\":\"#009E73\",\"line_dash\":[6],\"x\":{\"field\":\"x\"},\"y\":{\"field\":\"y\"}},\"id\":\"4115\",\"type\":\"Line\"},{\"attributes\":{},\"id\":\"4098\",\"type\":\"ResetTool\"},{\"attributes\":{},\"id\":\"4127\",\"type\":\"UnionRenderers\"},{\"attributes\":{},\"id\":\"4097\",\"type\":\"SaveTool\"},{\"attributes\":{\"overlay\":{\"id\":\"4100\"}},\"id\":\"4096\",\"type\":\"BoxZoomTool\"},{\"attributes\":{},\"id\":\"4094\",\"type\":\"PanTool\"},{\"attributes\":{},\"id\":\"4130\",\"type\":\"Selection\"},{\"attributes\":{},\"id\":\"4099\",\"type\":\"HelpTool\"},{\"attributes\":{},\"id\":\"4151\",\"type\":\"UnionRenderers\"},{\"attributes\":{},\"id\":\"4126\",\"type\":\"AllLabels\"},{\"attributes\":{},\"id\":\"4091\",\"type\":\"BasicTicker\"},{\"attributes\":{\"axis\":{\"id\":\"4090\"},\"coordinates\":null,\"dimension\":1,\"group\":null,\"ticker\":null},\"id\":\"4093\",\"type\":\"Grid\"},{\"attributes\":{\"axis_label\":\"Number of records\",\"coordinates\":null,\"formatter\":{\"id\":\"4122\"},\"group\":null,\"major_label_policy\":{\"id\":\"4123\"},\"ticker\":{\"id\":\"4091\"}},\"id\":\"4090\",\"type\":\"LinearAxis\"},{\"attributes\":{\"line_alpha\":0.2,\"line_color\":\"#C58940\",\"line_dash\":[6],\"x\":{\"field\":\"x\"},\"y\":{\"field\":\"y\"}},\"id\":\"4137\",\"type\":\"Line\"},{\"attributes\":{\"data\":{\"x\":{\"__ndarray__\":\"AAAAAAAAEEA/NV66SQwQQH9qvHSTGBBAvp8aL90kEED+1HjpJjEQQD0K16NwPRBAfT81XrpJEEC8dJMYBFYQQPyp8dJNYhBAO99PjZduEEB7FK5H4XoQQLpJDAIrhxBA+n5qvHSTEEA5tMh2vp8QQHnpJjEIrBBAuB6F61G4EED4U+Olm8QQQDeJQWDl0BBAd76fGi/dEEC28/3UeOkQQPYoXI/C9RBANV66SQwCEUB1kxgEVg4RQLTIdr6fGhFA9P3UeOkmEUAzMzMzMzMRQHNoke18PxFAsp3vp8ZLEUDy0k1iEFgRQDEIrBxaZBFAcT0K16NwEUCwcmiR7XwRQPCnxks3iRFAL90kBoGVEUBvEoPAyqERQK5H4XoUrhFA7nw/NV66EUAtsp3vp8YRQG3n+6nx0hFArBxaZDvfEUDsUbgehesRQCuHFtnO9xFAarx0kxgEEkCq8dJNYhASQOomMQisHBJAKVyPwvUoEkBoke18PzUSQKjGSzeJQRJA6Pup8dJNEkAnMQisHFoSQGZmZmZmZhJAppvEILByEkDl0CLb+X4SQCUGgZVDixJAZDvfT42XEkCkcD0K16MSQOOlm8QgsBJAI9v5fmq8EkBiEFg5tMgSQKJFtvP91BJA4XoUrkfhEkAhsHJoke0SQGDl0CLb+RJAoBov3SQGE0DfT42XbhITQB+F61G4HhNAXrpJDAIrE0Ce76fGSzcTQN0kBoGVQxNAHVpkO99PE0Bcj8L1KFwTQJzEILByaBNA2/l+arx0E0AbL90kBoETQFpkO99PjRNAmpmZmZmZE0DZzvdT46UTQBkEVg4tshNAWDm0yHa+E0CYbhKDwMoTQNejcD0K1xNAFtnO91PjE0BWDi2yne8TQJZDi2zn+xNA1XjpJjEIFEAUrkfhehQUQFTjpZvEIBRAlBgEVg4tFEDTTWIQWDkUQBKDwMqhRRRAUrgehetRFECS7Xw/NV4UQNEi2/l+ahRAEFg5tMh2FEBQjZduEoMUQJDC9ShcjxRAz/dT46WbFEAOLbKd76cUQE5iEFg5tBRAjZduEoPAFEDNzMzMzMwUQAwCK4cW2RRATDeJQWDlFECLbOf7qfEUQMuhRbbz/RRACtejcD0KFUBKDAIrhxYVQIlBYOXQIhVAyXa+nxovFUAIrBxaZDsVQEjhehSuRxVAhxbZzvdTFUDHSzeJQWAVQAaBlUOLbBVARrbz/dR4FUCF61G4HoUVQMUgsHJokRVABFYOLbKdFUBEi2zn+6kVQIPAyqFFthVAwvUoXI/CFUACK4cW2c4VQEJg5dAi2xVAgZVDi2znFUDAyqFFtvMVQAAAAAAAABZAQDVeukkMFkB/arx0kxgWQL6fGi/dJBZA/tR46SYxFkA+CtejcD0WQH0/NV66SRZAvHSTGARWFkD8qfHSTWIWQDzfT42XbhZAexSuR+F6FkC6SQwCK4cWQPp+arx0kxZAOrTIdr6fFkB56SYxCKwWQLgehetRuBZA+FPjpZvEFkA3iUFg5dAWQHe+nxov3RZAtvP91HjpFkD2KFyPwvUWQDVeukkMAhdAdZMYBFYOF0C0yHa+nxoXQPT91HjpJhdAMzMzMzMzF0BzaJHtfD8XQLKd76fGSxdA8tJNYhBYF0AxCKwcWmQXQHE9CtejcBdAsHJoke18F0Dwp8ZLN4kXQC/dJAaBlRdAbxKDwMqhF0CuR+F6FK4XQO58PzVeuhdALbKd76fGF0Bs5/up8dIXQKwcWmQ73xdA7FG4HoXrF0ArhxbZzvcXQGq8dJMYBBhAqvHSTWIQGEDqJjEIrBwYQClcj8L1KBhAaJHtfD81GECoxks3iUEYQOj7qfHSTRhAJzEIrBxaGEBmZmZmZmYYQKabxCCwchhA5tAi2/l+GEAlBoGVQ4sYQGQ730+NlxhApHA9CtejGEDkpZvEILAYQCPb+X5qvBhAYhBYObTIGECiRbbz/dQYQOJ6FK5H4RhAIbByaJHtGEBg5dAi2/kYQKAaL90kBhlA4E+Nl24SGUAfhetRuB4ZQF66SQwCKxlAnu+nxks3GUDdJAaBlUMZQBxaZDvfTxlAXI/C9ShcGUCcxCCwcmgZQNv5fmq8dBlAGi/dJAaBGUBaZDvfT40ZQJqZmZmZmRlA2c73U+OlGUAYBFYOLbIZQFg5tMh2vhlAmG4Sg8DKGUDXo3A9CtcZQBbZzvdT4xlAVg4tsp3vGUCWQ4ts5/sZQNV46SYxCBpAFK5H4XoUGkBU46WbxCAaQJQYBFYOLRpA001iEFg5GkASg8DKoUUaQFK4HoXrURpAku18PzVeGkDRItv5fmoaQBBYObTIdhpAUI2XbhKDGkCQwvUoXI8aQM/3U+OlmxpADi2yne+nGkBOYhBYObQaQI6XbhKDwBpAzczMzMzMGkAMAiuHFtkaQEw3iUFg5RpAjGzn+6nxGkDLoUW28/0aQArXo3A9ChtASgwCK4cWG0CKQWDl0CIbQMl2vp8aLxtACKwcWmQ7G0BI4XoUrkcbQIcW2c73UxtAxks3iUFgG0AGgZVDi2wbQEa28/3UeBtAhetRuB6FG0DEILByaJEbQARWDi2ynRtARIts5/upG0CDwMqhRbYbQML1KFyPwhtAAiuHFtnOG0BCYOXQItsbQIGVQ4ts5xtAwMqhRbbzG0AAAAAAAAAcQEA1XrpJDBxAf2q8dJMYHEC+nxov3SQcQP7UeOkmMRxAPgrXo3A9HEB9PzVeukkcQLx0kxgEVhxA/Knx0k1iHEA830+Nl24cQHsUrkfhehxAukkMAiuHHED6fmq8dJMcQDq0yHa+nxxAeekmMQisHEC4HoXrUbgcQPhT46WbxBxAOIlBYOXQHEB3vp8aL90cQLbz/dR46RxA9ihcj8L1HEA2XrpJDAIdQHWTGARWDh1AtMh2vp8aHUD0/dR46SYdQDQzMzMzMx1Ac2iR7Xw/HUCyne+nxksdQPLSTWIQWB1AMQisHFpkHUBwPQrXo3AdQLByaJHtfB1A8KfGSzeJHUAv3SQGgZUdQG4Sg8DKoR1ArkfhehSuHUDufD81XrodQC2yne+nxh1AbOf7qfHSHUCsHFpkO98dQOxRuB6F6x1AK4cW2c73HUBqvHSTGAQeQKrx0k1iEB5A6iYxCKwcHkApXI/C9SgeQGiR7Xw/NR5AqMZLN4lBHkDo+6nx0k0eQCcxCKwcWh5AZmZmZmZmHkCmm8QgsHIeQObQItv5fh5AJQaBlUOLHkBkO99PjZceQKRwPQrXox5A5KWbxCCwHkAj2/l+arweQGIQWDm0yB5AokW28/3UHkDiehSuR+EeQCGwcmiR7R5AYOXQItv5HkCgGi/dJAYfQOBPjZduEh9AH4XrUbgeH0BeukkMAisfQJ7vp8ZLNx9A3iQGgZVDH0AdWmQ7308fQFyPwvUoXB9AnMQgsHJoH0Db+X5qvHQfQBov3SQGgR9AWmQ730+NH0CamZmZmZkfQNnO91PjpR9AGARWDi2yH0BYObTIdr4fQJhuEoPAyh9A16NwPQrXH0AW2c73U+MfQFYOLbKd7x9AlkOLbOf7H0BqvHSTGAQgQArXo3A9CiBAqvHSTWIQIEBKDAIrhxYgQOomMQisHCBAikFg5dAiIEApXI/C9SggQMl2vp8aLyBAaJHtfD81IEAIrBxaZDsgQKjGSzeJQSBASOF6FK5HIEDo+6nx0k0gQIcW2c73UyBAJzEIrBxaIEDGSzeJQWAgQGZmZmZmZiBABoGVQ4tsIECmm8QgsHIgQEa28/3UeCBA5tAi2/l+IECF61G4HoUgQCUGgZVDiyBAxCCwcmiRIEBkO99PjZcgQARWDi2ynSBApHA9CtejIEBEi2zn+6kgQOSlm8QgsCBAg8DKoUW2IEAj2/l+arwgQML1KFyPwiBAYhBYObTIIEACK4cW2c4gQKJFtvP91CBAQmDl0CLbIEDiehSuR+EgQIGVQ4ts5yBAIbByaJHtIEDAyqFFtvMgQGDl0CLb+SBAAAAAAAAAIUCgGi/dJAYhQEA1XrpJDCFA4E+Nl24SIUB/arx0kxghQB+F61G4HiFAvp8aL90kIUBeukkMAishQP7UeOkmMSFAnu+nxks3IUA+CtejcD0hQN0kBoGVQyFAfT81XrpJIUAcWmQ7308hQLx0kxgEViFAXI/C9ShcIUD8qfHSTWIhQJzEILByaCFAPN9PjZduIUDb+X5qvHQhQHsUrkfheiFAGi/dJAaBIUC6SQwCK4chQFpkO99PjSFA+n5qvHSTIUCamZmZmZkhQDq0yHa+nyFA2c73U+OlIUB56SYxCKwhQBgEVg4tsiFAuB6F61G4IUBYObTIdr4hQPhT46WbxCFAmG4Sg8DKIUA4iUFg5dAhQNejcD0K1yFAd76fGi/dIUAW2c73U+MhQLbz/dR46SFAVg4tsp3vIUD2KFyPwvUhQJZDi2zn+yFANl66SQwCIkDVeOkmMQgiQHWTGARWDiJAFK5H4XoUIkC0yHa+nxoiQFTjpZvEICJA9P3UeOkmIkCUGARWDi0iQDQzMzMzMyJA001iEFg5IkByaJHtfD8iQBKDwMqhRSJAsp3vp8ZLIkBSuB6F61EiQPLSTWIQWCJAku18PzVeIkAxCKwcWmQiQNEi2/l+aiJAcD0K16NwIkAQWDm0yHYiQLByaJHtfCJAUI2XbhKDIkDwp8ZLN4kiQJDC9ShcjyJAL90kBoGVIkDP91PjpZsiQG4Sg8DKoSJADi2yne+nIkCuR+F6FK4iQE5iEFg5tCJA7nw/NV66IkCOl24Sg8AiQC2yne+nxiJAzczMzMzMIkBs5/up8dIiQAwCK4cW2SJArBxaZDvfIkBMN4lBYOUiQOxRuB6F6yJAjGzn+6nxIkArhxbZzvciQMuhRbbz/SJAarx0kxgEI0AK16NwPQojQKrx0k1iECNASgwCK4cWI0DqJjEIrBwjQIpBYOXQIiNAKVyPwvUoI0DJdr6fGi8jQGiR7Xw/NSNACKwcWmQ7I0Coxks3iUEjQEjhehSuRyNA6Pup8dJNI0CHFtnO91MjQCcxCKwcWiNAxks3iUFgI0BmZmZmZmYjQAaBlUOLbCNAppvEILByI0BGtvP91HgjQObQItv5fiNAhetRuB6FI0AlBoGVQ4sjQMQgsHJokSNAZDvfT42XI0AEVg4tsp0jQKRwPQrXoyNARIts5/upI0DkpZvEILAjQIPAyqFFtiNAI9v5fmq8I0DC9Shcj8IjQGIQWDm0yCNAAiuHFtnOI0CiRbbz/dQjQEJg5dAi2yNA4noUrkfhI0CBlUOLbOcjQCGwcmiR7SNAwMqhRbbzI0Bg5dAi2/kjQAAAAAAAACRA\",\"dtype\":\"float64\",\"order\":\"little\",\"shape\":[501]},\"y\":{\"__ndarray__\":\"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\",\"dtype\":\"float64\",\"order\":\"little\",\"shape\":[501]}},\"selected\":{\"id\":\"4175\"},\"selection_policy\":{\"id\":\"4174\"}},\"id\":\"4155\",\"type\":\"ColumnDataSource\"},{\"attributes\":{\"source\":{\"id\":\"4114\"}},\"id\":\"4119\",\"type\":\"CDSView\"},{\"attributes\":{\"coordinates\":null,\"data_source\":{\"id\":\"4155\"},\"glyph\":{\"id\":\"4156\"},\"group\":null,\"hover_glyph\":null,\"muted_glyph\":{\"id\":\"4158\"},\"nonselection_glyph\":{\"id\":\"4157\"},\"view\":{\"id\":\"4160\"}},\"id\":\"4159\",\"type\":\"GlyphRenderer\"},{\"attributes\":{},\"id\":\"4128\",\"type\":\"Selection\"},{\"attributes\":{\"line_color\":\"#C58940\",\"line_dash\":[6],\"x\":{\"field\":\"x\"},\"y\":{\"field\":\"y\"}},\"id\":\"4135\",\"type\":\"Line\"},{\"attributes\":{},\"id\":\"4095\",\"type\":\"WheelZoomTool\"},{\"attributes\":{},\"id\":\"4087\",\"type\":\"BasicTicker\"},{\"attributes\":{},\"id\":\"4123\",\"type\":\"AllLabels\"},{\"attributes\":{},\"id\":\"4082\",\"type\":\"LinearScale\"},{\"attributes\":{\"axis_label\":\"Hours (h)\",\"coordinates\":null,\"formatter\":{\"id\":\"4125\"},\"group\":null,\"major_label_policy\":{\"id\":\"4126\"},\"ticker\":{\"id\":\"4087\"}},\"id\":\"4086\",\"type\":\"LinearAxis\"},{\"attributes\":{\"source\":{\"id\":\"4134\"}},\"id\":\"4139\",\"type\":\"CDSView\"},{\"attributes\":{\"coordinates\":null,\"data_source\":{\"id\":\"4134\"},\"glyph\":{\"id\":\"4135\"},\"group\":null,\"hover_glyph\":null,\"muted_glyph\":{\"id\":\"4137\"},\"nonselection_glyph\":{\"id\":\"4136\"},\"view\":{\"id\":\"4139\"}},\"id\":\"4138\",\"type\":\"GlyphRenderer\"},{\"attributes\":{\"coordinates\":null,\"group\":null,\"text\":\"Histogram of Hours of Sleep\"},\"id\":\"4076\",\"type\":\"Title\"},{\"attributes\":{\"bottom\":{\"value\":0},\"fill_alpha\":{\"value\":0.2},\"fill_color\":{\"value\":\"green\"},\"hatch_alpha\":{\"value\":0.2},\"left\":{\"field\":\"left\"},\"line_alpha\":{\"value\":0.2},\"line_color\":{\"value\":\"white\"},\"right\":{\"field\":\"right\"},\"top\":{\"field\":\"top\"}},\"id\":\"4111\",\"type\":\"Quad\"},{\"attributes\":{},\"id\":\"4080\",\"type\":\"DataRange1d\"},{\"attributes\":{\"bottom\":{\"value\":0},\"fill_alpha\":{\"value\":0.1},\"fill_color\":{\"value\":\"green\"},\"hatch_alpha\":{\"value\":0.1},\"left\":{\"field\":\"left\"},\"line_alpha\":{\"value\":0.1},\"line_color\":{\"value\":\"white\"},\"right\":{\"field\":\"right\"},\"top\":{\"field\":\"top\"}},\"id\":\"4110\",\"type\":\"Quad\"},{\"attributes\":{},\"id\":\"4174\",\"type\":\"UnionRenderers\"},{\"attributes\":{\"label\":{\"value\":\"Probability Density Function\"},\"renderers\":[{\"id\":\"4159\"}]},\"id\":\"4177\",\"type\":\"LegendItem\"},{\"attributes\":{},\"id\":\"4125\",\"type\":\"BasicTickFormatter\"},{\"attributes\":{\"data\":{\"left\":{\"__ndarray__\":\"AAAAAAAAEECamZmZmZkRQDMzMzMzMxNAzczMzMzMFEBmZmZmZmYWQAAAAAAAABhAmpmZmZmZGUA0MzMzMzMbQM3MzMzMzBxAZmZmZmZmHkAAAAAAAAAgQM3MzMzMzCBAmpmZmZmZIUBmZmZmZmYiQDQzMzMzMyNA\",\"dtype\":\"float64\",\"order\":\"little\",\"shape\":[15]},\"right\":{\"__ndarray__\":\"mpmZmZmZEUAzMzMzMzMTQM3MzMzMzBRAZmZmZmZmFkAAAAAAAAAYQJqZmZmZmRlANDMzMzMzG0DNzMzMzMwcQGZmZmZmZh5AAAAAAAAAIEDNzMzMzMwgQJqZmZmZmSFAZmZmZmZmIkA0MzMzMzMjQAAAAAAAACRA\",\"dtype\":\"float64\",\"order\":\"little\",\"shape\":[15]},\"top\":{\"__ndarray__\":\"k5mZmZmZuT8AAAAAAAAAAC8zMzMzM9M/AAAAAAAAAAAAAAAAAAAAAC8zMzMzM+M/AAAAAAAAAAAKAAAAAADsPwAAAAAAAAAAAAAAAAAAAACTmZmZmZnZPwAAAAAAAAAAs5mZmZmZyT8AAAAAAAAAALOZmZmZmZk/\",\"dtype\":\"float64\",\"order\":\"little\",\"shape\":[15]}},\"selected\":{\"id\":\"4128\"},\"selection_policy\":{\"id\":\"4127\"}},\"id\":\"4108\",\"type\":\"ColumnDataSource\"},{\"attributes\":{},\"id\":\"4078\",\"type\":\"DataRange1d\"},{\"attributes\":{\"label\":{\"value\":\"Average\"},\"renderers\":[{\"id\":\"4118\"}]},\"id\":\"4133\",\"type\":\"LegendItem\"},{\"attributes\":{},\"id\":\"4084\",\"type\":\"LinearScale\"},{\"attributes\":{},\"id\":\"4122\",\"type\":\"BasicTickFormatter\"},{\"attributes\":{},\"id\":\"4129\",\"type\":\"UnionRenderers\"},{\"attributes\":{\"source\":{\"id\":\"4108\"}},\"id\":\"4113\",\"type\":\"CDSView\"},{\"attributes\":{\"axis\":{\"id\":\"4086\"},\"coordinates\":null,\"group\":null,\"ticker\":null},\"id\":\"4089\",\"type\":\"Grid\"},{\"attributes\":{\"coordinates\":null,\"group\":null,\"items\":[{\"id\":\"4133\"},{\"id\":\"4154\"},{\"id\":\"4177\"}]},\"id\":\"4132\",\"type\":\"Legend\"},{\"attributes\":{},\"id\":\"4152\",\"type\":\"Selection\"},{\"attributes\":{\"coordinates\":null,\"data_source\":{\"id\":\"4108\"},\"glyph\":{\"id\":\"4109\"},\"group\":null,\"hover_glyph\":null,\"muted_glyph\":{\"id\":\"4111\"},\"nonselection_glyph\":{\"id\":\"4110\"},\"view\":{\"id\":\"4113\"}},\"id\":\"4112\",\"type\":\"GlyphRenderer\"},{\"attributes\":{\"line_alpha\":0.1,\"line_color\":\"#C58940\",\"line_dash\":[6],\"x\":{\"field\":\"x\"},\"y\":{\"field\":\"y\"}},\"id\":\"4136\",\"type\":\"Line\"},{\"attributes\":{\"line_alpha\":0.2,\"line_color\":\"#009E73\",\"line_dash\":[6],\"x\":{\"field\":\"x\"},\"y\":{\"field\":\"y\"}},\"id\":\"4117\",\"type\":\"Line\"},{\"attributes\":{\"line_color\":\"navy\",\"x\":{\"field\":\"x\"},\"y\":{\"field\":\"y\"}},\"id\":\"4156\",\"type\":\"Line\"},{\"attributes\":{\"label\":{\"value\":\"Robust estimate\"},\"renderers\":[{\"id\":\"4138\"}]},\"id\":\"4154\",\"type\":\"LegendItem\"},{\"attributes\":{\"bottom\":{\"value\":0},\"fill_alpha\":{\"value\":0.4},\"fill_color\":{\"value\":\"green\"},\"hatch_alpha\":{\"value\":0.4},\"left\":{\"field\":\"left\"},\"line_alpha\":{\"value\":0.4},\"line_color\":{\"value\":\"white\"},\"right\":{\"field\":\"right\"},\"top\":{\"field\":\"top\"}},\"id\":\"4109\",\"type\":\"Quad\"},{\"attributes\":{\"source\":{\"id\":\"4155\"}},\"id\":\"4160\",\"type\":\"CDSView\"},{\"attributes\":{\"line_alpha\":0.1,\"line_color\":\"#009E73\",\"line_dash\":[6],\"x\":{\"field\":\"x\"},\"y\":{\"field\":\"y\"}},\"id\":\"4116\",\"type\":\"Line\"}],\"root_ids\":[\"4075\"]},\"title\":\"Bokeh Application\",\"version\":\"2.4.2\"}};\n",
       "  const render_items = [{\"docid\":\"ac308d29-00c8-45a6-be92-0b4518d6cc57\",\"root_ids\":[\"4075\"],\"roots\":{\"4075\":\"bb3ef705-6ac6-4000-b8fd-62a633c29d4d\"}}];\n",
       "  root.Bokeh.embed.embed_items_notebook(docs_json, render_items);\n",
       "\n",
       "  }\n",
       "  if (root.Bokeh !== undefined) {\n",
       "    embed_document(root);\n",
       "  } else {\n",
       "    let attempts = 0;\n",
       "    const timer = setInterval(function(root) {\n",
       "      if (root.Bokeh !== undefined) {\n",
       "        clearInterval(timer);\n",
       "        embed_document(root);\n",
       "      } else {\n",
       "        attempts++;\n",
       "        if (attempts > 100) {\n",
       "          clearInterval(timer);\n",
       "          console.log(\"Bokeh: ERROR: Unable to run BokehJS code because BokehJS library is missing\");\n",
       "        }\n",
       "      }\n",
       "    }, 10, root)\n",
       "  }\n",
       "})(window);"
      ],
      "application/vnd.bokehjs_exec.v0+json": ""
     },
     "metadata": {
      "application/vnd.bokehjs_exec.v0+json": {
       "id": "4075"
      }
     },
     "output_type": "display_data"
    }
   ],
   "source": [
    "hist, edges = np.histogram(data_filtered['Hours'], \n",
    "                           bins = 15,\n",
    "                           density=True)\n",
    "\n",
    "p = figure(plot_height = 600, plot_width = 600, \n",
    "           title = 'Histogram of Hours of Sleep',\n",
    "           x_axis_label = 'Hours (h)', \n",
    "           y_axis_label = 'Number of records')\n",
    "\n",
    "p.quad(bottom=0, top=hist, \n",
    "       left=edges[:-1], right=edges[1:], \n",
    "       fill_color='green', line_color=\"white\", alpha=0.4)\n",
    "\n",
    "\n",
    "#vertical line at the position of the average\n",
    "mu = data_filtered['Hours'].mean()\n",
    "p.line([mu, mu], [0, 1], legend_label=\"Average\", line_dash='dashed', line_color=\"#009E73\")\n",
    "\n",
    "#Add a vertical line for the robust estimation \n",
    "mu_R = data_filtered['Hours'].median()\n",
    "p.line([mu_R, mu_R], [0, 1], legend_label=\"Robust estimate\", line_dash='dashed', line_color=\"#C58940\")\n",
    "\n",
    "#Add the normal distribution line to the plot\n",
    "x = np.linspace(np.min(data_filtered['Hours']), np.max(data_filtered['Hours']), 501)\n",
    "s = np.std(data_filtered['Hours'], ddof=1)\n",
    "rv = np.array([norm.pdf(xi, loc = mu, scale = s) for xi in x])\n",
    "p.line(x, rv, line_width=1, line_color=\"navy\", legend_label=\"Probability Density Function\")\n",
    "\n",
    "\n",
    "# Show the plot\n",
    "show(p)"
   ]
  },
  {
   "cell_type": "markdown",
   "metadata": {},
   "source": [
    "The distribution for hours asleep was checked both visually and statistically. Comparing normal distribution to experimental frequency distribution shows us that our value are far from normal distribution. Shapiro-Wilk test confirms histogram results: p-value 7.15e-5 is way smaller than 0.05, thus rejecting the hypothesis of distribution being normal.  \n",
    "If we delete outlier, 2 hours of sleep, we will get closer to the normal distribution (p-value will be 2.9e-4), but still it won't be normally distributed.\n"
   ]
  },
  {
   "cell_type": "markdown",
   "metadata": {},
   "source": [
    "<a name='ex-32'></a>\n",
    "### Check homogeneity of variance (20 pt)\n",
    "\n",
    "<ul><li>\n",
    "Use boxplots for the check of homoegeneity of variance. Do you want the full points? Plot with bokeh!</li>\n",
    "\n",
    "<li>Use a Levene’s & Bartlett’s Test of Equality (Homogeneity) of Variance to test equal variance statistically</li><ul>"
   ]
  },
  {
   "cell_type": "code",
   "execution_count": 79,
   "metadata": {},
   "outputs": [
    {
     "data": {
      "text/plain": [
       "<AxesSubplot:xlabel='Tired', ylabel='Hours'>"
      ]
     },
     "execution_count": 79,
     "metadata": {},
     "output_type": "execute_result"
    },
    {
     "data": {
      "image/png": "[encoded data removed]",
      "text/plain": [
       "<Figure size 864x504 with 1 Axes>"
      ]
     },
     "metadata": {
      "needs_background": "light"
     },
     "output_type": "display_data"
    }
   ],
   "source": [
    "# boxplot on hours asleep based on tiredness and having breakfast\n",
    "plt.figure(figsize = (12,7))\n",
    "sns.boxplot(x='Tired', y='Hours', hue='Breakfast', data=data)"
   ]
  },
  {
   "cell_type": "code",
   "execution_count": 80,
   "metadata": {},
   "outputs": [
    {
     "data": {
      "text/plain": [
       "<AxesSubplot:xlabel='Breakfast', ylabel='Hours'>"
      ]
     },
     "execution_count": 80,
     "metadata": {},
     "output_type": "execute_result"
    },
    {
     "data": {
      "image/png": "[encoded data removed]",
      "text/plain": [
       "<Figure size 576x360 with 1 Axes>"
      ]
     },
     "metadata": {
      "needs_background": "light"
     },
     "output_type": "display_data"
    }
   ],
   "source": [
    "# your code to plot here\n",
    "#boxplot for data grouped by Breakfast\n",
    "plt.figure(figsize = (8,5))\n",
    "sns.boxplot(x='Breakfast', y='Hours', data=data)"
   ]
  },
  {
   "cell_type": "code",
   "execution_count": 81,
   "metadata": {},
   "outputs": [
    {
     "data": {
      "text/plain": [
       "1    61\n",
       "0    41\n",
       "Name: Breakfast, dtype: int64"
      ]
     },
     "execution_count": 81,
     "metadata": {},
     "output_type": "execute_result"
    }
   ],
   "source": [
    "data['Breakfast'].value_counts()"
   ]
  },
  {
   "cell_type": "code",
   "execution_count": 82,
   "metadata": {},
   "outputs": [
    {
     "name": "stdout",
     "output_type": "stream",
     "text": [
      "p-value: 0.29695502343069974\n",
      "We do not reject the null hypothesis, stating that the variance among groups is equal\n"
     ]
    }
   ],
   "source": [
    "# your code for the statistical test here\n",
    "#Levene's test for data grouped by Breakfast\n",
    "w_stats, p_value = levene(data[data['Breakfast']==0]['Hours'],data[data['Breakfast']==1]['Hours'], center ='mean')\n",
    "print('p-value:', p_value) \n",
    "\n",
    "if p_value > alpha :\n",
    "  print(\"We do not reject the null hypothesis, stating that the variance among groups is equal\")\n",
    "else:\n",
    "  print(\"Reject the Null Hypothesis, stating that the variance among groups is equal\")"
   ]
  },
  {
   "cell_type": "code",
   "execution_count": 83,
   "metadata": {},
   "outputs": [
    {
     "data": {
      "text/plain": [
       "BartlettResult(statistic=1.937289880736242, pvalue=0.16396309698862105)"
      ]
     },
     "execution_count": 83,
     "metadata": {},
     "output_type": "execute_result"
    }
   ],
   "source": [
    "#Bartlett's test for data grouped by Breakfast\n",
    "st.bartlett(data[data['Breakfast']==0]['Hours'],data[data['Breakfast']==1]['Hours'])"
   ]
  },
  {
   "cell_type": "markdown",
   "metadata": {},
   "source": [
    "We divided our data in two groups, those who had breakfast and who did not. However, the two groups differ size-wise. People who had breakfast have more sleep variance. The median for both groups is pretty much the same.  \n",
    "Statistical tests (Levene's and Bartlett's) confirmed taht there are not enough evidence that the groups have different variances.  \n",
    "However, Bartlett's test is sensitive to deviations from normality. By verifying results to results from Levene's test we can be sure that they are not false positive. "
   ]
  },
  {
   "cell_type": "markdown",
   "metadata": {},
   "source": [
    "---"
   ]
  },
  {
   "cell_type": "markdown",
   "metadata": {},
   "source": [
    "<a name='3'></a>\n",
    "## Part 4: Prepare your data (10 pt)\n",
    "\n",
    "Create a dataframe with equal samplesize. Make three categories for tireness 1-2 = no, 3 = maybe, 4-5 = yes"
   ]
  },
  {
   "cell_type": "code",
   "execution_count": 84,
   "metadata": {},
   "outputs": [
    {
     "data": {
      "text/html": [
       "<div>\n",
       "<style scoped>\n",
       "    .dataframe tbody tr th:only-of-type {\n",
       "        vertical-align: middle;\n",
       "    }\n",
       "\n",
       "    .dataframe tbody tr th {\n",
       "        vertical-align: top;\n",
       "    }\n",
       "\n",
       "    .dataframe thead th {\n",
       "        text-align: right;\n",
       "    }\n",
       "</style>\n",
       "<table border=\"1\" class=\"dataframe\">\n",
       "  <thead>\n",
       "    <tr style=\"text-align: right;\">\n",
       "      <th></th>\n",
       "      <th>Enough</th>\n",
       "      <th>Hours</th>\n",
       "      <th>PhoneReach</th>\n",
       "      <th>PhoneTime</th>\n",
       "      <th>Tired</th>\n",
       "      <th>Breakfast</th>\n",
       "    </tr>\n",
       "  </thead>\n",
       "  <tbody>\n",
       "    <tr>\n",
       "      <th>0</th>\n",
       "      <td>1</td>\n",
       "      <td>8.0</td>\n",
       "      <td>1</td>\n",
       "      <td>1</td>\n",
       "      <td>maybe</td>\n",
       "      <td>1</td>\n",
       "    </tr>\n",
       "    <tr>\n",
       "      <th>1</th>\n",
       "      <td>0</td>\n",
       "      <td>6.0</td>\n",
       "      <td>1</td>\n",
       "      <td>1</td>\n",
       "      <td>maybe</td>\n",
       "      <td>0</td>\n",
       "    </tr>\n",
       "    <tr>\n",
       "      <th>2</th>\n",
       "      <td>1</td>\n",
       "      <td>6.0</td>\n",
       "      <td>1</td>\n",
       "      <td>1</td>\n",
       "      <td>no</td>\n",
       "      <td>1</td>\n",
       "    </tr>\n",
       "    <tr>\n",
       "      <th>3</th>\n",
       "      <td>0</td>\n",
       "      <td>7.0</td>\n",
       "      <td>1</td>\n",
       "      <td>1</td>\n",
       "      <td>yes</td>\n",
       "      <td>0</td>\n",
       "    </tr>\n",
       "    <tr>\n",
       "      <th>4</th>\n",
       "      <td>0</td>\n",
       "      <td>7.0</td>\n",
       "      <td>1</td>\n",
       "      <td>1</td>\n",
       "      <td>no</td>\n",
       "      <td>1</td>\n",
       "    </tr>\n",
       "  </tbody>\n",
       "</table>\n",
       "</div>"
      ],
      "text/plain": [
       "   Enough  Hours  PhoneReach  PhoneTime  Tired  Breakfast\n",
       "0       1    8.0           1          1  maybe          1\n",
       "1       0    6.0           1          1  maybe          0\n",
       "2       1    6.0           1          1     no          1\n",
       "3       0    7.0           1          1    yes          0\n",
       "4       0    7.0           1          1     no          1"
      ]
     },
     "execution_count": 84,
     "metadata": {},
     "output_type": "execute_result"
    }
   ],
   "source": [
    "#your solution here\n",
    "data['Tired'] = data['Tired'].map({1:'no', 2:'no', 3:'maybe', 4:'yes', 5:'yes'})\n",
    "    \n",
    "data.head()"
   ]
  },
  {
   "cell_type": "code",
   "execution_count": 97,
   "metadata": {},
   "outputs": [
    {
     "data": {
      "text/plain": [
       "1    61\n",
       "0    41\n",
       "Name: Breakfast, dtype: int64"
      ]
     },
     "execution_count": 97,
     "metadata": {},
     "output_type": "execute_result"
    }
   ],
   "source": [
    "data['Breakfast'].value_counts()"
   ]
  },
  {
   "cell_type": "code",
   "execution_count": 87,
   "metadata": {},
   "outputs": [
    {
     "data": {
      "text/plain": [
       "maybe    39\n",
       "yes      33\n",
       "no       30\n",
       "Name: Tired, dtype: int64"
      ]
     },
     "execution_count": 87,
     "metadata": {},
     "output_type": "execute_result"
    }
   ],
   "source": [
    "data['Tired'].value_counts()"
   ]
  },
  {
   "cell_type": "code",
   "execution_count": 99,
   "metadata": {},
   "outputs": [
    {
     "data": {
      "text/html": [
       "<div>\n",
       "<style scoped>\n",
       "    .dataframe tbody tr th:only-of-type {\n",
       "        vertical-align: middle;\n",
       "    }\n",
       "\n",
       "    .dataframe tbody tr th {\n",
       "        vertical-align: top;\n",
       "    }\n",
       "\n",
       "    .dataframe thead th {\n",
       "        text-align: right;\n",
       "    }\n",
       "</style>\n",
       "<table border=\"1\" class=\"dataframe\">\n",
       "  <thead>\n",
       "    <tr style=\"text-align: right;\">\n",
       "      <th></th>\n",
       "      <th></th>\n",
       "      <th>Enough</th>\n",
       "      <th>Hours</th>\n",
       "      <th>PhoneReach</th>\n",
       "      <th>PhoneTime</th>\n",
       "      <th>Tired</th>\n",
       "      <th>Breakfast</th>\n",
       "    </tr>\n",
       "    <tr>\n",
       "      <th>Breakfast</th>\n",
       "      <th></th>\n",
       "      <th></th>\n",
       "      <th></th>\n",
       "      <th></th>\n",
       "      <th></th>\n",
       "      <th></th>\n",
       "      <th></th>\n",
       "    </tr>\n",
       "  </thead>\n",
       "  <tbody>\n",
       "    <tr>\n",
       "      <th rowspan=\"5\" valign=\"top\">0</th>\n",
       "      <th>38</th>\n",
       "      <td>0</td>\n",
       "      <td>5.0</td>\n",
       "      <td>1</td>\n",
       "      <td>0</td>\n",
       "      <td>yes</td>\n",
       "      <td>0</td>\n",
       "    </tr>\n",
       "    <tr>\n",
       "      <th>62</th>\n",
       "      <td>0</td>\n",
       "      <td>2.0</td>\n",
       "      <td>0</td>\n",
       "      <td>0</td>\n",
       "      <td>yes</td>\n",
       "      <td>0</td>\n",
       "    </tr>\n",
       "    <tr>\n",
       "      <th>59</th>\n",
       "      <td>1</td>\n",
       "      <td>7.0</td>\n",
       "      <td>1</td>\n",
       "      <td>1</td>\n",
       "      <td>no</td>\n",
       "      <td>0</td>\n",
       "    </tr>\n",
       "    <tr>\n",
       "      <th>32</th>\n",
       "      <td>0</td>\n",
       "      <td>6.0</td>\n",
       "      <td>1</td>\n",
       "      <td>1</td>\n",
       "      <td>yes</td>\n",
       "      <td>0</td>\n",
       "    </tr>\n",
       "    <tr>\n",
       "      <th>63</th>\n",
       "      <td>0</td>\n",
       "      <td>8.0</td>\n",
       "      <td>1</td>\n",
       "      <td>1</td>\n",
       "      <td>yes</td>\n",
       "      <td>0</td>\n",
       "    </tr>\n",
       "  </tbody>\n",
       "</table>\n",
       "</div>"
      ],
      "text/plain": [
       "              Enough  Hours  PhoneReach  PhoneTime Tired  Breakfast\n",
       "Breakfast                                                          \n",
       "0         38       0    5.0           1          0   yes          0\n",
       "          62       0    2.0           0          0   yes          0\n",
       "          59       1    7.0           1          1    no          0\n",
       "          32       0    6.0           1          1   yes          0\n",
       "          63       0    8.0           1          1   yes          0"
      ]
     },
     "execution_count": 99,
     "metadata": {},
     "output_type": "execute_result"
    }
   ],
   "source": [
    "# same sample size for data grouped by breakfast\n",
    "data_grouped_breakfast = data.groupby('Breakfast').apply(lambda x: x.sample(40))\n",
    "data_grouped_breakfast.head()"
   ]
  },
  {
   "cell_type": "code",
   "execution_count": 100,
   "metadata": {},
   "outputs": [
    {
     "data": {
      "text/html": [
       "<div>\n",
       "<style scoped>\n",
       "    .dataframe tbody tr th:only-of-type {\n",
       "        vertical-align: middle;\n",
       "    }\n",
       "\n",
       "    .dataframe tbody tr th {\n",
       "        vertical-align: top;\n",
       "    }\n",
       "\n",
       "    .dataframe thead th {\n",
       "        text-align: right;\n",
       "    }\n",
       "</style>\n",
       "<table border=\"1\" class=\"dataframe\">\n",
       "  <thead>\n",
       "    <tr style=\"text-align: right;\">\n",
       "      <th></th>\n",
       "      <th></th>\n",
       "      <th>Enough</th>\n",
       "      <th>Hours</th>\n",
       "      <th>PhoneReach</th>\n",
       "      <th>PhoneTime</th>\n",
       "      <th>Tired</th>\n",
       "      <th>Breakfast</th>\n",
       "    </tr>\n",
       "    <tr>\n",
       "      <th>Tired</th>\n",
       "      <th></th>\n",
       "      <th></th>\n",
       "      <th></th>\n",
       "      <th></th>\n",
       "      <th></th>\n",
       "      <th></th>\n",
       "      <th></th>\n",
       "    </tr>\n",
       "  </thead>\n",
       "  <tbody>\n",
       "    <tr>\n",
       "      <th rowspan=\"5\" valign=\"top\">maybe</th>\n",
       "      <th>22</th>\n",
       "      <td>0</td>\n",
       "      <td>5.0</td>\n",
       "      <td>1</td>\n",
       "      <td>0</td>\n",
       "      <td>maybe</td>\n",
       "      <td>1</td>\n",
       "    </tr>\n",
       "    <tr>\n",
       "      <th>69</th>\n",
       "      <td>0</td>\n",
       "      <td>6.0</td>\n",
       "      <td>1</td>\n",
       "      <td>1</td>\n",
       "      <td>maybe</td>\n",
       "      <td>1</td>\n",
       "    </tr>\n",
       "    <tr>\n",
       "      <th>56</th>\n",
       "      <td>0</td>\n",
       "      <td>6.0</td>\n",
       "      <td>1</td>\n",
       "      <td>1</td>\n",
       "      <td>maybe</td>\n",
       "      <td>0</td>\n",
       "    </tr>\n",
       "    <tr>\n",
       "      <th>103</th>\n",
       "      <td>1</td>\n",
       "      <td>6.0</td>\n",
       "      <td>1</td>\n",
       "      <td>1</td>\n",
       "      <td>maybe</td>\n",
       "      <td>1</td>\n",
       "    </tr>\n",
       "    <tr>\n",
       "      <th>34</th>\n",
       "      <td>0</td>\n",
       "      <td>7.0</td>\n",
       "      <td>0</td>\n",
       "      <td>1</td>\n",
       "      <td>maybe</td>\n",
       "      <td>1</td>\n",
       "    </tr>\n",
       "    <tr>\n",
       "      <th>...</th>\n",
       "      <th>...</th>\n",
       "      <td>...</td>\n",
       "      <td>...</td>\n",
       "      <td>...</td>\n",
       "      <td>...</td>\n",
       "      <td>...</td>\n",
       "      <td>...</td>\n",
       "    </tr>\n",
       "    <tr>\n",
       "      <th rowspan=\"5\" valign=\"top\">yes</th>\n",
       "      <th>90</th>\n",
       "      <td>0</td>\n",
       "      <td>7.0</td>\n",
       "      <td>0</td>\n",
       "      <td>1</td>\n",
       "      <td>yes</td>\n",
       "      <td>1</td>\n",
       "    </tr>\n",
       "    <tr>\n",
       "      <th>63</th>\n",
       "      <td>0</td>\n",
       "      <td>8.0</td>\n",
       "      <td>1</td>\n",
       "      <td>1</td>\n",
       "      <td>yes</td>\n",
       "      <td>0</td>\n",
       "    </tr>\n",
       "    <tr>\n",
       "      <th>20</th>\n",
       "      <td>0</td>\n",
       "      <td>2.0</td>\n",
       "      <td>1</td>\n",
       "      <td>1</td>\n",
       "      <td>yes</td>\n",
       "      <td>0</td>\n",
       "    </tr>\n",
       "    <tr>\n",
       "      <th>86</th>\n",
       "      <td>0</td>\n",
       "      <td>9.0</td>\n",
       "      <td>0</td>\n",
       "      <td>1</td>\n",
       "      <td>yes</td>\n",
       "      <td>1</td>\n",
       "    </tr>\n",
       "    <tr>\n",
       "      <th>87</th>\n",
       "      <td>0</td>\n",
       "      <td>5.0</td>\n",
       "      <td>1</td>\n",
       "      <td>0</td>\n",
       "      <td>yes</td>\n",
       "      <td>1</td>\n",
       "    </tr>\n",
       "  </tbody>\n",
       "</table>\n",
       "<p>75 rows × 6 columns</p>\n",
       "</div>"
      ],
      "text/plain": [
       "           Enough  Hours  PhoneReach  PhoneTime  Tired  Breakfast\n",
       "Tired                                                            \n",
       "maybe 22        0    5.0           1          0  maybe          1\n",
       "      69        0    6.0           1          1  maybe          1\n",
       "      56        0    6.0           1          1  maybe          0\n",
       "      103       1    6.0           1          1  maybe          1\n",
       "      34        0    7.0           0          1  maybe          1\n",
       "...           ...    ...         ...        ...    ...        ...\n",
       "yes   90        0    7.0           0          1    yes          1\n",
       "      63        0    8.0           1          1    yes          0\n",
       "      20        0    2.0           1          1    yes          0\n",
       "      86        0    9.0           0          1    yes          1\n",
       "      87        0    5.0           1          0    yes          1\n",
       "\n",
       "[75 rows x 6 columns]"
      ]
     },
     "execution_count": 100,
     "metadata": {},
     "output_type": "execute_result"
    }
   ],
   "source": [
    "# same sample size for data grouped by tiredness\n",
    "data_grouped_tired = data.groupby('Tired').apply(lambda x: x.sample(25))\n",
    "data_grouped_tired"
   ]
  },
  {
   "cell_type": "markdown",
   "metadata": {},
   "source": [
    "---"
   ]
  },
  {
   "cell_type": "markdown",
   "metadata": {},
   "source": [
    "<a name='4'></a>\n",
    "## Part 5: Answer the research questions (20 pt)\n",
    "\n",
    "<details>    \n",
    "<summary>\n",
    "    <font size=\"3\" color=\"darkgreen\"><b>Hints</b></font>\n",
    "</summary>\n",
    "    <ul><li>use one-way ANOVA for research question 1</li>\n",
    "    <li>Use two-way ANOVA for research question 2</li>\n",
    "    <li>https://reneshbedre.github.io/blog/anova.html</li>\n",
    "</ul>\n",
    "</details>"
   ]
  },
  {
   "cell_type": "code",
   "execution_count": 101,
   "metadata": {},
   "outputs": [],
   "source": [
    "breafast_yes = breakfast[breakfast['Breakfast']==1]\n",
    "breafast_no = breakfast[breakfast['Breakfast']==0]"
   ]
  },
  {
   "cell_type": "code",
   "execution_count": 102,
   "metadata": {},
   "outputs": [
    {
     "data": {
      "text/plain": [
       "F_onewayResult(statistic=2.8574514038876893, pvalue=0.0949443573071602)"
      ]
     },
     "execution_count": 102,
     "metadata": {},
     "output_type": "execute_result"
    }
   ],
   "source": [
    "#Is there a difference in Hours asleep caused by having breakfast\n",
    "st.f_oneway(breafast_yes['Hours'], breafast_no['Hours'])"
   ]
  },
  {
   "cell_type": "markdown",
   "metadata": {},
   "source": [
    "The test results (p-value = 0.095 is bigger than 0.05) indicate that there is no significant difference between the means of groups of people who had or had not breakfast."
   ]
  },
  {
   "cell_type": "code",
   "execution_count": 105,
   "metadata": {},
   "outputs": [
    {
     "data": {
      "text/html": [
       "<div>\n",
       "<style scoped>\n",
       "    .dataframe tbody tr th:only-of-type {\n",
       "        vertical-align: middle;\n",
       "    }\n",
       "\n",
       "    .dataframe tbody tr th {\n",
       "        vertical-align: top;\n",
       "    }\n",
       "\n",
       "    .dataframe thead th {\n",
       "        text-align: right;\n",
       "    }\n",
       "</style>\n",
       "<table border=\"1\" class=\"dataframe\">\n",
       "  <thead>\n",
       "    <tr style=\"text-align: right;\">\n",
       "      <th></th>\n",
       "      <th>sum_sq</th>\n",
       "      <th>df</th>\n",
       "      <th>F</th>\n",
       "      <th>PR(&gt;F)</th>\n",
       "    </tr>\n",
       "  </thead>\n",
       "  <tbody>\n",
       "    <tr>\n",
       "      <th>C(Breakfast)</th>\n",
       "      <td>2.827822</td>\n",
       "      <td>1.0</td>\n",
       "      <td>1.395541</td>\n",
       "      <td>0.241527</td>\n",
       "    </tr>\n",
       "    <tr>\n",
       "      <th>C(Tired)</th>\n",
       "      <td>2.205968</td>\n",
       "      <td>2.0</td>\n",
       "      <td>0.544327</td>\n",
       "      <td>0.582703</td>\n",
       "    </tr>\n",
       "    <tr>\n",
       "      <th>C(Breakfast):C(Tired)</th>\n",
       "      <td>0.315667</td>\n",
       "      <td>2.0</td>\n",
       "      <td>0.077891</td>\n",
       "      <td>0.925146</td>\n",
       "    </tr>\n",
       "    <tr>\n",
       "      <th>Residual</th>\n",
       "      <td>139.816512</td>\n",
       "      <td>69.0</td>\n",
       "      <td>NaN</td>\n",
       "      <td>NaN</td>\n",
       "    </tr>\n",
       "  </tbody>\n",
       "</table>\n",
       "</div>"
      ],
      "text/plain": [
       "                           sum_sq    df         F    PR(>F)\n",
       "C(Breakfast)             2.827822   1.0  1.395541  0.241527\n",
       "C(Tired)                 2.205968   2.0  0.544327  0.582703\n",
       "C(Breakfast):C(Tired)    0.315667   2.0  0.077891  0.925146\n",
       "Residual               139.816512  69.0       NaN       NaN"
      ]
     },
     "execution_count": 105,
     "metadata": {},
     "output_type": "execute_result"
    }
   ],
   "source": [
    "#Is there a differences in Hours sleep caused by having breakfast and the tireness\n",
    "# ordinary least squares model\n",
    "model = ols(\n",
    "    'Hours ~ C(Breakfast) + C(Tired) +\\\n",
    "    C(Breakfast):C(Tired)', data=data_grouped_tired).fit()\n",
    "sm.stats.anova_lm(model, typ=2)"
   ]
  },
  {
   "cell_type": "markdown",
   "metadata": {},
   "source": [
    "The p-value for breakfast and tired is more than 0.05, so both factors have no significant effect on hours of sleep. The p-value of the interaction effect is almost 0.93, so there is also no significant interaction effect between having a breakfast and feeling tired."
   ]
  },
  {
   "cell_type": "markdown",
   "metadata": {},
   "source": [
    "---"
   ]
  },
  {
   "cell_type": "markdown",
   "metadata": {},
   "source": [
    "<a name='5'></a>\n",
    "## Part 6: Enhanced plotting (20 pt)\n",
    "\n",
    "Create a panel with 1) your dataframe with equal samplesize 2) a picture of a sleeping beauty, 3) the scatter plot of tired / hours of sleep with different colors for Breakfast from part 2 4) the boxplots given the p-value for the anova outcome in the title"
   ]
  },
  {
   "cell_type": "code",
   "execution_count": 15,
   "metadata": {},
   "outputs": [],
   "source": [
    "#your solution here"
   ]
  }
 ],
 "metadata": {
  "kernelspec": {
   "display_name": "Python 3 (ipykernel)",
   "language": "python",
   "name": "python3"
  },
  "language_info": {
   "codemirror_mode": {
    "name": "ipython",
    "version": 3
   },
   "file_extension": ".py",
   "mimetype": "text/x-python",
   "name": "python",
   "nbconvert_exporter": "python",
   "pygments_lexer": "ipython3",
   "version": "3.9.12"
  },
  "vscode": {
   "interpreter": {
    "hash": "aee8b7b246df8f9039afb4144a1f6fd8d2ca17a180786b69acc140d282b71a49"
   }
  }
 },
 "nbformat": 4,
 "nbformat_minor": 4
}
